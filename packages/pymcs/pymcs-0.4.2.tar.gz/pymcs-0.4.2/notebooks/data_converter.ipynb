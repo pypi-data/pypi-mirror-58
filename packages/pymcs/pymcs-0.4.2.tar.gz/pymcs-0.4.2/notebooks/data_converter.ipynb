{
 "cells": [
  {
   "cell_type": "code",
   "execution_count": null,
   "metadata": {},
   "outputs": [],
   "source": [
    "from pymcs.io import L2Reader\n",
    "from pathlib import Path\n",
    "from tqdm import tqdm_notebook as tqdm\n",
    "import pandas as pd"
   ]
  },
  {
   "cell_type": "code",
   "execution_count": null,
   "metadata": {},
   "outputs": [],
   "source": [
    "def get_list_of_hourfolders(daystring):\n",
    "    root = Path('/cabeus/data/mcs/level2')\n",
    "    dayfolder = root / daystring[:4]\n",
    "    return list(dayfolder.glob(f'{daystring}*'))\n",
    "\n",
    "get_list_of_hourfolders('080301')\n",
    "\n",
    "def get_hour_subfiles(subfolder='080301000000'):\n",
    "    base = Path('/cabeus/data/mcs/level2')\n",
    "    product = 'post2d_v*'\n",
    "    folder = base / subfolder[:4] / subfolder\n",
    "    try:\n",
    "        folder = list(folder.glob('post2d_v*'))[0]\n",
    "    except IndexError:\n",
    "        return None\n",
    "    filelist = sorted(list(folder.glob('*.out')))\n",
    "    return filelist\n",
    "\n",
    "get_hour_subfiles()[:5]\n",
    "\n",
    "def convert_4hfiles_to_df(subfolder, write=False):\n",
    "    filelist = get_hour_subfiles(subfolder)\n",
    "    if filelist is None:\n",
    "        return pd.DataFrame()\n",
    "    bucket = []\n",
    "    for f in filelist:\n",
    "        l2 = L2Reader(f)\n",
    "        bucket.append(l2.header.to_frame().T)\n",
    "    df = pd.concat(bucket)\n",
    "    if write:\n",
    "        df.to_parquet(subfolder.parent / f'{subfolder}.parquet')\n",
    "    return df\n",
    "\n",
    "def cols_to_numeric(df):\n",
    "    for col in df.columns:\n",
    "        df[col] = pd.to_numeric(df[col], errors='ignore')\n",
    "\n",
    "def convert_dayfiles_to_df(daystring, write=False):\n",
    "    hourfolders = get_list_of_hourfolders(daystring)\n",
    "    bucket = []\n",
    "    for folder in tqdm(hourfolders):\n",
    "        bucket.append(convert_4hfiles_to_df(folder.name))\n",
    "    df = pd.concat(bucket)\n",
    "    cols_to_numeric(df)\n",
    "    if write:\n",
    "        df.to_parquet(folder.parent / f'{daystring}.parquet')\n",
    "    return df\n",
    "\n",
    "def convert_month_to_df(month, write=True):\n",
    "    root = Path('/cabeus/data/mcs/level2')\n",
    "    base = root / month\n",
    "    folders = [item for item in base.glob('*') if item.is_dir()]\n",
    "    savename = folders[0].parent / f'{month}.parquet'\n",
    "    if savename.exists():\n",
    "        return pd.read_parquet(savename)\n",
    "    bucket = []\n",
    "    for folder in tqdm(folders):\n",
    "        bucket.append(convert_4hfiles_to_df(folder.name))\n",
    "    df = pd.concat(bucket)\n",
    "    cols_to_numeric(df)\n",
    "    if write:\n",
    "        df.to_parquet(folder.parent / f'{month}_header.parquet')\n",
    "    return len(df)\n",
    "\n",
    "from dask.distributed import Client, progress\n",
    "client = Client()\n",
    "client"
   ]
  },
  {
   "cell_type": "code",
   "execution_count": null,
   "metadata": {},
   "outputs": [],
   "source": [
    "base = Path('/cabeus/data/mcs/level2')\n",
    "months = [p.name for p in list(base.glob('*'))]"
   ]
  },
  {
   "cell_type": "code",
   "execution_count": null,
   "metadata": {},
   "outputs": [],
   "source": [
    "months[:5]"
   ]
  },
  {
   "cell_type": "code",
   "execution_count": null,
   "metadata": {},
   "outputs": [],
   "source": [
    "lazy_results = []"
   ]
  },
  {
   "cell_type": "code",
   "execution_count": null,
   "metadata": {},
   "outputs": [],
   "source": [
    "import dask"
   ]
  },
  {
   "cell_type": "code",
   "execution_count": null,
   "metadata": {},
   "outputs": [],
   "source": [
    "for month in months:\n",
    "    lazy_result = dask.delayed(convert_month_to_df)(month)\n",
    "    lazy_results.append(lazy_result)"
   ]
  },
  {
   "cell_type": "code",
   "execution_count": null,
   "metadata": {},
   "outputs": [],
   "source": [
    "lazy_results[0]"
   ]
  },
  {
   "cell_type": "code",
   "execution_count": null,
   "metadata": {},
   "outputs": [],
   "source": [
    "dask.compute(*lazy_results)"
   ]
  },
  {
   "cell_type": "markdown",
   "metadata": {},
   "source": [
    "## combine month parquets"
   ]
  },
  {
   "cell_type": "code",
   "execution_count": 84,
   "metadata": {},
   "outputs": [
    {
     "name": "stdout",
     "output_type": "stream",
     "text": [
      "/home/klay6683/src/pymcs/notebooks\n"
     ]
    }
   ],
   "source": [
    "!pwd"
   ]
  },
  {
   "cell_type": "code",
   "execution_count": null,
   "metadata": {},
   "outputs": [],
   "source": []
  }
 ],
 "metadata": {
  "kernelspec": {
   "display_name": "Python [conda env:py37] *",
   "language": "python",
   "name": "conda-env-py37-py"
  },
  "language_info": {
   "codemirror_mode": {
    "name": "ipython",
    "version": 3
   },
   "file_extension": ".py",
   "mimetype": "text/x-python",
   "name": "python",
   "nbconvert_exporter": "python",
   "pygments_lexer": "ipython3",
   "version": "3.7.3"
  },
  "widgets": {
   "application/vnd.jupyter.widget-state+json": {
    "state": {},
    "version_major": 2,
    "version_minor": 0
   }
  }
 },
 "nbformat": 4,
 "nbformat_minor": 4
}
