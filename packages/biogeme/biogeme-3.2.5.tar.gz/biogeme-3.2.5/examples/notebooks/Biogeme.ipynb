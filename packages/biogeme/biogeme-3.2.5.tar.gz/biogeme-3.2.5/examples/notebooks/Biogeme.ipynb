{
 "cells": [
  {
   "cell_type": "markdown",
   "metadata": {},
   "source": [
    "# class BIOGEME: examples of use of each function"
   ]
  },
  {
   "cell_type": "markdown",
   "metadata": {},
   "source": [
    "This webpage is for programmers who need examples of use of the functions of the class. The examples are designed to illustrate the syntax. They do not correspond to any meaningful model. For examples of models, visit  [biogeme.epfl.ch](http://biogeme.epfl.ch)."
   ]
  },
  {
   "cell_type": "code",
   "execution_count": 1,
   "metadata": {},
   "outputs": [
    {
     "name": "stdout",
     "output_type": "stream",
     "text": [
      "2019-12-29 21:15:43.050983\n"
     ]
    }
   ],
   "source": [
    "import datetime\n",
    "print(datetime.datetime.now())"
   ]
  },
  {
   "cell_type": "code",
   "execution_count": 2,
   "metadata": {},
   "outputs": [
    {
     "name": "stdout",
     "output_type": "stream",
     "text": [
      "biogeme 3.2.5 [2019-12-29]\n",
      "Version entirely written in Python\n",
      "Home page: http://biogeme.epfl.ch\n",
      "Submit questions to https://groups.google.com/d/forum/biogeme\n",
      "Michel Bierlaire, Transport and Mobility Laboratory, Ecole Polytechnique Fédérale de Lausanne (EPFL)\n",
      "\n"
     ]
    }
   ],
   "source": [
    "import biogeme.version as ver\n",
    "print(ver.getText())"
   ]
  },
  {
   "cell_type": "code",
   "execution_count": 3,
   "metadata": {},
   "outputs": [],
   "source": [
    "import biogeme.biogeme as bio\n",
    "import biogeme.database as db\n",
    "import pandas as pd\n",
    "import numpy as np\n",
    "from biogeme.expressions import Beta, Variable, exp"
   ]
  },
  {
   "cell_type": "markdown",
   "metadata": {},
   "source": [
    "Define the verbosity of Biogeme"
   ]
  },
  {
   "cell_type": "code",
   "execution_count": 4,
   "metadata": {},
   "outputs": [],
   "source": [
    "import biogeme.messaging as msg\n",
    "logger = msg.bioMessage()\n",
    "logger.setDetailed()"
   ]
  },
  {
   "cell_type": "markdown",
   "metadata": {},
   "source": [
    "##  Definition of a database"
   ]
  },
  {
   "cell_type": "code",
   "execution_count": 5,
   "metadata": {},
   "outputs": [],
   "source": [
    "df = pd.DataFrame({'Person':[1,1,1,2,2],\n",
    "                   'Exclude':[0,0,1,0,1],\n",
    "                   'Variable1':[1,2,3,4,5],\n",
    "                   'Variable2':[10,20,30,40,50],\n",
    "                   'Choice':[1,2,3,1,2],\n",
    "                   'Av1':[0,1,1,1,1],\n",
    "                   'Av2':[1,1,1,1,1],\n",
    "                   'Av3':[0,1,1,1,1]})\n",
    "myData = db.Database('test',df)"
   ]
  },
  {
   "cell_type": "markdown",
   "metadata": {},
   "source": [
    "## Definition of various expressions"
   ]
  },
  {
   "cell_type": "code",
   "execution_count": 6,
   "metadata": {},
   "outputs": [],
   "source": [
    "Variable1=Variable('Variable1')\n",
    "Variable2=Variable('Variable2')\n",
    "beta1 = Beta('beta1',-1.0,-3,3,0)\n",
    "beta2 = Beta('beta2',2.0,-3,10,0)\n",
    "likelihood = -beta1**2 * Variable1 - exp(beta2*beta1) * Variable2 - beta2**4\n",
    "simul = beta1 / Variable1 + beta2 / Variable2\n",
    "dictOfExpressions = {'loglike':likelihood,'beta1':beta1,'simul':simul}"
   ]
  },
  {
   "cell_type": "markdown",
   "metadata": {},
   "source": [
    "## Creation of the BIOGEME object"
   ]
  },
  {
   "cell_type": "code",
   "execution_count": 7,
   "metadata": {},
   "outputs": [
    {
     "name": "stdout",
     "output_type": "stream",
     "text": [
      "[21:15:44] < General >   Remove 6 unused variables from the database as only 2 are used.\n",
      "simpleExample: database [test]{'loglike': ((((-(beta1(-1.0) ** `2`)) * Variable1) - (exp((beta2(2.0) * beta1(-1.0))) * Variable2)) - (beta2(2.0) ** `4`)), 'beta1': beta1(-1.0), 'simul': ((beta1(-1.0) / Variable1) + (beta2(2.0) / Variable2))}\n",
      "simpleExample: database [test]{'loglike': ((((-(beta1(-1.0) ** `2`)) * Variable1) - (exp((beta2(2.0) * beta1(-1.0))) * Variable2)) - (beta2(2.0) ** `4`)), 'beta1': beta1(-1.0), 'simul': ((beta1(-1.0) / Variable1) + (beta2(2.0) / Variable2))}\n"
     ]
    }
   ],
   "source": [
    "myBiogeme = bio.BIOGEME(myData,dictOfExpressions)\n",
    "myBiogeme.modelName = 'simpleExample'\n",
    "print(myBiogeme)"
   ]
  },
  {
   "cell_type": "markdown",
   "metadata": {},
   "source": [
    "Note that, by default, Biogeme removes the unused variables from the database to optimize space."
   ]
  },
  {
   "cell_type": "code",
   "execution_count": 8,
   "metadata": {},
   "outputs": [
    {
     "data": {
      "text/plain": [
       "Index(['Person', 'Exclude', 'Variable1', 'Variable2', 'Choice', 'Av1', 'Av2',\n",
       "       'Av3'],\n",
       "      dtype='object')"
      ]
     },
     "execution_count": 8,
     "metadata": {},
     "output_type": "execute_result"
    }
   ],
   "source": [
    "myBiogeme.database.data.columns"
   ]
  },
  {
   "cell_type": "markdown",
   "metadata": {},
   "source": [
    "## calculateInitLikelihood"
   ]
  },
  {
   "cell_type": "code",
   "execution_count": 9,
   "metadata": {},
   "outputs": [
    {
     "name": "stdout",
     "output_type": "stream",
     "text": [
      "[21:15:44] < General >   Log likelihood (N=5):  -115.3003\n"
     ]
    },
    {
     "data": {
      "text/plain": [
       "-115.30029248549191"
      ]
     },
     "execution_count": 9,
     "metadata": {},
     "output_type": "execute_result"
    }
   ],
   "source": [
    "myBiogeme.calculateInitLikelihood()"
   ]
  },
  {
   "cell_type": "markdown",
   "metadata": {},
   "source": [
    "## calculateLikelihood"
   ]
  },
  {
   "cell_type": "code",
   "execution_count": 10,
   "metadata": {},
   "outputs": [
    {
     "name": "stdout",
     "output_type": "stream",
     "text": [
      "[0.0, 3.0]\n"
     ]
    }
   ],
   "source": [
    "x = myBiogeme.betaInitValues\n",
    "xplus = [v+1 for v in x]\n",
    "print(xplus)"
   ]
  },
  {
   "cell_type": "code",
   "execution_count": 11,
   "metadata": {},
   "outputs": [
    {
     "name": "stdout",
     "output_type": "stream",
     "text": [
      "[21:15:44] < General >   Log likelihood (N=5):       -555\n"
     ]
    },
    {
     "data": {
      "text/plain": [
       "-111.0"
      ]
     },
     "execution_count": 11,
     "metadata": {},
     "output_type": "execute_result"
    }
   ],
   "source": [
    "myBiogeme.calculateLikelihood(xplus,scaled=True)"
   ]
  },
  {
   "cell_type": "markdown",
   "metadata": {},
   "source": [
    "It is possible to calculate the likelihood based only on a sample of the data"
   ]
  },
  {
   "cell_type": "code",
   "execution_count": 12,
   "metadata": {},
   "outputs": [
    {
     "name": "stdout",
     "output_type": "stream",
     "text": [
      "[21:15:44] < Detailed >  Use 50.0% of the data.\n",
      "[21:15:44] < General >   Log likelihood (N=2):       -232\n"
     ]
    },
    {
     "data": {
      "text/plain": [
       "-116.0"
      ]
     },
     "execution_count": 12,
     "metadata": {},
     "output_type": "execute_result"
    }
   ],
   "source": [
    "myBiogeme.calculateLikelihood(xplus, scaled=True, batch=0.5)"
   ]
  },
  {
   "cell_type": "code",
   "execution_count": 13,
   "metadata": {},
   "outputs": [
    {
     "data": {
      "text/html": [
       "<div>\n",
       "<style scoped>\n",
       "    .dataframe tbody tr th:only-of-type {\n",
       "        vertical-align: middle;\n",
       "    }\n",
       "\n",
       "    .dataframe tbody tr th {\n",
       "        vertical-align: top;\n",
       "    }\n",
       "\n",
       "    .dataframe thead th {\n",
       "        text-align: right;\n",
       "    }\n",
       "</style>\n",
       "<table border=\"1\" class=\"dataframe\">\n",
       "  <thead>\n",
       "    <tr style=\"text-align: right;\">\n",
       "      <th></th>\n",
       "      <th>Person</th>\n",
       "      <th>Exclude</th>\n",
       "      <th>Variable1</th>\n",
       "      <th>Variable2</th>\n",
       "      <th>Choice</th>\n",
       "      <th>Av1</th>\n",
       "      <th>Av2</th>\n",
       "      <th>Av3</th>\n",
       "    </tr>\n",
       "  </thead>\n",
       "  <tbody>\n",
       "    <tr>\n",
       "      <th>1</th>\n",
       "      <td>1</td>\n",
       "      <td>0</td>\n",
       "      <td>2</td>\n",
       "      <td>20</td>\n",
       "      <td>2</td>\n",
       "      <td>1</td>\n",
       "      <td>1</td>\n",
       "      <td>1</td>\n",
       "    </tr>\n",
       "    <tr>\n",
       "      <th>4</th>\n",
       "      <td>2</td>\n",
       "      <td>1</td>\n",
       "      <td>5</td>\n",
       "      <td>50</td>\n",
       "      <td>2</td>\n",
       "      <td>1</td>\n",
       "      <td>1</td>\n",
       "      <td>1</td>\n",
       "    </tr>\n",
       "  </tbody>\n",
       "</table>\n",
       "</div>"
      ],
      "text/plain": [
       "   Person  Exclude  Variable1  Variable2  Choice  Av1  Av2  Av3\n",
       "1       1        0          2         20       2    1    1    1\n",
       "4       2        1          5         50       2    1    1    1"
      ]
     },
     "execution_count": 13,
     "metadata": {},
     "output_type": "execute_result"
    }
   ],
   "source": [
    "myBiogeme.database.data"
   ]
  },
  {
   "cell_type": "code",
   "execution_count": 14,
   "metadata": {},
   "outputs": [
    {
     "name": "stdout",
     "output_type": "stream",
     "text": [
      "[21:15:44] < Detailed >  Use 60.0% of the data.\n",
      "[21:15:44] < General >   Log likelihood (N=3):       -363\n"
     ]
    },
    {
     "data": {
      "text/plain": [
       "-121.0"
      ]
     },
     "execution_count": 14,
     "metadata": {},
     "output_type": "execute_result"
    }
   ],
   "source": [
    "myBiogeme.calculateLikelihood(xplus, scaled=True, batch=0.6)"
   ]
  },
  {
   "cell_type": "code",
   "execution_count": 15,
   "metadata": {},
   "outputs": [
    {
     "data": {
      "text/html": [
       "<div>\n",
       "<style scoped>\n",
       "    .dataframe tbody tr th:only-of-type {\n",
       "        vertical-align: middle;\n",
       "    }\n",
       "\n",
       "    .dataframe tbody tr th {\n",
       "        vertical-align: top;\n",
       "    }\n",
       "\n",
       "    .dataframe thead th {\n",
       "        text-align: right;\n",
       "    }\n",
       "</style>\n",
       "<table border=\"1\" class=\"dataframe\">\n",
       "  <thead>\n",
       "    <tr style=\"text-align: right;\">\n",
       "      <th></th>\n",
       "      <th>Person</th>\n",
       "      <th>Exclude</th>\n",
       "      <th>Variable1</th>\n",
       "      <th>Variable2</th>\n",
       "      <th>Choice</th>\n",
       "      <th>Av1</th>\n",
       "      <th>Av2</th>\n",
       "      <th>Av3</th>\n",
       "    </tr>\n",
       "  </thead>\n",
       "  <tbody>\n",
       "    <tr>\n",
       "      <th>2</th>\n",
       "      <td>1</td>\n",
       "      <td>1</td>\n",
       "      <td>3</td>\n",
       "      <td>30</td>\n",
       "      <td>3</td>\n",
       "      <td>1</td>\n",
       "      <td>1</td>\n",
       "      <td>1</td>\n",
       "    </tr>\n",
       "    <tr>\n",
       "      <th>4</th>\n",
       "      <td>2</td>\n",
       "      <td>1</td>\n",
       "      <td>5</td>\n",
       "      <td>50</td>\n",
       "      <td>2</td>\n",
       "      <td>1</td>\n",
       "      <td>1</td>\n",
       "      <td>1</td>\n",
       "    </tr>\n",
       "    <tr>\n",
       "      <th>3</th>\n",
       "      <td>2</td>\n",
       "      <td>0</td>\n",
       "      <td>4</td>\n",
       "      <td>40</td>\n",
       "      <td>1</td>\n",
       "      <td>1</td>\n",
       "      <td>1</td>\n",
       "      <td>1</td>\n",
       "    </tr>\n",
       "  </tbody>\n",
       "</table>\n",
       "</div>"
      ],
      "text/plain": [
       "   Person  Exclude  Variable1  Variable2  Choice  Av1  Av2  Av3\n",
       "2       1        1          3         30       3    1    1    1\n",
       "4       2        1          5         50       2    1    1    1\n",
       "3       2        0          4         40       1    1    1    1"
      ]
     },
     "execution_count": 15,
     "metadata": {},
     "output_type": "execute_result"
    }
   ],
   "source": [
    "myBiogeme.database.data"
   ]
  },
  {
   "cell_type": "markdown",
   "metadata": {},
   "source": [
    "By default, each observation has the same probability to be selected in the sample. It is possible to define the selection probability to be proportional to the values of a column of the database, using the parameter 'weights'. "
   ]
  },
  {
   "cell_type": "code",
   "execution_count": 16,
   "metadata": {},
   "outputs": [
    {
     "name": "stdout",
     "output_type": "stream",
     "text": [
      "[21:15:44] < Detailed >  Use 60.0% of the data.\n",
      "[21:15:44] < General >   Log likelihood (N=3):       -353\n"
     ]
    },
    {
     "data": {
      "text/plain": [
       "-117.66666666666667"
      ]
     },
     "execution_count": 16,
     "metadata": {},
     "output_type": "execute_result"
    }
   ],
   "source": [
    "myBiogeme.columnForBatchSamplingWeights = 'Variable2'\n",
    "myBiogeme.calculateLikelihood(xplus, scaled=True, batch=0.6)"
   ]
  },
  {
   "cell_type": "code",
   "execution_count": 17,
   "metadata": {},
   "outputs": [
    {
     "data": {
      "text/html": [
       "<div>\n",
       "<style scoped>\n",
       "    .dataframe tbody tr th:only-of-type {\n",
       "        vertical-align: middle;\n",
       "    }\n",
       "\n",
       "    .dataframe tbody tr th {\n",
       "        vertical-align: top;\n",
       "    }\n",
       "\n",
       "    .dataframe thead th {\n",
       "        text-align: right;\n",
       "    }\n",
       "</style>\n",
       "<table border=\"1\" class=\"dataframe\">\n",
       "  <thead>\n",
       "    <tr style=\"text-align: right;\">\n",
       "      <th></th>\n",
       "      <th>Person</th>\n",
       "      <th>Exclude</th>\n",
       "      <th>Variable1</th>\n",
       "      <th>Variable2</th>\n",
       "      <th>Choice</th>\n",
       "      <th>Av1</th>\n",
       "      <th>Av2</th>\n",
       "      <th>Av3</th>\n",
       "    </tr>\n",
       "  </thead>\n",
       "  <tbody>\n",
       "    <tr>\n",
       "      <th>4</th>\n",
       "      <td>2</td>\n",
       "      <td>1</td>\n",
       "      <td>5</td>\n",
       "      <td>50</td>\n",
       "      <td>2</td>\n",
       "      <td>1</td>\n",
       "      <td>1</td>\n",
       "      <td>1</td>\n",
       "    </tr>\n",
       "    <tr>\n",
       "      <th>1</th>\n",
       "      <td>1</td>\n",
       "      <td>0</td>\n",
       "      <td>2</td>\n",
       "      <td>20</td>\n",
       "      <td>2</td>\n",
       "      <td>1</td>\n",
       "      <td>1</td>\n",
       "      <td>1</td>\n",
       "    </tr>\n",
       "    <tr>\n",
       "      <th>3</th>\n",
       "      <td>2</td>\n",
       "      <td>0</td>\n",
       "      <td>4</td>\n",
       "      <td>40</td>\n",
       "      <td>1</td>\n",
       "      <td>1</td>\n",
       "      <td>1</td>\n",
       "      <td>1</td>\n",
       "    </tr>\n",
       "  </tbody>\n",
       "</table>\n",
       "</div>"
      ],
      "text/plain": [
       "   Person  Exclude  Variable1  Variable2  Choice  Av1  Av2  Av3\n",
       "4       2        1          5         50       2    1    1    1\n",
       "1       1        0          2         20       2    1    1    1\n",
       "3       2        0          4         40       1    1    1    1"
      ]
     },
     "execution_count": 17,
     "metadata": {},
     "output_type": "execute_result"
    }
   ],
   "source": [
    "myBiogeme.database.data"
   ]
  },
  {
   "cell_type": "markdown",
   "metadata": {},
   "source": [
    "## calculateLikelihoodAndDerivatives"
   ]
  },
  {
   "cell_type": "code",
   "execution_count": 18,
   "metadata": {},
   "outputs": [
    {
     "name": "stdout",
     "output_type": "stream",
     "text": [
      "[21:15:44] < General >   Log likelihood (N=5):       -555 Gradient norm:      7e+02 Hessian norm:       1e+03 BHHH norm:       1e+05\n",
      "f=-111.0\n",
      "g=[ -90. -108.]\n",
      "h=[[-270.  -30.]\n",
      " [ -30. -108.]]\n",
      "bhhh=[[ 9900.  9720.]\n",
      " [ 9720. 11664.]]\n"
     ]
    }
   ],
   "source": [
    "f,g,h,bhhh = myBiogeme.calculateLikelihoodAndDerivatives(xplus,scaled=True,hessian=True,bhhh=True)\n",
    "print(f'f={f}')\n",
    "print(f'g={g}')\n",
    "print(f'h={h}')\n",
    "print(f'bhhh={bhhh}')"
   ]
  },
  {
   "cell_type": "markdown",
   "metadata": {},
   "source": [
    "Now the unscaled version"
   ]
  },
  {
   "cell_type": "code",
   "execution_count": 19,
   "metadata": {},
   "outputs": [
    {
     "name": "stdout",
     "output_type": "stream",
     "text": [
      "[21:15:44] < General >   Log likelihood (N=5):       -555 Gradient norm:      7e+02 Hessian norm:       1e+03 BHHH norm:       1e+05\n",
      "f=-555.0\n",
      "g=[-450. -540.]\n",
      "h=[[-1350.  -150.]\n",
      " [ -150.  -540.]]\n",
      "bhhh=[[49500. 48600.]\n",
      " [48600. 58320.]]\n"
     ]
    }
   ],
   "source": [
    "f,g,h,bhhh = myBiogeme.calculateLikelihoodAndDerivatives(xplus,scaled=False,hessian=True,bhhh=True)\n",
    "print(f'f={f}')\n",
    "print(f'g={g}')\n",
    "print(f'h={h}')\n",
    "print(f'bhhh={bhhh}')"
   ]
  },
  {
   "cell_type": "markdown",
   "metadata": {},
   "source": [
    "Using only a sample of the data"
   ]
  },
  {
   "cell_type": "code",
   "execution_count": 20,
   "metadata": {},
   "outputs": [
    {
     "name": "stdout",
     "output_type": "stream",
     "text": [
      "[21:15:44] < Detailed >  Use 50.0% of the data.\n",
      "[21:15:44] < General >   Log likelihood (N=2):       -252 Gradient norm:      3e+02 Hessian norm:       8e+02 BHHH norm:       6e+04\n",
      "f=-126.0\n",
      "g=[-135. -108.]\n",
      "h=[[-405.  -45.]\n",
      " [ -45. -108.]]\n",
      "bhhh=[[18450. 14580.]\n",
      " [14580. 11664.]]\n"
     ]
    }
   ],
   "source": [
    "f,g,h,bhhh = myBiogeme.calculateLikelihoodAndDerivatives(xplus,scaled=True,batch=0.5,hessian=True,bhhh=True)\n",
    "print(f'f={f}')\n",
    "print(f'g={g}')\n",
    "print(f'h={h}')\n",
    "print(f'bhhh={bhhh}')"
   ]
  },
  {
   "cell_type": "markdown",
   "metadata": {},
   "source": [
    "## likelihoodFiniteDifferenceHessian"
   ]
  },
  {
   "cell_type": "code",
   "execution_count": 21,
   "metadata": {},
   "outputs": [
    {
     "name": "stdout",
     "output_type": "stream",
     "text": [
      "[21:15:44] < General >   Log likelihood (N=5):       -555 Gradient norm:      7e+02  \n",
      "[21:15:44] < General >   Log likelihood (N=5):       -555 Gradient norm:      7e+02  \n",
      "[21:15:44] < General >   Log likelihood (N=5):  -555.0002 Gradient norm:      7e+02  \n"
     ]
    },
    {
     "data": {
      "text/plain": [
       "array([[-1380.00020229,  -150.        ],\n",
       "       [ -150.0000451 ,  -540.00005396]])"
      ]
     },
     "execution_count": 21,
     "metadata": {},
     "output_type": "execute_result"
    }
   ],
   "source": [
    "myBiogeme.likelihoodFiniteDifferenceHessian(xplus)"
   ]
  },
  {
   "cell_type": "markdown",
   "metadata": {},
   "source": [
    "## checkDerivatives"
   ]
  },
  {
   "cell_type": "code",
   "execution_count": 22,
   "metadata": {},
   "outputs": [
    {
     "name": "stdout",
     "output_type": "stream",
     "text": [
      "[21:15:44] < General >   Log likelihood (N=5):  -115.3003 Gradient norm:      1e+02 Hessian norm:       3e+02 \n",
      "[21:15:44] < General >   Log likelihood (N=5):  -115.3003 Gradient norm:      1e+02 Hessian norm:       3e+02 \n",
      "[21:15:44] < General >   Log likelihood (N=5):  -115.3003 Gradient norm:      1e+02 Hessian norm:       3e+02 \n",
      "[21:15:44] < General >   Log likelihood (N=5):  -115.3003 Gradient norm:      1e+02 Hessian norm:       3e+02 \n",
      "[21:15:44] < Detailed >  x\t\tGradient\tFinDiff\t\tDifference\n",
      "[21:15:44] < Detailed >  beta1          \t-1.060058E+01\t-1.060058E+01\t-5.427932E-06\n",
      "[21:15:44] < Detailed >  beta2          \t-1.396997E+02\t-1.396997E+02\t+2.608000E-05\n",
      "[21:15:44] < General >   Log likelihood (N=5):  -115.3003 Gradient norm:      1e+02 Hessian norm:       3e+02 \n",
      "[21:15:44] < General >   Log likelihood (N=5):  -115.3003 Gradient norm:      1e+02 Hessian norm:       3e+02 \n",
      "[21:15:44] < General >   Log likelihood (N=5):  -115.3003 Gradient norm:      1e+02 Hessian norm:       3e+02 \n",
      "[21:15:44] < Detailed >  Row\t\tCol\t\tHessian\tFinDiff\t\tDifference\n",
      "[21:15:44] < Detailed >  beta1          \tbeta1          \t-1.112012E+02\t-1.112012E+02\t-8.045522E-06\n",
      "[21:15:44] < Detailed >  beta1          \tbeta2          \t+2.030029E+01\t+2.030029E+01\t+7.365980E-09\n",
      "[21:15:44] < Detailed >  beta2          \tbeta1          \t+2.030029E+01\t+2.030029E+01\t-1.613879E-07\n",
      "[21:15:44] < Detailed >  beta2          \tbeta2          \t-2.603003E+02\t-2.603003E+02\t+2.229281E-05\n"
     ]
    }
   ],
   "source": [
    "f,g,h,gdiff,hdiff = myBiogeme.checkDerivatives(verbose=True)"
   ]
  },
  {
   "cell_type": "code",
   "execution_count": 23,
   "metadata": {},
   "outputs": [
    {
     "name": "stdout",
     "output_type": "stream",
     "text": [
      "f=-115.30029248549191\n",
      "g=[ -10.60058497 -139.69970751]\n",
      "h=[[-111.20116994   20.30029249]\n",
      " [  20.30029249 -260.30029249]]\n",
      "gdiff=[-5.42793187e-06  2.60800035e-05]\n",
      "hdiff=[[-8.04552172e-06  7.36597983e-09]\n",
      " [-1.61387920e-07  2.22928137e-05]]\n"
     ]
    },
    {
     "data": {
      "text/plain": [
       "array([[-8.04552172e-06,  7.36597983e-09],\n",
       "       [-1.61387920e-07,  2.22928137e-05]])"
      ]
     },
     "execution_count": 23,
     "metadata": {},
     "output_type": "execute_result"
    }
   ],
   "source": [
    "print(f'f={f}')\n",
    "print(f'g={g}')\n",
    "print(f'h={h}')\n",
    "print(f'gdiff={gdiff}')\n",
    "print(f'hdiff={hdiff}')\n",
    "hdiff"
   ]
  },
  {
   "cell_type": "markdown",
   "metadata": {},
   "source": [
    "## estimate"
   ]
  },
  {
   "cell_type": "markdown",
   "metadata": {},
   "source": [
    "During estimation, it is possibler to save intermediate results, in case the estimation must be interrupted. "
   ]
  },
  {
   "cell_type": "code",
   "execution_count": 24,
   "metadata": {},
   "outputs": [
    {
     "name": "stdout",
     "output_type": "stream",
     "text": [
      "[21:15:44] < General >   Log likelihood (N=5):  -115.3003\n",
      "[21:15:44] < General >   Minimize with tol 1e-07\n",
      "[21:15:44] < General >   Log likelihood (N=5):  -115.3003 Gradient norm:      1e+02  \n",
      "[21:15:44] < General >   Log likelihood (N=5):   -1216003 Gradient norm:      5e+06  \n",
      "[21:15:44] < General >   Log likelihood (N=5):  -115.6422 Gradient norm:      1e+02  \n",
      "[21:15:44] < General >   Log likelihood (N=5):  -67.11418 Gradient norm:          3  \n",
      "[21:15:44] < General >   Log likelihood (N=5):  -67.07432 Gradient norm:          1  \n",
      "[21:15:44] < General >   Log likelihood (N=5):   -67.0655 Gradient norm:       0.06  \n",
      "[21:15:44] < General >   Log likelihood (N=5):  -67.06549 Gradient norm:      0.001  \n",
      "[21:15:44] < General >   Log likelihood (N=5):  -67.06549 Gradient norm:      3e-07  \n",
      "[21:15:44] < General >   Log likelihood (N=5):  -67.06549 Gradient norm:      3e-07 Hessian norm:       2e+02 BHHH norm:       7e+01\n",
      "[21:15:44] < General >   Re-estimate the model 10 times for bootstrapping\n",
      "[21:15:44] < General >   Minimize with tol 1e-07\n",
      "[21:15:44] < General >   Log likelihood (N=5):  -115.3003 Gradient norm:      1e+02  \n",
      "[21:15:44] < General >   Log likelihood (N=5):   -1216003 Gradient norm:      5e+06  \n",
      "[21:15:44] < General >   Log likelihood (N=5):  -115.6422 Gradient norm:      1e+02  \n",
      "[21:15:44] < General >   Log likelihood (N=5):  -67.11418 Gradient norm:          3  \n",
      "[21:15:44] < General >   Log likelihood (N=5):  -67.07432 Gradient norm:          1  \n",
      "[21:15:44] < General >   Log likelihood (N=5):   -67.0655 Gradient norm:       0.06  \n",
      "[21:15:44] < General >   Log likelihood (N=5):  -67.06549 Gradient norm:      0.001  \n",
      "[21:15:44] < General >   Log likelihood (N=5):  -67.06549 Gradient norm:      3e-07  \n",
      "[21:15:44] < General >   Minimize with tol 1e-07\n",
      "[21:15:44] < General >   Log likelihood (N=5):  -110.5936 Gradient norm:      1e+02  \n",
      "[21:15:44] < General >   Log likelihood (N=5):  -647339.6 Gradient norm:      3e+06  \n",
      "[21:15:44] < General >   Log likelihood (N=5):  -98.89788 Gradient norm:      1e+02  \n",
      "[21:15:44] < General >   Log likelihood (N=5):  -60.49517 Gradient norm:      1e+01  \n",
      "[21:15:44] < General >   Log likelihood (N=5):   -59.6489 Gradient norm:          1  \n",
      "[21:15:44] < General >   Log likelihood (N=5):  -59.64234 Gradient norm:       0.06  \n",
      "[21:15:44] < General >   Log likelihood (N=5):  -59.64231 Gradient norm:       0.03  \n",
      "[21:15:44] < General >   Log likelihood (N=5):  -59.64231 Gradient norm:     0.0002  \n",
      "[21:15:44] < General >   Log likelihood (N=5):  -59.64231 Gradient norm:      4e-06  \n",
      "[21:15:44] < General >   Log likelihood (N=5):  -59.64231 Gradient norm:      8e-08  \n",
      "[21:15:44] < General >   Minimize with tol 1e-07\n",
      "[21:15:44] < General >   Log likelihood (N=5):  -105.8869 Gradient norm:      1e+02  \n",
      "[21:15:44] < General >   Log likelihood (N=5):  -234865.9 Gradient norm:      9e+05  \n",
      "[21:15:44] < General >   Log likelihood (N=5):  -81.88364 Gradient norm:      8e+01  \n",
      "[21:15:44] < General >   Log likelihood (N=5):  -53.36062 Gradient norm:      2e+01  \n",
      "[21:15:44] < General >   Log likelihood (N=5):  -51.99468 Gradient norm:        0.9  \n",
      "[21:15:44] < General >   Log likelihood (N=5):  -51.99047 Gradient norm:        0.3  \n",
      "[21:15:44] < General >   Log likelihood (N=5):  -51.98973 Gradient norm:       0.08  \n",
      "[21:15:44] < General >   Log likelihood (N=5):  -51.98968 Gradient norm:     0.0005  \n",
      "[21:15:44] < General >   Log likelihood (N=5):  -51.98968 Gradient norm:      9e-06  \n",
      "[21:15:44] < General >   Log likelihood (N=5):  -51.98968 Gradient norm:      1e-08  \n",
      "[21:15:44] < General >   Minimize with tol 1e-07\n",
      "[21:15:44] < General >   Log likelihood (N=5):  -115.3003 Gradient norm:      1e+02  \n",
      "[21:15:44] < General >   Log likelihood (N=5):   -1216003 Gradient norm:      5e+06  \n",
      "[21:15:44] < General >   Log likelihood (N=5):  -115.6422 Gradient norm:      1e+02  \n",
      "[21:15:44] < General >   Log likelihood (N=5):  -67.11418 Gradient norm:          3  \n",
      "[21:15:44] < General >   Log likelihood (N=5):  -67.07432 Gradient norm:          1  \n",
      "[21:15:44] < General >   Log likelihood (N=5):   -67.0655 Gradient norm:       0.06  \n",
      "[21:15:44] < General >   Log likelihood (N=5):  -67.06549 Gradient norm:      0.001  \n",
      "[21:15:44] < General >   Log likelihood (N=5):  -67.06549 Gradient norm:      3e-07  \n",
      "[21:15:44] < General >   Minimize with tol 1e-07\n",
      "[21:15:44] < General >   Log likelihood (N=5):  -110.5936 Gradient norm:      1e+02  \n",
      "[21:15:44] < General >   Log likelihood (N=5):  -647339.6 Gradient norm:      3e+06  \n",
      "[21:15:44] < General >   Log likelihood (N=5):  -98.89788 Gradient norm:      1e+02  \n",
      "[21:15:44] < General >   Log likelihood (N=5):  -60.49517 Gradient norm:      1e+01  \n",
      "[21:15:44] < General >   Log likelihood (N=5):   -59.6489 Gradient norm:          1  \n",
      "[21:15:44] < General >   Log likelihood (N=5):  -59.64234 Gradient norm:       0.06  \n",
      "[21:15:44] < General >   Log likelihood (N=5):  -59.64231 Gradient norm:       0.03  \n",
      "[21:15:44] < General >   Log likelihood (N=5):  -59.64231 Gradient norm:     0.0002  \n",
      "[21:15:44] < General >   Log likelihood (N=5):  -59.64231 Gradient norm:      4e-06  \n",
      "[21:15:44] < General >   Log likelihood (N=5):  -59.64231 Gradient norm:      8e-08  \n",
      "[21:15:44] < General >   Minimize with tol 1e-07\n",
      "[21:15:44] < General >   Log likelihood (N=5):   -120.007 Gradient norm:      1e+02  \n",
      "[21:15:44] < General >   Log likelihood (N=5):   -1378082 Gradient norm:      6e+06  \n",
      "[21:15:44] < General >   Log likelihood (N=5):  -131.0268 Gradient norm:      1e+02  \n",
      "[21:15:44] < General >   Log likelihood (N=5):  -74.35888 Gradient norm:          4  \n",
      "[21:15:44] < General >   Log likelihood (N=5):  -74.30076 Gradient norm:          1  \n",
      "[21:15:44] < General >   Log likelihood (N=5):  -74.29393 Gradient norm:       0.05  \n",
      "[21:15:44] < General >   Log likelihood (N=5):  -74.29392 Gradient norm:      0.004  \n",
      "[21:15:44] < General >   Log likelihood (N=5):  -74.29392 Gradient norm:      4e-07  \n",
      "[21:15:44] < General >   Minimize with tol 1e-07\n",
      "[21:15:44] < General >   Log likelihood (N=5):  -110.5936 Gradient norm:      1e+02  \n",
      "[21:15:44] < General >   Log likelihood (N=5):  -647339.6 Gradient norm:      3e+06  \n",
      "[21:15:44] < General >   Log likelihood (N=5):  -98.89788 Gradient norm:      1e+02  \n",
      "[21:15:44] < General >   Log likelihood (N=5):  -60.49517 Gradient norm:      1e+01  \n",
      "[21:15:44] < General >   Log likelihood (N=5):   -59.6489 Gradient norm:          1  \n",
      "[21:15:44] < General >   Log likelihood (N=5):  -59.64234 Gradient norm:       0.06  \n",
      "[21:15:44] < General >   Log likelihood (N=5):  -59.64231 Gradient norm:       0.03  \n",
      "[21:15:44] < General >   Log likelihood (N=5):  -59.64231 Gradient norm:     0.0002  \n",
      "[21:15:44] < General >   Log likelihood (N=5):  -59.64231 Gradient norm:      4e-06  \n",
      "[21:15:44] < General >   Log likelihood (N=5):  -59.64231 Gradient norm:      8e-08  \n",
      "[21:15:44] < General >   Minimize with tol 1e-07\n",
      "[21:15:44] < General >   Log likelihood (N=5):  -122.3604 Gradient norm:      1e+02  \n",
      "[21:15:44] < General >   Log likelihood (N=5):   -1459122 Gradient norm:      6e+06  \n",
      "[21:15:44] < General >   Log likelihood (N=5):   -138.719 Gradient norm:      1e+02  \n",
      "[21:15:44] < General >   Log likelihood (N=5):  -77.92015 Gradient norm:          4  \n",
      "[21:15:44] < General >   Log likelihood (N=5):  -77.84983 Gradient norm:          1  \n",
      "[21:15:44] < General >   Log likelihood (N=5):  -77.84349 Gradient norm:       0.04  \n",
      "[21:15:44] < General >   Log likelihood (N=5):  -77.84349 Gradient norm:      0.004  \n",
      "[21:15:44] < General >   Log likelihood (N=5):  -77.84349 Gradient norm:      6e-07  \n",
      "[21:15:44] < General >   Log likelihood (N=5):  -77.84349 Gradient norm:      3e-09  \n",
      "[21:15:44] < General >   Minimize with tol 1e-07\n",
      "[21:15:44] < General >   Log likelihood (N=5):  -108.2402 Gradient norm:      1e+02  \n",
      "[21:15:44] < General >   Log likelihood (N=5):  -391222.4 Gradient norm:      2e+06  \n",
      "[21:15:44] < General >   Log likelihood (N=5):  -90.27531 Gradient norm:      9e+01  \n",
      "[21:15:44] < General >   Log likelihood (N=5):  -56.94745 Gradient norm:      2e+01  \n",
      "[21:15:44] < General >   Log likelihood (N=5):  -55.85266 Gradient norm:          1  \n",
      "[21:15:44] < General >   Log likelihood (N=5):  -55.84752 Gradient norm:        0.2  \n",
      "[21:15:44] < General >   Log likelihood (N=5):  -55.84734 Gradient norm:       0.07  \n",
      "[21:15:44] < General >   Log likelihood (N=5):  -55.84729 Gradient norm:     0.0001  \n",
      "[21:15:44] < General >   Log likelihood (N=5):  -55.84729 Gradient norm:      5e-07  \n",
      "[21:15:44] < General >   Minimize with tol 1e-07\n",
      "[21:15:44] < General >   Log likelihood (N=5):  -124.7137 Gradient norm:      1e+02  \n"
     ]
    },
    {
     "name": "stdout",
     "output_type": "stream",
     "text": [
      "[21:15:44] < General >   Log likelihood (N=5):   -1540162 Gradient norm:      7e+06  \n",
      "[21:15:44] < General >   Log likelihood (N=5):  -146.4113 Gradient norm:      2e+02  \n",
      "[21:15:44] < General >   Log likelihood (N=5):  -81.44427 Gradient norm:          5  \n",
      "[21:15:44] < General >   Log likelihood (N=5):  -81.35973 Gradient norm:          1  \n",
      "[21:15:44] < General >   Log likelihood (N=5):  -81.35364 Gradient norm:       0.04  \n",
      "[21:15:44] < General >   Log likelihood (N=5):  -81.35364 Gradient norm:      0.002  \n",
      "[21:15:44] < General >   Log likelihood (N=5):  -81.35364 Gradient norm:      7e-08  \n",
      "[21:15:44] < General >   Results saved in file simpleExample.html\n",
      "[21:15:44] < General >   Results saved in file simpleExample.pickle\n"
     ]
    }
   ],
   "source": [
    "results = myBiogeme.estimate(bootstrap=10,saveIterations=True)"
   ]
  },
  {
   "cell_type": "code",
   "execution_count": 25,
   "metadata": {},
   "outputs": [
    {
     "data": {
      "text/html": [
       "<div>\n",
       "<style scoped>\n",
       "    .dataframe tbody tr th:only-of-type {\n",
       "        vertical-align: middle;\n",
       "    }\n",
       "\n",
       "    .dataframe tbody tr th {\n",
       "        vertical-align: top;\n",
       "    }\n",
       "\n",
       "    .dataframe thead th {\n",
       "        text-align: right;\n",
       "    }\n",
       "</style>\n",
       "<table border=\"1\" class=\"dataframe\">\n",
       "  <thead>\n",
       "    <tr style=\"text-align: right;\">\n",
       "      <th></th>\n",
       "      <th>Value</th>\n",
       "      <th>Std err</th>\n",
       "      <th>t-test</th>\n",
       "      <th>p-value</th>\n",
       "      <th>Rob. Std err</th>\n",
       "      <th>Rob. t-test</th>\n",
       "      <th>Rob. p-value</th>\n",
       "      <th>Bootstrap[10] Std err</th>\n",
       "      <th>Bootstrap t-test</th>\n",
       "      <th>Bootstrap p-value</th>\n",
       "    </tr>\n",
       "  </thead>\n",
       "  <tbody>\n",
       "    <tr>\n",
       "      <th>beta1</th>\n",
       "      <td>-1.273264</td>\n",
       "      <td>0.115144</td>\n",
       "      <td>-11.057997</td>\n",
       "      <td>0.0</td>\n",
       "      <td>0.013724</td>\n",
       "      <td>-92.776669</td>\n",
       "      <td>0.0</td>\n",
       "      <td>0.011684</td>\n",
       "      <td>-108.977325</td>\n",
       "      <td>0.0</td>\n",
       "    </tr>\n",
       "    <tr>\n",
       "      <th>beta2</th>\n",
       "      <td>1.248769</td>\n",
       "      <td>0.084830</td>\n",
       "      <td>14.720836</td>\n",
       "      <td>0.0</td>\n",
       "      <td>0.059086</td>\n",
       "      <td>21.134794</td>\n",
       "      <td>0.0</td>\n",
       "      <td>0.050486</td>\n",
       "      <td>24.734877</td>\n",
       "      <td>0.0</td>\n",
       "    </tr>\n",
       "  </tbody>\n",
       "</table>\n",
       "</div>"
      ],
      "text/plain": [
       "          Value   Std err     t-test  p-value  Rob. Std err  Rob. t-test  \\\n",
       "beta1 -1.273264  0.115144 -11.057997      0.0      0.013724   -92.776669   \n",
       "beta2  1.248769  0.084830  14.720836      0.0      0.059086    21.134794   \n",
       "\n",
       "       Rob. p-value  Bootstrap[10] Std err  Bootstrap t-test  \\\n",
       "beta1           0.0               0.011684       -108.977325   \n",
       "beta2           0.0               0.050486         24.734877   \n",
       "\n",
       "       Bootstrap p-value  \n",
       "beta1                0.0  \n",
       "beta2                0.0  "
      ]
     },
     "execution_count": 25,
     "metadata": {},
     "output_type": "execute_result"
    }
   ],
   "source": [
    "results.getEstimatedParameters()"
   ]
  },
  {
   "cell_type": "markdown",
   "metadata": {},
   "source": [
    "The values of the intermediate results saved can be retrieved as follows. "
   ]
  },
  {
   "cell_type": "markdown",
   "metadata": {},
   "source": [
    "Formula before"
   ]
  },
  {
   "cell_type": "code",
   "execution_count": 26,
   "metadata": {},
   "outputs": [
    {
     "data": {
      "text/plain": [
       "((((-(beta1(-1.0) ** `2`)) * Variable1) - (exp((beta2(2.0) * beta1(-1.0))) * Variable2)) - (beta2(2.0) ** `4`))"
      ]
     },
     "execution_count": 26,
     "metadata": {},
     "output_type": "execute_result"
    }
   ],
   "source": [
    "myBiogeme.loglike"
   ]
  },
  {
   "cell_type": "markdown",
   "metadata": {},
   "source": [
    "Retrieving the values"
   ]
  },
  {
   "cell_type": "code",
   "execution_count": 27,
   "metadata": {},
   "outputs": [
    {
     "name": "stdout",
     "output_type": "stream",
     "text": [
      "[21:15:44] < Detailed >  Parameter values restored from __savedIterations.txt\n"
     ]
    },
    {
     "data": {
      "text/plain": [
       "((((-(beta1(-1.257397883628598) ** `2`)) * Variable1) - (exp((beta2(1.316511819976571) * beta1(-1.257397883628598))) * Variable2)) - (beta2(1.316511819976571) ** `4`))"
      ]
     },
     "execution_count": 27,
     "metadata": {},
     "output_type": "execute_result"
    }
   ],
   "source": [
    "myBiogeme.loadSavedIteration()\n",
    "myBiogeme.loglike"
   ]
  },
  {
   "cell_type": "markdown",
   "metadata": {},
   "source": [
    "A file name can be given. If the file does not exist, the statement is ignored. "
   ]
  },
  {
   "cell_type": "code",
   "execution_count": 28,
   "metadata": {},
   "outputs": [
    {
     "name": "stdout",
     "output_type": "stream",
     "text": [
      "[21:15:44] < Warning >   Cannot read file fileThatDoesNotExist.txt. Statement is ignored.\n"
     ]
    }
   ],
   "source": [
    "myBiogeme.loadSavedIteration(filename='fileThatDoesNotExist.txt')"
   ]
  },
  {
   "cell_type": "markdown",
   "metadata": {},
   "source": [
    "## simulate"
   ]
  },
  {
   "cell_type": "code",
   "execution_count": 29,
   "metadata": {},
   "outputs": [
    {
     "data": {
      "text/html": [
       "<div>\n",
       "<style scoped>\n",
       "    .dataframe tbody tr th:only-of-type {\n",
       "        vertical-align: middle;\n",
       "    }\n",
       "\n",
       "    .dataframe tbody tr th {\n",
       "        vertical-align: top;\n",
       "    }\n",
       "\n",
       "    .dataframe thead th {\n",
       "        text-align: right;\n",
       "    }\n",
       "</style>\n",
       "<table border=\"1\" class=\"dataframe\">\n",
       "  <thead>\n",
       "    <tr style=\"text-align: right;\">\n",
       "      <th></th>\n",
       "      <th>loglike</th>\n",
       "      <th>beta1</th>\n",
       "      <th>simul</th>\n",
       "    </tr>\n",
       "  </thead>\n",
       "  <tbody>\n",
       "    <tr>\n",
       "      <th>0</th>\n",
       "      <td>-6.495239</td>\n",
       "      <td>-1.257398</td>\n",
       "      <td>-1.125747</td>\n",
       "    </tr>\n",
       "    <tr>\n",
       "      <th>1</th>\n",
       "      <td>-9.986485</td>\n",
       "      <td>-1.257398</td>\n",
       "      <td>-0.562873</td>\n",
       "    </tr>\n",
       "    <tr>\n",
       "      <th>2</th>\n",
       "      <td>-13.477731</td>\n",
       "      <td>-1.257398</td>\n",
       "      <td>-0.375249</td>\n",
       "    </tr>\n",
       "    <tr>\n",
       "      <th>3</th>\n",
       "      <td>-16.968976</td>\n",
       "      <td>-1.257398</td>\n",
       "      <td>-0.281437</td>\n",
       "    </tr>\n",
       "    <tr>\n",
       "      <th>4</th>\n",
       "      <td>-20.460222</td>\n",
       "      <td>-1.257398</td>\n",
       "      <td>-0.225149</td>\n",
       "    </tr>\n",
       "  </tbody>\n",
       "</table>\n",
       "</div>"
      ],
      "text/plain": [
       "     loglike     beta1     simul\n",
       "0  -6.495239 -1.257398 -1.125747\n",
       "1  -9.986485 -1.257398 -0.562873\n",
       "2 -13.477731 -1.257398 -0.375249\n",
       "3 -16.968976 -1.257398 -0.281437\n",
       "4 -20.460222 -1.257398 -0.225149"
      ]
     },
     "execution_count": 29,
     "metadata": {},
     "output_type": "execute_result"
    }
   ],
   "source": [
    "# Simulate with the default values for the parameters\n",
    "simulationWithDefaultBetas = myBiogeme.simulate()\n",
    "simulationWithDefaultBetas"
   ]
  },
  {
   "cell_type": "code",
   "execution_count": 30,
   "metadata": {},
   "outputs": [
    {
     "name": "stdout",
     "output_type": "stream",
     "text": [
      "{'beta1': -1.2732639841254711, 'beta2': 1.248768808907056}\n"
     ]
    },
    {
     "data": {
      "text/html": [
       "<div>\n",
       "<style scoped>\n",
       "    .dataframe tbody tr th:only-of-type {\n",
       "        vertical-align: middle;\n",
       "    }\n",
       "\n",
       "    .dataframe tbody tr th {\n",
       "        vertical-align: top;\n",
       "    }\n",
       "\n",
       "    .dataframe thead th {\n",
       "        text-align: right;\n",
       "    }\n",
       "</style>\n",
       "<table border=\"1\" class=\"dataframe\">\n",
       "  <thead>\n",
       "    <tr style=\"text-align: right;\">\n",
       "      <th></th>\n",
       "      <th>loglike</th>\n",
       "      <th>beta1</th>\n",
       "      <th>simul</th>\n",
       "    </tr>\n",
       "  </thead>\n",
       "  <tbody>\n",
       "    <tr>\n",
       "      <th>0</th>\n",
       "      <td>-6.092234</td>\n",
       "      <td>-1.273264</td>\n",
       "      <td>-1.148387</td>\n",
       "    </tr>\n",
       "    <tr>\n",
       "      <th>1</th>\n",
       "      <td>-9.752666</td>\n",
       "      <td>-1.273264</td>\n",
       "      <td>-0.574194</td>\n",
       "    </tr>\n",
       "    <tr>\n",
       "      <th>2</th>\n",
       "      <td>-13.413098</td>\n",
       "      <td>-1.273264</td>\n",
       "      <td>-0.382796</td>\n",
       "    </tr>\n",
       "    <tr>\n",
       "      <th>3</th>\n",
       "      <td>-17.073530</td>\n",
       "      <td>-1.273264</td>\n",
       "      <td>-0.287097</td>\n",
       "    </tr>\n",
       "    <tr>\n",
       "      <th>4</th>\n",
       "      <td>-20.733962</td>\n",
       "      <td>-1.273264</td>\n",
       "      <td>-0.229677</td>\n",
       "    </tr>\n",
       "  </tbody>\n",
       "</table>\n",
       "</div>"
      ],
      "text/plain": [
       "     loglike     beta1     simul\n",
       "0  -6.092234 -1.273264 -1.148387\n",
       "1  -9.752666 -1.273264 -0.574194\n",
       "2 -13.413098 -1.273264 -0.382796\n",
       "3 -17.073530 -1.273264 -0.287097\n",
       "4 -20.733962 -1.273264 -0.229677"
      ]
     },
     "execution_count": 30,
     "metadata": {},
     "output_type": "execute_result"
    }
   ],
   "source": [
    "# Simulate with the estimated values for the parameters\n",
    "print(results.getBetaValues())\n",
    "simulationWithEstimatedBetas = myBiogeme.simulate(results.getBetaValues())\n",
    "simulationWithEstimatedBetas"
   ]
  },
  {
   "cell_type": "markdown",
   "metadata": {},
   "source": [
    "## confidenceIntervals"
   ]
  },
  {
   "cell_type": "code",
   "execution_count": 31,
   "metadata": {},
   "outputs": [
    {
     "data": {
      "text/html": [
       "<div>\n",
       "<style scoped>\n",
       "    .dataframe tbody tr th:only-of-type {\n",
       "        vertical-align: middle;\n",
       "    }\n",
       "\n",
       "    .dataframe tbody tr th {\n",
       "        vertical-align: top;\n",
       "    }\n",
       "\n",
       "    .dataframe thead th {\n",
       "        text-align: right;\n",
       "    }\n",
       "</style>\n",
       "<table border=\"1\" class=\"dataframe\">\n",
       "  <thead>\n",
       "    <tr style=\"text-align: right;\">\n",
       "      <th></th>\n",
       "      <th>loglike</th>\n",
       "      <th>beta1</th>\n",
       "      <th>simul</th>\n",
       "    </tr>\n",
       "  </thead>\n",
       "  <tbody>\n",
       "    <tr>\n",
       "      <th>0</th>\n",
       "      <td>-6.443845</td>\n",
       "      <td>-1.291087</td>\n",
       "      <td>-1.173883</td>\n",
       "    </tr>\n",
       "    <tr>\n",
       "      <th>1</th>\n",
       "      <td>-9.953791</td>\n",
       "      <td>-1.291087</td>\n",
       "      <td>-0.586941</td>\n",
       "    </tr>\n",
       "    <tr>\n",
       "      <th>2</th>\n",
       "      <td>-13.519165</td>\n",
       "      <td>-1.291087</td>\n",
       "      <td>-0.391294</td>\n",
       "    </tr>\n",
       "    <tr>\n",
       "      <th>3</th>\n",
       "      <td>-17.362747</td>\n",
       "      <td>-1.291087</td>\n",
       "      <td>-0.293471</td>\n",
       "    </tr>\n",
       "    <tr>\n",
       "      <th>4</th>\n",
       "      <td>-21.231691</td>\n",
       "      <td>-1.291087</td>\n",
       "      <td>-0.234777</td>\n",
       "    </tr>\n",
       "  </tbody>\n",
       "</table>\n",
       "</div>"
      ],
      "text/plain": [
       "     loglike     beta1     simul\n",
       "0  -6.443845 -1.291087 -1.173883\n",
       "1  -9.953791 -1.291087 -0.586941\n",
       "2 -13.519165 -1.291087 -0.391294\n",
       "3 -17.362747 -1.291087 -0.293471\n",
       "4 -21.231691 -1.291087 -0.234777"
      ]
     },
     "execution_count": 31,
     "metadata": {},
     "output_type": "execute_result"
    }
   ],
   "source": [
    "drawsFromBetas = results.getBetasForSensitivityAnalysis(myBiogeme.freeBetaNames)\n",
    "left, right = myBiogeme.confidenceIntervals(drawsFromBetas)\n",
    "left"
   ]
  },
  {
   "cell_type": "code",
   "execution_count": 32,
   "metadata": {},
   "outputs": [
    {
     "data": {
      "text/html": [
       "<div>\n",
       "<style scoped>\n",
       "    .dataframe tbody tr th:only-of-type {\n",
       "        vertical-align: middle;\n",
       "    }\n",
       "\n",
       "    .dataframe tbody tr th {\n",
       "        vertical-align: top;\n",
       "    }\n",
       "\n",
       "    .dataframe thead th {\n",
       "        text-align: right;\n",
       "    }\n",
       "</style>\n",
       "<table border=\"1\" class=\"dataframe\">\n",
       "  <thead>\n",
       "    <tr style=\"text-align: right;\">\n",
       "      <th></th>\n",
       "      <th>loglike</th>\n",
       "      <th>beta1</th>\n",
       "      <th>simul</th>\n",
       "    </tr>\n",
       "  </thead>\n",
       "  <tbody>\n",
       "    <tr>\n",
       "      <th>0</th>\n",
       "      <td>-5.755916</td>\n",
       "      <td>-1.259329</td>\n",
       "      <td>-1.128453</td>\n",
       "    </tr>\n",
       "    <tr>\n",
       "      <th>1</th>\n",
       "      <td>-9.624859</td>\n",
       "      <td>-1.259329</td>\n",
       "      <td>-0.564227</td>\n",
       "    </tr>\n",
       "    <tr>\n",
       "      <th>2</th>\n",
       "      <td>-13.413220</td>\n",
       "      <td>-1.259329</td>\n",
       "      <td>-0.376151</td>\n",
       "    </tr>\n",
       "    <tr>\n",
       "      <th>3</th>\n",
       "      <td>-16.973950</td>\n",
       "      <td>-1.259329</td>\n",
       "      <td>-0.282113</td>\n",
       "    </tr>\n",
       "    <tr>\n",
       "      <th>4</th>\n",
       "      <td>-20.483627</td>\n",
       "      <td>-1.259329</td>\n",
       "      <td>-0.225691</td>\n",
       "    </tr>\n",
       "  </tbody>\n",
       "</table>\n",
       "</div>"
      ],
      "text/plain": [
       "     loglike     beta1     simul\n",
       "0  -5.755916 -1.259329 -1.128453\n",
       "1  -9.624859 -1.259329 -0.564227\n",
       "2 -13.413220 -1.259329 -0.376151\n",
       "3 -16.973950 -1.259329 -0.282113\n",
       "4 -20.483627 -1.259329 -0.225691"
      ]
     },
     "execution_count": 32,
     "metadata": {},
     "output_type": "execute_result"
    }
   ],
   "source": [
    "right"
   ]
  }
 ],
 "metadata": {
  "kernelspec": {
   "display_name": "Python 3",
   "language": "python",
   "name": "python3"
  },
  "language_info": {
   "codemirror_mode": {
    "name": "ipython",
    "version": 3
   },
   "file_extension": ".py",
   "mimetype": "text/x-python",
   "name": "python",
   "nbconvert_exporter": "python",
   "pygments_lexer": "ipython3",
   "version": "3.8.0"
  }
 },
 "nbformat": 4,
 "nbformat_minor": 2
}
