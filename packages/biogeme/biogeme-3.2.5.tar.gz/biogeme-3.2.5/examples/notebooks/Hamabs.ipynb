{
 "cells": [
  {
   "cell_type": "code",
   "execution_count": 1,
   "metadata": {},
   "outputs": [],
   "source": [
    "import numpy as np\n",
    "import biogeme.hamabs as hm"
   ]
  },
  {
   "cell_type": "code",
   "execution_count": 2,
   "metadata": {},
   "outputs": [],
   "source": [
    "import biogeme.messaging as msg\n",
    "logger = msg.bioMessage()\n",
    "#logger.setSilent()\n",
    "#logger.setDetailed()\n",
    "logger.setDebug()"
   ]
  },
  {
   "cell_type": "code",
   "execution_count": 3,
   "metadata": {},
   "outputs": [],
   "source": [
    "s = hm.smoothing(3)\n",
    "batch = 0.5"
   ]
  },
  {
   "cell_type": "code",
   "execution_count": 4,
   "metadata": {},
   "outputs": [
    {
     "data": {
      "text/plain": [
       "(None, None, None)"
      ]
     },
     "execution_count": 4,
     "metadata": {},
     "output_type": "execute_result"
    }
   ],
   "source": [
    "s.f_g_h()"
   ]
  },
  {
   "cell_type": "code",
   "execution_count": 5,
   "metadata": {},
   "outputs": [
    {
     "name": "stdout",
     "output_type": "stream",
     "text": [
      "[10:54:59] < Debug >     scale=[0.5]\n",
      "[10:54:59] < Debug >     normscale=[1.0]\n"
     ]
    },
    {
     "data": {
      "text/plain": [
       "(3.0, None, None)"
      ]
     },
     "execution_count": 5,
     "metadata": {},
     "output_type": "execute_result"
    }
   ],
   "source": [
    "f = 3\n",
    "s.add(f,None,None,batch)"
   ]
  },
  {
   "cell_type": "code",
   "execution_count": 6,
   "metadata": {
    "scrolled": true
   },
   "outputs": [
    {
     "name": "stdout",
     "output_type": "stream",
     "text": [
      "[10:54:59] < Debug >     scale=[0.5, 0.2375]\n",
      "[10:54:59] < Debug >     normscale=[0.6779661016949152, 0.3220338983050847]\n"
     ]
    },
    {
     "data": {
      "text/plain": [
       "(4.3559322033898304, None, None)"
      ]
     },
     "execution_count": 6,
     "metadata": {},
     "output_type": "execute_result"
    }
   ],
   "source": [
    "s.add(5,None,None,batch)"
   ]
  },
  {
   "cell_type": "code",
   "execution_count": 7,
   "metadata": {},
   "outputs": [
    {
     "name": "stdout",
     "output_type": "stream",
     "text": [
      "[10:54:59] < Debug >     scale=[0.5, 0.2375, 0.225625]\n",
      "[10:54:59] < Debug >     normscale=[0.5191434133679429, 0.24659312134977285, 0.23426346528228423]\n",
      "[10:54:59] < Debug >     k=0 i=2\n",
      "[10:54:59] < Debug >     k=1 i=1\n",
      "[10:54:59] < Debug >     k=2 i=0\n"
     ]
    },
    {
     "data": {
      "text/plain": [
       "(5.569759896171316, array([1., 1.]), array([[1., 2.],\n",
       "        [3., 4.]]))"
      ]
     },
     "execution_count": 7,
     "metadata": {},
     "output_type": "execute_result"
    }
   ],
   "source": [
    "g = np.array([1,1])\n",
    "h = np.array([[1,2],[3,4]])\n",
    "s.add(7,g,h,batch)\n"
   ]
  },
  {
   "cell_type": "code",
   "execution_count": 8,
   "metadata": {},
   "outputs": [
    {
     "name": "stdout",
     "output_type": "stream",
     "text": [
      "[3, 5, 7]\n",
      "[None, None, array([1, 1])]\n",
      "[None, None, array([[1, 2],\n",
      "       [3, 4]])]\n"
     ]
    }
   ],
   "source": [
    "print(s.f)\n",
    "print(s.g)\n",
    "print(s.h)"
   ]
  },
  {
   "cell_type": "code",
   "execution_count": 9,
   "metadata": {},
   "outputs": [
    {
     "name": "stdout",
     "output_type": "stream",
     "text": [
      "[10:54:59] < Debug >     scale=[0.5, 0.2375, 0.225625]\n",
      "[10:54:59] < Debug >     normscale=[0.5191434133679429, 0.24659312134977285, 0.23426346528228423]\n",
      "[10:54:59] < Debug >     k=0 i=3\n",
      "[10:54:59] < Debug >     k=1 i=2\n",
      "[10:54:59] < Debug >     k=2 i=1\n"
     ]
    },
    {
     "data": {
      "text/plain": [
       "(6.531473069435432, array([1., 1.]), array([[1., 2.],\n",
       "        [3., 4.]]))"
      ]
     },
     "execution_count": 9,
     "metadata": {},
     "output_type": "execute_result"
    }
   ],
   "source": [
    "g = np.array([1,1])\n",
    "s.add(7,g,None,batch)"
   ]
  },
  {
   "cell_type": "code",
   "execution_count": 10,
   "metadata": {},
   "outputs": [
    {
     "name": "stdout",
     "output_type": "stream",
     "text": [
      "[10:54:59] < Debug >     scale=[0.5, 0.2375, 0.225625]\n",
      "[10:54:59] < Debug >     normscale=[0.5191434133679429, 0.24659312134977285, 0.23426346528228423]\n",
      "[10:54:59] < Debug >     k=0 i=4\n",
      "[10:54:59] < Debug >     k=1 i=3\n",
      "[10:54:59] < Debug >     k=2 i=2\n"
     ]
    },
    {
     "data": {
      "text/plain": [
       "(5.961713173264115, array([1., 1.]), array([[1., 2.],\n",
       "        [3., 4.]]))"
      ]
     },
     "execution_count": 10,
     "metadata": {},
     "output_type": "execute_result"
    }
   ],
   "source": [
    "s.add(5,None,None,batch)"
   ]
  },
  {
   "cell_type": "code",
   "execution_count": 11,
   "metadata": {},
   "outputs": [
    {
     "name": "stdout",
     "output_type": "stream",
     "text": [
      "[3, 5, 7, 7, 5]\n"
     ]
    }
   ],
   "source": [
    "print(s.f)"
   ]
  },
  {
   "cell_type": "code",
   "execution_count": 12,
   "metadata": {},
   "outputs": [
    {
     "name": "stdout",
     "output_type": "stream",
     "text": [
      "[None, None, array([1, 1]), array([1, 1]), None]\n"
     ]
    }
   ],
   "source": [
    "print(s.g)"
   ]
  },
  {
   "cell_type": "code",
   "execution_count": 13,
   "metadata": {},
   "outputs": [
    {
     "name": "stdout",
     "output_type": "stream",
     "text": [
      "[None, None, array([[1, 2],\n",
      "       [3, 4]]), None, None]\n"
     ]
    }
   ],
   "source": [
    "print(s.h)"
   ]
  },
  {
   "cell_type": "code",
   "execution_count": 14,
   "metadata": {},
   "outputs": [
    {
     "name": "stdout",
     "output_type": "stream",
     "text": [
      "[10:54:59] < Debug >     scale=[0.5, 0.2375, 0.225625]\n",
      "[10:54:59] < Debug >     normscale=[0.5191434133679429, 0.24659312134977285, 0.23426346528228423]\n",
      "[10:54:59] < Debug >     k=0 i=5\n",
      "[10:54:59] < Debug >     k=1 i=4\n",
      "[10:54:59] < Debug >     k=2 i=3\n",
      "[10:54:59] < Debug >     scale=[0.5, 0.2375, 0.225625]\n",
      "[10:54:59] < Debug >     normscale=[0.5191434133679429, 0.24659312134977285, 0.23426346528228423]\n",
      "[10:54:59] < Debug >     k=0 i=6\n",
      "[10:54:59] < Debug >     k=1 i=5\n",
      "[10:54:59] < Debug >     k=2 i=4\n",
      "[10:54:59] < Debug >     scale=[0.5, 0.2375, 0.225625]\n",
      "[10:54:59] < Debug >     normscale=[0.5191434133679429, 0.24659312134977285, 0.23426346528228423]\n",
      "[10:54:59] < Debug >     k=0 i=7\n",
      "[10:54:59] < Debug >     k=1 i=6\n",
      "[10:54:59] < Debug >     k=2 i=5\n"
     ]
    },
    {
     "data": {
      "text/plain": [
       "(7.0, array([1., 1.]), None)"
      ]
     },
     "execution_count": 14,
     "metadata": {},
     "output_type": "execute_result"
    }
   ],
   "source": [
    "g = np.array([1,1])\n",
    "s.add(7,g,None,batch)\n",
    "s.add(7,g,None,batch)\n",
    "s.add(7,g,None,batch)"
   ]
  },
  {
   "cell_type": "code",
   "execution_count": 15,
   "metadata": {},
   "outputs": [
    {
     "name": "stdout",
     "output_type": "stream",
     "text": [
      "[3, 5, 7, 7, 5, 7, 7, 7]\n"
     ]
    }
   ],
   "source": [
    "print(s.f)"
   ]
  },
  {
   "cell_type": "code",
   "execution_count": 16,
   "metadata": {},
   "outputs": [
    {
     "name": "stdout",
     "output_type": "stream",
     "text": [
      "[10:54:59] < Debug >     scale=[0.5, 0.2375, 0.225625]\n",
      "[10:54:59] < Debug >     normscale=[0.5191434133679429, 0.24659312134977285, 0.23426346528228423]\n",
      "[10:54:59] < Debug >     k=0 i=8\n",
      "[10:54:59] < Debug >     k=1 i=7\n",
      "[10:54:59] < Debug >     k=2 i=6\n",
      "[10:54:59] < Debug >     scale=[0.5, 0.2375, 0.225625]\n",
      "[10:54:59] < Debug >     normscale=[0.5191434133679429, 0.24659312134977285, 0.23426346528228423]\n",
      "[10:54:59] < Debug >     k=0 i=8\n",
      "[10:54:59] < Debug >     k=1 i=7\n",
      "[10:54:59] < Debug >     k=2 i=6\n"
     ]
    },
    {
     "data": {
      "text/plain": [
       "(3.885139519792343, array([1., 1.]), array([[1., 2.],\n",
       "        [3., 4.]]))"
      ]
     },
     "execution_count": 16,
     "metadata": {},
     "output_type": "execute_result"
    }
   ],
   "source": [
    "s.add(1,g,h,batch)\n",
    "s.f_g_h()"
   ]
  },
  {
   "cell_type": "code",
   "execution_count": null,
   "metadata": {},
   "outputs": [],
   "source": []
  }
 ],
 "metadata": {
  "kernelspec": {
   "display_name": "Python 3",
   "language": "python",
   "name": "python3"
  },
  "language_info": {
   "codemirror_mode": {
    "name": "ipython",
    "version": 3
   },
   "file_extension": ".py",
   "mimetype": "text/x-python",
   "name": "python",
   "nbconvert_exporter": "python",
   "pygments_lexer": "ipython3",
   "version": "3.8.0"
  }
 },
 "nbformat": 4,
 "nbformat_minor": 2
}
