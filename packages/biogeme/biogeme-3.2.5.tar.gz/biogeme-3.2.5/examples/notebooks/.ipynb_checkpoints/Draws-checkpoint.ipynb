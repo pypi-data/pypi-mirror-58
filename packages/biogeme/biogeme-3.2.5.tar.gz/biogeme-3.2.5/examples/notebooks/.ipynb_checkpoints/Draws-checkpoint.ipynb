{
 "cells": [
  {
   "cell_type": "markdown",
   "metadata": {},
   "source": [
    "# Draws: examples of use of each function"
   ]
  },
  {
   "cell_type": "code",
   "execution_count": 1,
   "metadata": {},
   "outputs": [
    {
     "name": "stdout",
     "output_type": "stream",
     "text": [
      "biogeme 3.2.0beta [July 5, 2019]\n",
      "Version entirely written in Python\n",
      "Home page: http://biogeme.epfl.ch\n",
      "Submit questions to https://groups.google.com/d/forum/biogeme\n",
      "Michel Bierlaire, Transport and Mobility Laboratory, Ecole Polytechnique Fédérale de Lausanne (EPFL)\n",
      "\n"
     ]
    }
   ],
   "source": [
    "import biogeme.version as ver\n",
    "print(ver.getText())"
   ]
  },
  {
   "cell_type": "markdown",
   "metadata": {},
   "source": [
    "This webpage is for programmers who need examples of use of the functions of the package. The examples are designed to illustrate the syntax. They do not correspond to any meaningful model. For examples of models, visit  [biogeme.epfl.ch](http://biogeme.epfl.ch)."
   ]
  },
  {
   "cell_type": "code",
   "execution_count": 2,
   "metadata": {},
   "outputs": [],
   "source": [
    "import biogeme.draws as dr\n",
    "import numpy as np\n",
    "np.random.seed(90267)"
   ]
  },
  {
   "cell_type": "markdown",
   "metadata": {},
   "source": [
    "# Uniform [0,1]"
   ]
  },
  {
   "cell_type": "code",
   "execution_count": 3,
   "metadata": {},
   "outputs": [
    {
     "data": {
      "text/plain": [
       "array([[0.4069955 , 0.95209084, 0.39330002, 0.42242449, 0.39231397,\n",
       "        0.65602235, 0.07182417, 0.28215248, 0.29462105, 0.29437835],\n",
       "       [0.71971885, 0.97647083, 0.86001524, 0.63780397, 0.09774763,\n",
       "        0.21585889, 0.90199693, 0.25945665, 0.24673199, 0.60813096],\n",
       "       [0.9140627 , 0.25344881, 0.29963774, 0.02324269, 0.00851069,\n",
       "        0.3091653 , 0.17208375, 0.84805301, 0.77527991, 0.23414075],\n",
       "       [0.77079754, 0.19328073, 0.70544962, 0.82828228, 0.31116112,\n",
       "        0.9894024 , 0.40037532, 0.25014783, 0.02921111, 0.71664137],\n",
       "       [0.30202232, 0.72123744, 0.63263169, 0.75556766, 0.2462707 ,\n",
       "        0.86918612, 0.06577372, 0.18950608, 0.7767769 , 0.39304748]])"
      ]
     },
     "execution_count": 3,
     "metadata": {},
     "output_type": "execute_result"
    }
   ],
   "source": [
    "draws = dr.getUniform(sampleSize=5,numberOfDraws=10,symmetric=False)\n",
    "draws"
   ]
  },
  {
   "cell_type": "code",
   "execution_count": 4,
   "metadata": {},
   "outputs": [
    {
     "data": {
      "text/plain": [
       "array([[-0.7972486 ,  0.43932172,  0.12704909,  0.97976216,  0.60990425,\n",
       "        -0.43047078,  0.3801898 ,  0.53669883,  0.02269837, -0.76152749],\n",
       "       [ 0.70024779, -0.20666857,  0.3249147 ,  0.88788465,  0.3023599 ,\n",
       "        -0.35230338, -0.73773986,  0.0668928 ,  0.34675793,  0.51264366],\n",
       "       [ 0.02467439,  0.87917918,  0.02328583,  0.78753938, -0.09268759,\n",
       "         0.856737  , -0.63199336,  0.14869125,  0.80007704,  0.66809621],\n",
       "       [ 0.1419448 , -0.87301841, -0.30347024, -0.06067682,  0.54986908,\n",
       "        -0.20444369,  0.0851975 ,  0.54340839,  0.31863007,  0.18575183],\n",
       "       [-0.20997047,  0.76199673, -0.1456851 ,  0.45275899,  0.64913641,\n",
       "        -0.06190449, -0.50268088,  0.53747757,  0.20061532,  0.41688397]])"
      ]
     },
     "execution_count": 4,
     "metadata": {},
     "output_type": "execute_result"
    }
   ],
   "source": [
    "draws = dr.getUniform(sampleSize=5,numberOfDraws=10,symmetric=True)\n",
    "draws"
   ]
  },
  {
   "cell_type": "markdown",
   "metadata": {},
   "source": [
    "# LatinHypercube"
   ]
  },
  {
   "cell_type": "markdown",
   "metadata": {},
   "source": [
    "The Modified Latin Hypercube Sampling (MLHS, Hess et al, 2006) provides U[0,1] draws from a perturbed grid, designed for Monte-Carlo integration."
   ]
  },
  {
   "cell_type": "code",
   "execution_count": 5,
   "metadata": {},
   "outputs": [
    {
     "data": {
      "text/plain": [
       "array([[0.96692005, 0.31397194, 0.0279293 , 0.20996966, 0.78767221,\n",
       "        0.57327632, 0.89210442, 0.41847516, 0.22694015, 0.38301518],\n",
       "       [0.27355648, 0.19259422, 0.85435127, 0.63952916, 0.82985136,\n",
       "        0.76378149, 0.8095796 , 0.33670183, 0.92253325, 0.58890961],\n",
       "       [0.94130974, 0.07676405, 0.15363207, 0.11068109, 0.00795167,\n",
       "        0.1340176 , 0.64915249, 0.55013326, 0.16117035, 0.04430218],\n",
       "       [0.61865474, 0.45106157, 0.66318739, 0.49059895, 0.42154566,\n",
       "        0.98561874, 0.7297248 , 0.68936361, 0.70029956, 0.87196312],\n",
       "       [0.36619469, 0.74608727, 0.34213477, 0.25705824, 0.91108742,\n",
       "        0.47013838, 0.29333618, 0.50096569, 0.52988038, 0.08357987]])"
      ]
     },
     "execution_count": 5,
     "metadata": {},
     "output_type": "execute_result"
    }
   ],
   "source": [
    "latinHypercube = dr.getLatinHypercubeDraws(sampleSize=5,numberOfDraws=10)\n",
    "latinHypercube"
   ]
  },
  {
   "cell_type": "markdown",
   "metadata": {},
   "source": [
    "The same method can be used to generate draws from U[-1,1]"
   ]
  },
  {
   "cell_type": "code",
   "execution_count": 6,
   "metadata": {},
   "outputs": [
    {
     "data": {
      "text/plain": [
       "array([[ 0.1009154 ,  0.32230489,  0.39965516, -0.52960257,  0.31537687,\n",
       "        -0.48071106, -0.4480993 , -0.56018981,  0.66684269, -0.95219541],\n",
       "       [-0.22985636,  0.75985021, -0.81142985, -0.32076723, -0.42710376,\n",
       "         0.60710223,  0.89075106, -0.14397985, -0.74623923,  0.82277416],\n",
       "       [-0.05767314,  0.47083182,  0.54630234, -0.10347128,  0.07078188,\n",
       "        -0.01263729,  0.69736723,  0.57326205,  0.13971215, -0.77545966],\n",
       "       [ 0.41095797, -0.86777938,  0.26479182, -0.99798353,  0.97241741,\n",
       "         0.84383457, -0.90179209,  0.50923934, -0.6821069 ,  0.01884605],\n",
       "       [ 0.16200781,  0.93749292, -0.36148522, -0.24471338, -0.30418785,\n",
       "        -0.66866319, -0.19092257, -0.60363184,  0.78167131,  0.23317729]])"
      ]
     },
     "execution_count": 6,
     "metadata": {},
     "output_type": "execute_result"
    }
   ],
   "source": [
    "latinHypercube = dr.getLatinHypercubeDraws(sampleSize=5,numberOfDraws=10,symmetric=True)\n",
    "latinHypercube"
   ]
  },
  {
   "cell_type": "markdown",
   "metadata": {},
   "source": [
    "The user can provide her own series of U[0,1] draws. "
   ]
  },
  {
   "cell_type": "code",
   "execution_count": 7,
   "metadata": {},
   "outputs": [
    {
     "data": {
      "text/plain": [
       "array([0.94595662, 0.75624039, 0.5626073 , 0.68822747, 0.11506206,\n",
       "       0.93047745, 0.14129058, 0.86949077, 0.34743558, 0.86717955,\n",
       "       0.54650833, 0.83180913, 0.02418579, 0.59286181, 0.51606655,\n",
       "       0.5216173 , 0.79076696, 0.26502822, 0.65200698, 0.51636135,\n",
       "       0.9133784 , 0.37580055, 0.89681417, 0.54533271, 0.05300588,\n",
       "       0.87918527, 0.10185716, 0.02088791, 0.02664367, 0.46244862])"
      ]
     },
     "execution_count": 7,
     "metadata": {},
     "output_type": "execute_result"
    }
   ],
   "source": [
    "myUnif = np.random.uniform(size=30)\n",
    "myUnif"
   ]
  },
  {
   "cell_type": "code",
   "execution_count": 8,
   "metadata": {},
   "outputs": [
    {
     "data": {
      "text/plain": [
       "array([[0.65054538, 0.45309539, 0.57550094, 0.69711261, 0.12294092,\n",
       "        0.35155028, 0.86263951, 0.26231636, 0.20470969, 0.93422146],\n",
       "       [0.62173357, 0.98208162, 0.27824785, 0.05854135, 0.71252668,\n",
       "        0.80176686, 0.32890598, 0.13716874, 0.08542024, 0.76322714],\n",
       "       [0.40080619, 0.90069626, 0.55969223, 0.78484442, 0.39439364,\n",
       "        0.87006191, 0.51738724, 0.03153189, 0.19768258, 0.48386888]])"
      ]
     },
     "execution_count": 8,
     "metadata": {},
     "output_type": "execute_result"
    }
   ],
   "source": [
    "latinHypercube = dr.getLatinHypercubeDraws(sampleSize=3,numberOfDraws=10,symmetric=False,uniformNumbers=myUnif)\n",
    "latinHypercube"
   ]
  },
  {
   "cell_type": "markdown",
   "metadata": {},
   "source": [
    "The uniform draws can also be arranged in a two-dimension array"
   ]
  },
  {
   "cell_type": "code",
   "execution_count": 9,
   "metadata": {},
   "outputs": [
    {
     "data": {
      "text/plain": [
       "array([[0.89432446, 0.77300028, 0.8039491 , 0.36278278, 0.91814889,\n",
       "        0.30462751, 0.16233859, 0.71370601, 0.98551037, 0.33490709],\n",
       "       [0.5736626 , 0.64790692, 0.24650316, 0.30628703, 0.64929078,\n",
       "        0.43812027, 0.38225411, 0.99207698, 0.05434605, 0.52960409],\n",
       "       [0.3180305 , 0.4834575 , 0.27358167, 0.35842573, 0.25659313,\n",
       "        0.69412519, 0.8687427 , 0.57745813, 0.68024483, 0.62150833]])"
      ]
     },
     "execution_count": 9,
     "metadata": {},
     "output_type": "execute_result"
    }
   ],
   "source": [
    "myUnif = dr.getUniform(sampleSize=3,numberOfDraws=10)\n",
    "myUnif"
   ]
  },
  {
   "cell_type": "code",
   "execution_count": 10,
   "metadata": {},
   "outputs": [
    {
     "data": {
      "text/plain": [
       "array([[0.98738361, 0.4435429 , 0.6509868 , 0.67726768, 0.31116357,\n",
       "        0.9192486 , 0.71611525, 0.11209276, 0.51460401, 0.38826356],\n",
       "       [0.05910001, 0.20541129, 0.95600816, 0.1639383 , 0.40821677,\n",
       "        0.85647084, 0.89562476, 0.02981082, 0.35245542, 0.25712353],\n",
       "       [0.74245272, 0.5997359 , 0.48830969, 0.29951701, 0.54607514,\n",
       "        0.09346497, 0.17682092, 0.77861419, 0.8085531 , 0.60181153]])"
      ]
     },
     "execution_count": 10,
     "metadata": {},
     "output_type": "execute_result"
    }
   ],
   "source": [
    "latinHypercube = dr.getLatinHypercubeDraws(sampleSize=3,numberOfDraws=10,uniformNumbers=myUnif)\n",
    "latinHypercube"
   ]
  },
  {
   "cell_type": "markdown",
   "metadata": {},
   "source": [
    "# Halton draws"
   ]
  },
  {
   "cell_type": "markdown",
   "metadata": {},
   "source": [
    "One Halton sequence"
   ]
  },
  {
   "cell_type": "code",
   "execution_count": 12,
   "metadata": {},
   "outputs": [
    {
     "data": {
      "text/plain": [
       "array([[0.33333333, 0.66666667, 0.11111111, 0.44444444, 0.77777778,\n",
       "        0.22222222, 0.55555556, 0.88888889, 0.03703704, 0.37037037]])"
      ]
     },
     "execution_count": 12,
     "metadata": {},
     "output_type": "execute_result"
    }
   ],
   "source": [
    "halton = dr.getHaltonDraws(sampleSize=1,numberOfDraws=10,base=3)\n",
    "halton"
   ]
  },
  {
   "cell_type": "markdown",
   "metadata": {},
   "source": [
    "Several Halton sequences"
   ]
  },
  {
   "cell_type": "code",
   "execution_count": null,
   "metadata": {},
   "outputs": [],
   "source": [
    "halton = dr.getHaltonDraws(sampleSize=3,numberOfDraws=10)\n",
    "halton"
   ]
  },
  {
   "cell_type": "markdown",
   "metadata": {},
   "source": [
    "Shuffled Halton sequences"
   ]
  },
  {
   "cell_type": "code",
   "execution_count": null,
   "metadata": {},
   "outputs": [],
   "source": [
    "halton = dr.getHaltonDraws(sampleSize=3,numberOfDraws=10,shuffled=True)\n",
    "halton"
   ]
  },
  {
   "cell_type": "markdown",
   "metadata": {},
   "source": [
    "The above sequences were generated using the default base: 2. It is possible to generate sequences using different prime numbers."
   ]
  },
  {
   "cell_type": "code",
   "execution_count": null,
   "metadata": {},
   "outputs": [],
   "source": [
    "halton = dr.getHaltonDraws(sampleSize=1,numberOfDraws=10,base=3)\n",
    "halton"
   ]
  },
  {
   "cell_type": "markdown",
   "metadata": {},
   "source": [
    "It is also possible to skip the first items of the sequence. This is desirable in the context of Monte-Carlo integration. "
   ]
  },
  {
   "cell_type": "code",
   "execution_count": null,
   "metadata": {},
   "outputs": [],
   "source": [
    "halton = dr.getHaltonDraws(sampleSize=1,numberOfDraws=10,base=3,skip=10)\n",
    "halton"
   ]
  },
  {
   "cell_type": "markdown",
   "metadata": {},
   "source": [
    "# Antithetic"
   ]
  },
  {
   "cell_type": "markdown",
   "metadata": {},
   "source": [
    "Antithetic draws can be generated from any function generating uniform draws"
   ]
  },
  {
   "cell_type": "code",
   "execution_count": null,
   "metadata": {},
   "outputs": [],
   "source": [
    "draws = dr.getAntithetic(dr.getUniform,sampleSize=3,numberOfDraws=10)\n",
    "draws"
   ]
  },
  {
   "cell_type": "markdown",
   "metadata": {},
   "source": [
    "Antithetic MLHS"
   ]
  },
  {
   "cell_type": "code",
   "execution_count": null,
   "metadata": {},
   "outputs": [],
   "source": [
    "draws = dr.getAntithetic(dr.getLatinHypercubeDraws,sampleSize=3,numberOfDraws=10)\n",
    "draws"
   ]
  },
  {
   "cell_type": "markdown",
   "metadata": {},
   "source": [
    "Antithetic Halton."
   ]
  },
  {
   "cell_type": "code",
   "execution_count": null,
   "metadata": {},
   "outputs": [],
   "source": [
    "draws = dr.getAntithetic(dr.getHaltonDraws,sampleSize=1,numberOfDraws=10)\n",
    "draws"
   ]
  },
  {
   "cell_type": "markdown",
   "metadata": {},
   "source": [
    "As antithetic Halton draws may be correlated, it is a good idea to skip the first draws"
   ]
  },
  {
   "cell_type": "code",
   "execution_count": null,
   "metadata": {},
   "outputs": [],
   "source": [
    "def halton(sampleSize,numberOfDraws):\n",
    "    return dr.getHaltonDraws(numberOfDraws,sampleSize,skip=100)\n",
    "draws = dr.getAntithetic(halton,sampleSize=3,numberOfDraws=10)\n",
    "draws"
   ]
  },
  {
   "cell_type": "markdown",
   "metadata": {},
   "source": [
    "# Normal draws"
   ]
  },
  {
   "cell_type": "markdown",
   "metadata": {},
   "source": [
    "Generate pseudo-random numbers from a normal distribution N(0,1) using the Algorithm AS241 Appl. Statist. (1988) Vol. 37, No. 3 by Wichura"
   ]
  },
  {
   "cell_type": "code",
   "execution_count": null,
   "metadata": {},
   "outputs": [],
   "source": [
    "draws = dr.getNormalWichuraDraws(sampleSize=3,numberOfDraws=10)\n",
    "draws"
   ]
  },
  {
   "cell_type": "markdown",
   "metadata": {},
   "source": [
    "The antithetic version actually generates half of the draws and complete them with their antithetic version"
   ]
  },
  {
   "cell_type": "code",
   "execution_count": null,
   "metadata": {},
   "outputs": [],
   "source": [
    "draws = dr.getNormalWichuraDraws(sampleSize=3,numberOfDraws=10,antithetic=True)\n",
    "draws"
   ]
  },
  {
   "cell_type": "markdown",
   "metadata": {},
   "source": [
    "The user can provide her own series of U[0,1] draws. In this example, we use the MLHS procedure to generate these draws. Note that, if the antithetic version is used, only half of the requested draws must be provided."
   ]
  },
  {
   "cell_type": "code",
   "execution_count": null,
   "metadata": {},
   "outputs": [],
   "source": [
    "myUnif = dr.getLatinHypercubeDraws(sampleSize=3,numberOfDraws=5)\n",
    "myUnif\n"
   ]
  },
  {
   "cell_type": "code",
   "execution_count": null,
   "metadata": {},
   "outputs": [],
   "source": [
    "draws = dr.getNormalWichuraDraws(sampleSize=3,numberOfDraws=10,uniformNumbers=myUnif,antithetic=True)\n",
    "draws"
   ]
  },
  {
   "cell_type": "markdown",
   "metadata": {},
   "source": [
    "The same with Halton draws"
   ]
  },
  {
   "cell_type": "code",
   "execution_count": null,
   "metadata": {},
   "outputs": [],
   "source": [
    "myUnif = dr.getHaltonDraws(sampleSize=2,numberOfDraws=5,base=3,skip=10)\n",
    "myUnif"
   ]
  },
  {
   "cell_type": "code",
   "execution_count": null,
   "metadata": {},
   "outputs": [],
   "source": [
    "draws = dr.getNormalWichuraDraws(numberOfDraws=10,sampleSize=2,uniformNumbers=myUnif,antithetic=True)\n",
    "draws"
   ]
  },
  {
   "cell_type": "code",
   "execution_count": null,
   "metadata": {},
   "outputs": [],
   "source": []
  }
 ],
 "metadata": {
  "kernelspec": {
   "display_name": "Python 3",
   "language": "python",
   "name": "python3"
  },
  "language_info": {
   "codemirror_mode": {
    "name": "ipython",
    "version": 3
   },
   "file_extension": ".py",
   "mimetype": "text/x-python",
   "name": "python",
   "nbconvert_exporter": "python",
   "pygments_lexer": "ipython3",
   "version": "3.6.8"
  }
 },
 "nbformat": 4,
 "nbformat_minor": 2
}
