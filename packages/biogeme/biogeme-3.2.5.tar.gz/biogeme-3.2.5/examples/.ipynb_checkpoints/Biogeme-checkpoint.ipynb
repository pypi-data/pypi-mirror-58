{
 "cells": [
  {
   "cell_type": "markdown",
   "metadata": {},
   "source": [
    "# class BIOGEME: examples of use of each function"
   ]
  },
  {
   "cell_type": "code",
   "execution_count": 1,
   "metadata": {},
   "outputs": [
    {
     "name": "stdout",
     "output_type": "stream",
     "text": [
      "biogeme 3.1.2beta [March 14, 2019]\n",
      "Version entirely written in Python\n",
      "Home page: http://biogeme.epfl.ch\n",
      "Submit questions to https://groups.google.com/d/forum/biogeme\n",
      "Michel Bierlaire, Transport and Mobility Laboratory, Ecole Polytechnique Fédérale de Lausanne (EPFL)\n",
      "\n"
     ]
    }
   ],
   "source": [
    "import biogeme.version as ver\n",
    "print(ver.getText())"
   ]
  },
  {
   "cell_type": "markdown",
   "metadata": {},
   "source": [
    "This webpage is for programmers who need examples of use of the functions of the class. The examples are designed to illustrate the syntax. They do not correspond to any meaningful model. For examples of models, visit  [biogeme.epfl.ch](http://biogeme.epfl.ch)."
   ]
  },
  {
   "cell_type": "code",
   "execution_count": 2,
   "metadata": {},
   "outputs": [],
   "source": [
    "import biogeme.biogeme as bio\n",
    "import biogeme.database as db\n",
    "import pandas as pd\n",
    "import numpy as np\n",
    "from biogeme.expressions import *"
   ]
  },
  {
   "cell_type": "markdown",
   "metadata": {},
   "source": [
    "##  Definition of a database"
   ]
  },
  {
   "cell_type": "code",
   "execution_count": 3,
   "metadata": {},
   "outputs": [],
   "source": [
    "df = pd.DataFrame({'Person':[1,1,1,2,2],\n",
    "                   'Exclude':[0,0,1,0,1],\n",
    "                   'Variable1':[1,2,3,4,5],\n",
    "                   'Variable2':[10,20,30,40,50],\n",
    "                   'Choice':[1,2,3,1,2],\n",
    "                   'Av1':[0,1,1,1,1],\n",
    "                   'Av2':[1,1,1,1,1],\n",
    "                   'Av3':[0,1,1,1,1]})\n",
    "myData = db.Database('test',df)"
   ]
  },
  {
   "cell_type": "markdown",
   "metadata": {},
   "source": [
    "## Definition of various expressions"
   ]
  },
  {
   "cell_type": "code",
   "execution_count": 4,
   "metadata": {},
   "outputs": [],
   "source": [
    "Variable1=Variable('Variable1')\n",
    "Variable2=Variable('Variable2')\n",
    "beta1 = Beta('beta1',-1.0,-3,3,0)\n",
    "beta2 = Beta('beta2',2.0,-3,10,0)\n",
    "likelihood = -beta1**2 * Variable1 - exp(beta2*beta1) * Variable2 - beta2**4\n",
    "simul = beta1 / Variable1 + beta2 / Variable2\n",
    "dictOfExpressions = {'loglike':likelihood,'beta1':beta1,'simul':simul}"
   ]
  },
  {
   "cell_type": "markdown",
   "metadata": {},
   "source": [
    "## Creation of the BIOGEME object"
   ]
  },
  {
   "cell_type": "code",
   "execution_count": 5,
   "metadata": {},
   "outputs": [
    {
     "name": "stdout",
     "output_type": "stream",
     "text": [
      "simpleExample: database [test]{'loglike': ((((-(beta1(-1.0) ** `2`)) * Variable1) - (exp((beta2(2.0) * beta1(-1.0))) * Variable2)) - (beta2(2.0) ** `4`)), 'beta1': beta1(-1.0), 'simul': ((beta1(-1.0) / Variable1) + (beta2(2.0) / Variable2))}\n",
      "simpleExample: database [test]{'loglike': ((((-(beta1(-1.0) ** `2`)) * Variable1) - (exp((beta2(2.0) * beta1(-1.0))) * Variable2)) - (beta2(2.0) ** `4`)), 'beta1': beta1(-1.0), 'simul': ((beta1(-1.0) / Variable1) + (beta2(2.0) / Variable2))}\n"
     ]
    }
   ],
   "source": [
    "myBiogeme = bio.BIOGEME(myData,dictOfExpressions)\n",
    "myBiogeme.modelName = 'simpleExample'\n",
    "print(myBiogeme)"
   ]
  },
  {
   "cell_type": "markdown",
   "metadata": {},
   "source": [
    "## calculateInitLikelihood"
   ]
  },
  {
   "cell_type": "code",
   "execution_count": 6,
   "metadata": {},
   "outputs": [
    {
     "data": {
      "text/plain": [
       "-115.30029248549191"
      ]
     },
     "execution_count": 6,
     "metadata": {},
     "output_type": "execute_result"
    }
   ],
   "source": [
    "myBiogeme.calculateInitLikelihood()"
   ]
  },
  {
   "cell_type": "markdown",
   "metadata": {},
   "source": [
    "## calculateLikelihood"
   ]
  },
  {
   "cell_type": "code",
   "execution_count": 7,
   "metadata": {},
   "outputs": [
    {
     "name": "stdout",
     "output_type": "stream",
     "text": [
      "[0.0, 3.0]\n"
     ]
    }
   ],
   "source": [
    "x = myBiogeme.betaInitValues\n",
    "xplus = [v+1 for v in x]\n",
    "print(xplus)"
   ]
  },
  {
   "cell_type": "code",
   "execution_count": 8,
   "metadata": {},
   "outputs": [
    {
     "data": {
      "text/plain": [
       "-555.0"
      ]
     },
     "execution_count": 8,
     "metadata": {},
     "output_type": "execute_result"
    }
   ],
   "source": [
    "myBiogeme.calculateLikelihood(xplus)"
   ]
  },
  {
   "cell_type": "markdown",
   "metadata": {},
   "source": [
    "## calculateLikelihoodAndDerivatives"
   ]
  },
  {
   "cell_type": "code",
   "execution_count": 9,
   "metadata": {},
   "outputs": [
    {
     "name": "stdout",
     "output_type": "stream",
     "text": [
      "f=-555.0\n",
      "g=[-450. -540.]\n",
      "h=[[-1350.  -150.]\n",
      " [ -150.  -540.]]\n",
      "bhhh=[[49500. 48600.]\n",
      " [48600. 58320.]]\n"
     ]
    }
   ],
   "source": [
    "f,g,h,bhhh = myBiogeme.calculateLikelihoodAndDerivatives(xplus,hessian=True,bhhh=True)\n",
    "print(f'f={f}')\n",
    "print(f'g={g}')\n",
    "print(f'h={h}')\n",
    "print(f'bhhh={bhhh}')"
   ]
  },
  {
   "cell_type": "markdown",
   "metadata": {},
   "source": [
    "## likelihoodFiniteDifferenceHessian"
   ]
  },
  {
   "cell_type": "code",
   "execution_count": 10,
   "metadata": {},
   "outputs": [
    {
     "data": {
      "text/plain": [
       "array([[-1380.00020229,  -150.        ],\n",
       "       [ -150.0000451 ,  -540.00005396]])"
      ]
     },
     "execution_count": 10,
     "metadata": {},
     "output_type": "execute_result"
    }
   ],
   "source": [
    "myBiogeme.likelihoodFiniteDifferenceHessian(xplus)"
   ]
  },
  {
   "cell_type": "markdown",
   "metadata": {},
   "source": [
    "## checkDerivatives"
   ]
  },
  {
   "cell_type": "code",
   "execution_count": 11,
   "metadata": {},
   "outputs": [
    {
     "name": "stderr",
     "output_type": "stream",
     "text": [
      "31-03-2019:12:18:12,710 INFO     [tools.py:53] x\t\tGradient\tFinDiff\t\tDifference\n",
      "31-03-2019:12:18:12,711 INFO     [tools.py:55] beta1          \t-1.060058E+01\t-1.060058E+01\t-5.427932E-06\n",
      "31-03-2019:12:18:12,712 INFO     [tools.py:55] beta2          \t-1.396997E+02\t-1.396997E+02\t+2.608000E-05\n",
      "31-03-2019:12:18:12,714 INFO     [tools.py:60] Row\t\tCol\t\tHessian\tFinDiff\t\tDifference\n",
      "31-03-2019:12:18:12,715 INFO     [tools.py:63] beta1          \tbeta1          \t-1.112012E+02\t-1.112012E+02\t-8.045522E-06\n",
      "31-03-2019:12:18:12,715 INFO     [tools.py:63] beta1          \tbeta2          \t+2.030029E+01\t+2.030029E+01\t+7.365980E-09\n",
      "31-03-2019:12:18:12,716 INFO     [tools.py:63] beta2          \tbeta1          \t+2.030029E+01\t+2.030029E+01\t-1.613879E-07\n",
      "31-03-2019:12:18:12,717 INFO     [tools.py:63] beta2          \tbeta2          \t-2.603003E+02\t-2.603003E+02\t+2.229281E-05\n"
     ]
    }
   ],
   "source": [
    "f,g,h,gdiff,hdiff = myBiogeme.checkDerivatives(verbose=True)"
   ]
  },
  {
   "cell_type": "code",
   "execution_count": 12,
   "metadata": {},
   "outputs": [
    {
     "name": "stdout",
     "output_type": "stream",
     "text": [
      "f=-115.30029248549191\n",
      "g=[ -10.60058497 -139.69970751]\n",
      "h=[[-111.20116994   20.30029249]\n",
      " [  20.30029249 -260.30029249]]\n",
      "gdiff=[-5.42793187e-06  2.60800035e-05]\n",
      "hdiff=[[-8.04552171e-06  7.36597983e-09]\n",
      " [-1.61387920e-07  2.22928137e-05]]\n"
     ]
    },
    {
     "data": {
      "text/plain": [
       "array([[-8.04552171e-06,  7.36597983e-09],\n",
       "       [-1.61387920e-07,  2.22928137e-05]])"
      ]
     },
     "execution_count": 12,
     "metadata": {},
     "output_type": "execute_result"
    }
   ],
   "source": [
    "print(f'f={f}')\n",
    "print(f'g={g}')\n",
    "print(f'h={h}')\n",
    "print(f'gdiff={gdiff}')\n",
    "print(f'hdiff={hdiff}')\n",
    "hdiff"
   ]
  },
  {
   "cell_type": "markdown",
   "metadata": {},
   "source": [
    "## estimate"
   ]
  },
  {
   "cell_type": "code",
   "execution_count": 13,
   "metadata": {},
   "outputs": [
    {
     "name": "stderr",
     "output_type": "stream",
     "text": [
      "31-03-2019:12:18:12,734 INFO     [biogeme.py:414] Re-estimate the model 10 times for bootstrapping\n"
     ]
    },
    {
     "name": "stdout",
     "output_type": "stream",
     "text": [
      "..........*\n"
     ]
    }
   ],
   "source": [
    "results = myBiogeme.estimate(bootstrap=10)"
   ]
  },
  {
   "cell_type": "code",
   "execution_count": 14,
   "metadata": {},
   "outputs": [
    {
     "data": {
      "text/html": [
       "<div>\n",
       "<style scoped>\n",
       "    .dataframe tbody tr th:only-of-type {\n",
       "        vertical-align: middle;\n",
       "    }\n",
       "\n",
       "    .dataframe tbody tr th {\n",
       "        vertical-align: top;\n",
       "    }\n",
       "\n",
       "    .dataframe thead th {\n",
       "        text-align: right;\n",
       "    }\n",
       "</style>\n",
       "<table border=\"1\" class=\"dataframe\">\n",
       "  <thead>\n",
       "    <tr style=\"text-align: right;\">\n",
       "      <th></th>\n",
       "      <th>Value</th>\n",
       "      <th>Std err</th>\n",
       "      <th>t-test</th>\n",
       "      <th>p-value</th>\n",
       "      <th>Rob. Std err</th>\n",
       "      <th>Rob. t-test</th>\n",
       "      <th>Rob. p-value</th>\n",
       "      <th>Bootstrap[10] Std err</th>\n",
       "      <th>Bootstrap t-test</th>\n",
       "      <th>Bootstrap p-value</th>\n",
       "    </tr>\n",
       "  </thead>\n",
       "  <tbody>\n",
       "    <tr>\n",
       "      <th>beta1</th>\n",
       "      <td>-1.273263</td>\n",
       "      <td>0.115144</td>\n",
       "      <td>-11.057992</td>\n",
       "      <td>0.0</td>\n",
       "      <td>0.013724</td>\n",
       "      <td>-92.778436</td>\n",
       "      <td>0.0</td>\n",
       "      <td>0.019643</td>\n",
       "      <td>-64.820052</td>\n",
       "      <td>0.0</td>\n",
       "    </tr>\n",
       "    <tr>\n",
       "      <th>beta2</th>\n",
       "      <td>1.248770</td>\n",
       "      <td>0.084830</td>\n",
       "      <td>14.720862</td>\n",
       "      <td>0.0</td>\n",
       "      <td>0.059086</td>\n",
       "      <td>21.134883</td>\n",
       "      <td>0.0</td>\n",
       "      <td>0.086419</td>\n",
       "      <td>14.450243</td>\n",
       "      <td>0.0</td>\n",
       "    </tr>\n",
       "  </tbody>\n",
       "</table>\n",
       "</div>"
      ],
      "text/plain": [
       "          Value   Std err     t-test  p-value  Rob. Std err  Rob. t-test  \\\n",
       "beta1 -1.273263  0.115144 -11.057992      0.0      0.013724   -92.778436   \n",
       "beta2  1.248770  0.084830  14.720862      0.0      0.059086    21.134883   \n",
       "\n",
       "       Rob. p-value  Bootstrap[10] Std err  Bootstrap t-test  \\\n",
       "beta1           0.0               0.019643        -64.820052   \n",
       "beta2           0.0               0.086419         14.450243   \n",
       "\n",
       "       Bootstrap p-value  \n",
       "beta1                0.0  \n",
       "beta2                0.0  "
      ]
     },
     "execution_count": 14,
     "metadata": {},
     "output_type": "execute_result"
    }
   ],
   "source": [
    "results.getEstimatedParameters()"
   ]
  },
  {
   "cell_type": "markdown",
   "metadata": {},
   "source": [
    "## simulate"
   ]
  },
  {
   "cell_type": "code",
   "execution_count": 15,
   "metadata": {},
   "outputs": [
    {
     "data": {
      "text/html": [
       "<div>\n",
       "<style scoped>\n",
       "    .dataframe tbody tr th:only-of-type {\n",
       "        vertical-align: middle;\n",
       "    }\n",
       "\n",
       "    .dataframe tbody tr th {\n",
       "        vertical-align: top;\n",
       "    }\n",
       "\n",
       "    .dataframe thead th {\n",
       "        text-align: right;\n",
       "    }\n",
       "</style>\n",
       "<table border=\"1\" class=\"dataframe\">\n",
       "  <thead>\n",
       "    <tr style=\"text-align: right;\">\n",
       "      <th></th>\n",
       "      <th>loglike</th>\n",
       "      <th>beta1</th>\n",
       "      <th>simul</th>\n",
       "    </tr>\n",
       "  </thead>\n",
       "  <tbody>\n",
       "    <tr>\n",
       "      <th>0</th>\n",
       "      <td>-18.353353</td>\n",
       "      <td>-1.0</td>\n",
       "      <td>-0.800000</td>\n",
       "    </tr>\n",
       "    <tr>\n",
       "      <th>1</th>\n",
       "      <td>-20.706706</td>\n",
       "      <td>-1.0</td>\n",
       "      <td>-0.400000</td>\n",
       "    </tr>\n",
       "    <tr>\n",
       "      <th>2</th>\n",
       "      <td>-23.060058</td>\n",
       "      <td>-1.0</td>\n",
       "      <td>-0.266667</td>\n",
       "    </tr>\n",
       "    <tr>\n",
       "      <th>3</th>\n",
       "      <td>-25.413411</td>\n",
       "      <td>-1.0</td>\n",
       "      <td>-0.200000</td>\n",
       "    </tr>\n",
       "    <tr>\n",
       "      <th>4</th>\n",
       "      <td>-27.766764</td>\n",
       "      <td>-1.0</td>\n",
       "      <td>-0.160000</td>\n",
       "    </tr>\n",
       "  </tbody>\n",
       "</table>\n",
       "</div>"
      ],
      "text/plain": [
       "     loglike  beta1     simul\n",
       "0 -18.353353   -1.0 -0.800000\n",
       "1 -20.706706   -1.0 -0.400000\n",
       "2 -23.060058   -1.0 -0.266667\n",
       "3 -25.413411   -1.0 -0.200000\n",
       "4 -27.766764   -1.0 -0.160000"
      ]
     },
     "execution_count": 15,
     "metadata": {},
     "output_type": "execute_result"
    }
   ],
   "source": [
    "# Simulate with the default values for the parameters\n",
    "simulationWithDefaultBetas = myBiogeme.simulate()\n",
    "simulationWithDefaultBetas"
   ]
  },
  {
   "cell_type": "code",
   "execution_count": 16,
   "metadata": {},
   "outputs": [
    {
     "name": "stdout",
     "output_type": "stream",
     "text": [
      "{'beta1': -1.2732625471419703, 'beta2': 1.2487704797933699}\n"
     ]
    },
    {
     "data": {
      "text/html": [
       "<div>\n",
       "<style scoped>\n",
       "    .dataframe tbody tr th:only-of-type {\n",
       "        vertical-align: middle;\n",
       "    }\n",
       "\n",
       "    .dataframe tbody tr th {\n",
       "        vertical-align: top;\n",
       "    }\n",
       "\n",
       "    .dataframe thead th {\n",
       "        text-align: right;\n",
       "    }\n",
       "</style>\n",
       "<table border=\"1\" class=\"dataframe\">\n",
       "  <thead>\n",
       "    <tr style=\"text-align: right;\">\n",
       "      <th></th>\n",
       "      <th>loglike</th>\n",
       "      <th>beta1</th>\n",
       "      <th>simul</th>\n",
       "    </tr>\n",
       "  </thead>\n",
       "  <tbody>\n",
       "    <tr>\n",
       "      <th>0</th>\n",
       "      <td>-6.092243</td>\n",
       "      <td>-1.273263</td>\n",
       "      <td>-1.148385</td>\n",
       "    </tr>\n",
       "    <tr>\n",
       "      <th>1</th>\n",
       "      <td>-9.752670</td>\n",
       "      <td>-1.273263</td>\n",
       "      <td>-0.574193</td>\n",
       "    </tr>\n",
       "    <tr>\n",
       "      <th>2</th>\n",
       "      <td>-13.413098</td>\n",
       "      <td>-1.273263</td>\n",
       "      <td>-0.382795</td>\n",
       "    </tr>\n",
       "    <tr>\n",
       "      <th>3</th>\n",
       "      <td>-17.073526</td>\n",
       "      <td>-1.273263</td>\n",
       "      <td>-0.287096</td>\n",
       "    </tr>\n",
       "    <tr>\n",
       "      <th>4</th>\n",
       "      <td>-20.733954</td>\n",
       "      <td>-1.273263</td>\n",
       "      <td>-0.229677</td>\n",
       "    </tr>\n",
       "  </tbody>\n",
       "</table>\n",
       "</div>"
      ],
      "text/plain": [
       "     loglike     beta1     simul\n",
       "0  -6.092243 -1.273263 -1.148385\n",
       "1  -9.752670 -1.273263 -0.574193\n",
       "2 -13.413098 -1.273263 -0.382795\n",
       "3 -17.073526 -1.273263 -0.287096\n",
       "4 -20.733954 -1.273263 -0.229677"
      ]
     },
     "execution_count": 16,
     "metadata": {},
     "output_type": "execute_result"
    }
   ],
   "source": [
    "# Simulate with the estimated values for the parameters\n",
    "print(results.getBetaValues())\n",
    "simulationWithEstimatedBetas = myBiogeme.simulate(results.getBetaValues())\n",
    "simulationWithEstimatedBetas"
   ]
  },
  {
   "cell_type": "markdown",
   "metadata": {},
   "source": [
    "## confidenceIntervals"
   ]
  },
  {
   "cell_type": "code",
   "execution_count": 17,
   "metadata": {},
   "outputs": [
    {
     "data": {
      "text/html": [
       "<div>\n",
       "<style scoped>\n",
       "    .dataframe tbody tr th:only-of-type {\n",
       "        vertical-align: middle;\n",
       "    }\n",
       "\n",
       "    .dataframe tbody tr th {\n",
       "        vertical-align: top;\n",
       "    }\n",
       "\n",
       "    .dataframe thead th {\n",
       "        text-align: right;\n",
       "    }\n",
       "</style>\n",
       "<table border=\"1\" class=\"dataframe\">\n",
       "  <thead>\n",
       "    <tr style=\"text-align: right;\">\n",
       "      <th>0.04999999999999999</th>\n",
       "      <th>loglike</th>\n",
       "      <th>beta1</th>\n",
       "      <th>simul</th>\n",
       "    </tr>\n",
       "  </thead>\n",
       "  <tbody>\n",
       "    <tr>\n",
       "      <th>0</th>\n",
       "      <td>-6.603086</td>\n",
       "      <td>-1.293523</td>\n",
       "      <td>-1.177369</td>\n",
       "    </tr>\n",
       "    <tr>\n",
       "      <th>1</th>\n",
       "      <td>-10.057267</td>\n",
       "      <td>-1.293523</td>\n",
       "      <td>-0.588684</td>\n",
       "    </tr>\n",
       "    <tr>\n",
       "      <th>2</th>\n",
       "      <td>-13.574207</td>\n",
       "      <td>-1.293523</td>\n",
       "      <td>-0.392456</td>\n",
       "    </tr>\n",
       "    <tr>\n",
       "      <th>3</th>\n",
       "      <td>-17.416180</td>\n",
       "      <td>-1.293523</td>\n",
       "      <td>-0.294342</td>\n",
       "    </tr>\n",
       "    <tr>\n",
       "      <th>4</th>\n",
       "      <td>-21.315153</td>\n",
       "      <td>-1.293523</td>\n",
       "      <td>-0.235474</td>\n",
       "    </tr>\n",
       "  </tbody>\n",
       "</table>\n",
       "</div>"
      ],
      "text/plain": [
       "0.04999999999999999    loglike     beta1     simul\n",
       "0                    -6.603086 -1.293523 -1.177369\n",
       "1                   -10.057267 -1.293523 -0.588684\n",
       "2                   -13.574207 -1.293523 -0.392456\n",
       "3                   -17.416180 -1.293523 -0.294342\n",
       "4                   -21.315153 -1.293523 -0.235474"
      ]
     },
     "execution_count": 17,
     "metadata": {},
     "output_type": "execute_result"
    }
   ],
   "source": [
    "drawsFromBetas = results.getBetasForSensitivityAnalysis(myBiogeme.freeBetaNames)\n",
    "left, right = myBiogeme.confidenceIntervals(drawsFromBetas)\n",
    "left"
   ]
  },
  {
   "cell_type": "code",
   "execution_count": 18,
   "metadata": {},
   "outputs": [
    {
     "data": {
      "text/html": [
       "<div>\n",
       "<style scoped>\n",
       "    .dataframe tbody tr th:only-of-type {\n",
       "        vertical-align: middle;\n",
       "    }\n",
       "\n",
       "    .dataframe tbody tr th {\n",
       "        vertical-align: top;\n",
       "    }\n",
       "\n",
       "    .dataframe thead th {\n",
       "        text-align: right;\n",
       "    }\n",
       "</style>\n",
       "<table border=\"1\" class=\"dataframe\">\n",
       "  <thead>\n",
       "    <tr style=\"text-align: right;\">\n",
       "      <th>0.95</th>\n",
       "      <th>loglike</th>\n",
       "      <th>beta1</th>\n",
       "      <th>simul</th>\n",
       "    </tr>\n",
       "  </thead>\n",
       "  <tbody>\n",
       "    <tr>\n",
       "      <th>0</th>\n",
       "      <td>-5.719262</td>\n",
       "      <td>-1.25391</td>\n",
       "      <td>-1.120701</td>\n",
       "    </tr>\n",
       "    <tr>\n",
       "      <th>1</th>\n",
       "      <td>-9.618684</td>\n",
       "      <td>-1.25391</td>\n",
       "      <td>-0.560351</td>\n",
       "    </tr>\n",
       "    <tr>\n",
       "      <th>2</th>\n",
       "      <td>-13.413449</td>\n",
       "      <td>-1.25391</td>\n",
       "      <td>-0.373567</td>\n",
       "    </tr>\n",
       "    <tr>\n",
       "      <th>3</th>\n",
       "      <td>-16.967952</td>\n",
       "      <td>-1.25391</td>\n",
       "      <td>-0.280175</td>\n",
       "    </tr>\n",
       "    <tr>\n",
       "      <th>4</th>\n",
       "      <td>-20.419810</td>\n",
       "      <td>-1.25391</td>\n",
       "      <td>-0.224140</td>\n",
       "    </tr>\n",
       "  </tbody>\n",
       "</table>\n",
       "</div>"
      ],
      "text/plain": [
       "0.95    loglike    beta1     simul\n",
       "0     -5.719262 -1.25391 -1.120701\n",
       "1     -9.618684 -1.25391 -0.560351\n",
       "2    -13.413449 -1.25391 -0.373567\n",
       "3    -16.967952 -1.25391 -0.280175\n",
       "4    -20.419810 -1.25391 -0.224140"
      ]
     },
     "execution_count": 18,
     "metadata": {},
     "output_type": "execute_result"
    }
   ],
   "source": [
    "right"
   ]
  }
 ],
 "metadata": {
  "kernelspec": {
   "display_name": "Python 3",
   "language": "python",
   "name": "python3"
  },
  "language_info": {
   "codemirror_mode": {
    "name": "ipython",
    "version": 3
   },
   "file_extension": ".py",
   "mimetype": "text/x-python",
   "name": "python",
   "nbconvert_exporter": "python",
   "pygments_lexer": "ipython3",
   "version": "3.6.8"
  }
 },
 "nbformat": 4,
 "nbformat_minor": 2
}
