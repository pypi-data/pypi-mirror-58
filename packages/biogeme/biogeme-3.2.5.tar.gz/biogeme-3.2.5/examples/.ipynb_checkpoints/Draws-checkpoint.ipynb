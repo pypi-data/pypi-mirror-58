{
 "cells": [
  {
   "cell_type": "markdown",
   "metadata": {},
   "source": [
    "# Draws: examples of use of each function"
   ]
  },
  {
   "cell_type": "code",
   "execution_count": 25,
   "metadata": {},
   "outputs": [
    {
     "name": "stdout",
     "output_type": "stream",
     "text": [
      "biogeme 3.1.3beta [March 14, 2019]\n",
      "Version entirely written in Python\n",
      "Home page: http://biogeme.epfl.ch\n",
      "Submit questions to https://groups.google.com/d/forum/biogeme\n",
      "Michel Bierlaire, Transport and Mobility Laboratory, Ecole Polytechnique Fédérale de Lausanne (EPFL)\n",
      "\n"
     ]
    }
   ],
   "source": [
    "import biogeme.version as ver\n",
    "print(ver.getText())"
   ]
  },
  {
   "cell_type": "markdown",
   "metadata": {},
   "source": [
    "This webpage is for programmers who need examples of use of the functions of the class. The examples are designed to illustrate the syntax. They do not correspond to any meaningful model. For examples of models, visit  [biogeme.epfl.ch](http://biogeme.epfl.ch)."
   ]
  },
  {
   "cell_type": "code",
   "execution_count": 1,
   "metadata": {},
   "outputs": [],
   "source": [
    "import biogeme.draws as dr\n",
    "import numpy as np\n",
    "np.random.seed(90267)"
   ]
  },
  {
   "cell_type": "markdown",
   "metadata": {},
   "source": [
    "# Uniform [0,1]"
   ]
  },
  {
   "cell_type": "code",
   "execution_count": 2,
   "metadata": {},
   "outputs": [
    {
     "data": {
      "text/plain": [
       "array([[0.4069955 , 0.95209084, 0.39330002, 0.42242449, 0.39231397,\n",
       "        0.65602235, 0.07182417, 0.28215248, 0.29462105, 0.29437835],\n",
       "       [0.71971885, 0.97647083, 0.86001524, 0.63780397, 0.09774763,\n",
       "        0.21585889, 0.90199693, 0.25945665, 0.24673199, 0.60813096],\n",
       "       [0.9140627 , 0.25344881, 0.29963774, 0.02324269, 0.00851069,\n",
       "        0.3091653 , 0.17208375, 0.84805301, 0.77527991, 0.23414075],\n",
       "       [0.77079754, 0.19328073, 0.70544962, 0.82828228, 0.31116112,\n",
       "        0.9894024 , 0.40037532, 0.25014783, 0.02921111, 0.71664137],\n",
       "       [0.30202232, 0.72123744, 0.63263169, 0.75556766, 0.2462707 ,\n",
       "        0.86918612, 0.06577372, 0.18950608, 0.7767769 , 0.39304748]])"
      ]
     },
     "execution_count": 2,
     "metadata": {},
     "output_type": "execute_result"
    }
   ],
   "source": [
    "draws = dr.getUniform(sampleSize=5,numberOfDraws=10,symmetric=False)\n",
    "draws"
   ]
  },
  {
   "cell_type": "code",
   "execution_count": 3,
   "metadata": {},
   "outputs": [
    {
     "data": {
      "text/plain": [
       "array([[-0.7972486 ,  0.43932172,  0.12704909,  0.97976216,  0.60990425,\n",
       "        -0.43047078,  0.3801898 ,  0.53669883,  0.02269837, -0.76152749],\n",
       "       [ 0.70024779, -0.20666857,  0.3249147 ,  0.88788465,  0.3023599 ,\n",
       "        -0.35230338, -0.73773986,  0.0668928 ,  0.34675793,  0.51264366],\n",
       "       [ 0.02467439,  0.87917918,  0.02328583,  0.78753938, -0.09268759,\n",
       "         0.856737  , -0.63199336,  0.14869125,  0.80007704,  0.66809621],\n",
       "       [ 0.1419448 , -0.87301841, -0.30347024, -0.06067682,  0.54986908,\n",
       "        -0.20444369,  0.0851975 ,  0.54340839,  0.31863007,  0.18575183],\n",
       "       [-0.20997047,  0.76199673, -0.1456851 ,  0.45275899,  0.64913641,\n",
       "        -0.06190449, -0.50268088,  0.53747757,  0.20061532,  0.41688397]])"
      ]
     },
     "execution_count": 3,
     "metadata": {},
     "output_type": "execute_result"
    }
   ],
   "source": [
    "draws = dr.getUniform(sampleSize=5,numberOfDraws=10,symmetric=True)\n",
    "draws"
   ]
  },
  {
   "cell_type": "markdown",
   "metadata": {},
   "source": [
    "# LatinHypercube"
   ]
  },
  {
   "cell_type": "markdown",
   "metadata": {},
   "source": [
    "The Modified Latin Hypercube Sampling (MLHS, Hess et al, 2006) provides U[0,1] draws from a perturbed grid, designed for Monte-Carlo integration."
   ]
  },
  {
   "cell_type": "code",
   "execution_count": 4,
   "metadata": {},
   "outputs": [
    {
     "data": {
      "text/plain": [
       "array([[0.96692005, 0.31397194, 0.0279293 , 0.20996966, 0.78767221,\n",
       "        0.57327632, 0.89210442, 0.41847516, 0.22694015, 0.38301518],\n",
       "       [0.27355648, 0.19259422, 0.85435127, 0.63952916, 0.82985136,\n",
       "        0.76378149, 0.8095796 , 0.33670183, 0.92253325, 0.58890961],\n",
       "       [0.94130974, 0.07676405, 0.15363207, 0.11068109, 0.00795167,\n",
       "        0.1340176 , 0.64915249, 0.55013326, 0.16117035, 0.04430218],\n",
       "       [0.61865474, 0.45106157, 0.66318739, 0.49059895, 0.42154566,\n",
       "        0.98561874, 0.7297248 , 0.68936361, 0.70029956, 0.87196312],\n",
       "       [0.36619469, 0.74608727, 0.34213477, 0.25705824, 0.91108742,\n",
       "        0.47013838, 0.29333618, 0.50096569, 0.52988038, 0.08357987]])"
      ]
     },
     "execution_count": 4,
     "metadata": {},
     "output_type": "execute_result"
    }
   ],
   "source": [
    "latinHypercube = dr.getLatinHypercubeDraws(sampleSize=5,numberOfDraws=10)\n",
    "latinHypercube"
   ]
  },
  {
   "cell_type": "markdown",
   "metadata": {},
   "source": [
    "The same method can be used to generate draws from U[-1,1]"
   ]
  },
  {
   "cell_type": "code",
   "execution_count": 5,
   "metadata": {},
   "outputs": [
    {
     "data": {
      "text/plain": [
       "array([[ 0.1009154 ,  0.32230489,  0.39965516, -0.52960257,  0.31537687,\n",
       "        -0.48071106, -0.4480993 , -0.56018981,  0.66684269, -0.95219541],\n",
       "       [-0.22985636,  0.75985021, -0.81142985, -0.32076723, -0.42710376,\n",
       "         0.60710223,  0.89075106, -0.14397985, -0.74623923,  0.82277416],\n",
       "       [-0.05767314,  0.47083182,  0.54630234, -0.10347128,  0.07078188,\n",
       "        -0.01263729,  0.69736723,  0.57326205,  0.13971215, -0.77545966],\n",
       "       [ 0.41095797, -0.86777938,  0.26479182, -0.99798353,  0.97241741,\n",
       "         0.84383457, -0.90179209,  0.50923934, -0.6821069 ,  0.01884605],\n",
       "       [ 0.16200781,  0.93749292, -0.36148522, -0.24471338, -0.30418785,\n",
       "        -0.66866319, -0.19092257, -0.60363184,  0.78167131,  0.23317729]])"
      ]
     },
     "execution_count": 5,
     "metadata": {},
     "output_type": "execute_result"
    }
   ],
   "source": [
    "latinHypercube = dr.getLatinHypercubeDraws(sampleSize=5,numberOfDraws=10,symmetric=True)\n",
    "latinHypercube"
   ]
  },
  {
   "cell_type": "markdown",
   "metadata": {},
   "source": [
    "The user can provide her own series of U[0,1] draws. "
   ]
  },
  {
   "cell_type": "code",
   "execution_count": 6,
   "metadata": {},
   "outputs": [
    {
     "data": {
      "text/plain": [
       "array([0.94595662, 0.75624039, 0.5626073 , 0.68822747, 0.11506206,\n",
       "       0.93047745, 0.14129058, 0.86949077, 0.34743558, 0.86717955,\n",
       "       0.54650833, 0.83180913, 0.02418579, 0.59286181, 0.51606655,\n",
       "       0.5216173 , 0.79076696, 0.26502822, 0.65200698, 0.51636135,\n",
       "       0.9133784 , 0.37580055, 0.89681417, 0.54533271, 0.05300588,\n",
       "       0.87918527, 0.10185716, 0.02088791, 0.02664367, 0.46244862])"
      ]
     },
     "execution_count": 6,
     "metadata": {},
     "output_type": "execute_result"
    }
   ],
   "source": [
    "myUnif = np.random.uniform(size=30)\n",
    "myUnif"
   ]
  },
  {
   "cell_type": "code",
   "execution_count": 7,
   "metadata": {},
   "outputs": [
    {
     "data": {
      "text/plain": [
       "array([[0.65054538, 0.45309539, 0.57550094, 0.69711261, 0.12294092,\n",
       "        0.35155028, 0.86263951, 0.26231636, 0.20470969, 0.93422146],\n",
       "       [0.62173357, 0.98208162, 0.27824785, 0.05854135, 0.71252668,\n",
       "        0.80176686, 0.32890598, 0.13716874, 0.08542024, 0.76322714],\n",
       "       [0.40080619, 0.90069626, 0.55969223, 0.78484442, 0.39439364,\n",
       "        0.87006191, 0.51738724, 0.03153189, 0.19768258, 0.48386888]])"
      ]
     },
     "execution_count": 7,
     "metadata": {},
     "output_type": "execute_result"
    }
   ],
   "source": [
    "latinHypercube = dr.getLatinHypercubeDraws(sampleSize=3,numberOfDraws=10,symmetric=False,uniformNumbers=myUnif)\n",
    "latinHypercube"
   ]
  },
  {
   "cell_type": "markdown",
   "metadata": {},
   "source": [
    "The uniform draws can also be arranged in a two-dimension array"
   ]
  },
  {
   "cell_type": "code",
   "execution_count": 8,
   "metadata": {},
   "outputs": [
    {
     "data": {
      "text/plain": [
       "array([[0.89432446, 0.77300028, 0.8039491 , 0.36278278, 0.91814889,\n",
       "        0.30462751, 0.16233859, 0.71370601, 0.98551037, 0.33490709],\n",
       "       [0.5736626 , 0.64790692, 0.24650316, 0.30628703, 0.64929078,\n",
       "        0.43812027, 0.38225411, 0.99207698, 0.05434605, 0.52960409],\n",
       "       [0.3180305 , 0.4834575 , 0.27358167, 0.35842573, 0.25659313,\n",
       "        0.69412519, 0.8687427 , 0.57745813, 0.68024483, 0.62150833]])"
      ]
     },
     "execution_count": 8,
     "metadata": {},
     "output_type": "execute_result"
    }
   ],
   "source": [
    "myUnif = dr.getUniform(sampleSize=3,numberOfDraws=10)\n",
    "myUnif"
   ]
  },
  {
   "cell_type": "code",
   "execution_count": 9,
   "metadata": {},
   "outputs": [
    {
     "data": {
      "text/plain": [
       "array([[0.98738361, 0.4435429 , 0.6509868 , 0.67726768, 0.31116357,\n",
       "        0.9192486 , 0.71611525, 0.11209276, 0.51460401, 0.38826356],\n",
       "       [0.05910001, 0.20541129, 0.95600816, 0.1639383 , 0.40821677,\n",
       "        0.85647084, 0.89562476, 0.02981082, 0.35245542, 0.25712353],\n",
       "       [0.74245272, 0.5997359 , 0.48830969, 0.29951701, 0.54607514,\n",
       "        0.09346497, 0.17682092, 0.77861419, 0.8085531 , 0.60181153]])"
      ]
     },
     "execution_count": 9,
     "metadata": {},
     "output_type": "execute_result"
    }
   ],
   "source": [
    "latinHypercube = dr.getLatinHypercubeDraws(sampleSize=3,numberOfDraws=10,uniformNumbers=myUnif)\n",
    "latinHypercube"
   ]
  },
  {
   "cell_type": "markdown",
   "metadata": {},
   "source": [
    "# Halton draws"
   ]
  },
  {
   "cell_type": "markdown",
   "metadata": {},
   "source": [
    "One Halton sequence"
   ]
  },
  {
   "cell_type": "code",
   "execution_count": 10,
   "metadata": {},
   "outputs": [
    {
     "data": {
      "text/plain": [
       "array([[0.33333333, 0.66666667, 0.11111111, 0.44444444, 0.77777778,\n",
       "        0.22222222, 0.55555556, 0.88888889, 0.03703704, 0.37037037,\n",
       "        0.7037037 , 0.14814815, 0.48148148, 0.81481481, 0.25925926,\n",
       "        0.59259259, 0.92592593, 0.07407407, 0.40740741, 0.74074074,\n",
       "        0.18518519, 0.51851852, 0.85185185, 0.2962963 , 0.62962963,\n",
       "        0.96296296, 0.01234568, 0.34567901, 0.67901235, 0.12345679,\n",
       "        0.45679012, 0.79012346, 0.2345679 , 0.56790123, 0.90123457,\n",
       "        0.04938272, 0.38271605, 0.71604938, 0.16049383, 0.49382716,\n",
       "        0.82716049, 0.27160494, 0.60493827, 0.9382716 , 0.08641975,\n",
       "        0.41975309, 0.75308642, 0.19753086, 0.5308642 , 0.86419753,\n",
       "        0.30864198, 0.64197531, 0.97530864, 0.02469136, 0.35802469,\n",
       "        0.69135802, 0.13580247, 0.4691358 , 0.80246914, 0.24691358,\n",
       "        0.58024691, 0.91358025, 0.0617284 , 0.39506173, 0.72839506,\n",
       "        0.17283951, 0.50617284, 0.83950617, 0.28395062, 0.61728395,\n",
       "        0.95061728, 0.09876543, 0.43209877, 0.7654321 , 0.20987654,\n",
       "        0.54320988, 0.87654321, 0.32098765, 0.65432099, 0.98765432,\n",
       "        0.00411523, 0.33744856, 0.67078189, 0.11522634, 0.44855967,\n",
       "        0.781893  , 0.22633745, 0.55967078, 0.89300412, 0.04115226,\n",
       "        0.3744856 , 0.70781893, 0.15226337, 0.48559671, 0.81893004,\n",
       "        0.26337449, 0.59670782, 0.93004115, 0.0781893 , 0.41152263]])"
      ]
     },
     "execution_count": 10,
     "metadata": {},
     "output_type": "execute_result"
    }
   ],
   "source": [
    "halton = dr.getHaltonDraws(sampleSize=1,numberOfDraws=100,base=3)\n",
    "halton"
   ]
  },
  {
   "cell_type": "markdown",
   "metadata": {},
   "source": [
    "Several Halton sequences"
   ]
  },
  {
   "cell_type": "code",
   "execution_count": 11,
   "metadata": {},
   "outputs": [
    {
     "data": {
      "text/plain": [
       "array([[0.5    , 0.25   , 0.75   , 0.125  , 0.625  , 0.375  , 0.875  ,\n",
       "        0.0625 , 0.5625 , 0.3125 ],\n",
       "       [0.8125 , 0.1875 , 0.6875 , 0.4375 , 0.9375 , 0.03125, 0.53125,\n",
       "        0.28125, 0.78125, 0.15625],\n",
       "       [0.65625, 0.40625, 0.90625, 0.09375, 0.59375, 0.34375, 0.84375,\n",
       "        0.21875, 0.71875, 0.46875]])"
      ]
     },
     "execution_count": 11,
     "metadata": {},
     "output_type": "execute_result"
    }
   ],
   "source": [
    "halton = dr.getHaltonDraws(sampleSize=3,numberOfDraws=10)\n",
    "halton"
   ]
  },
  {
   "cell_type": "markdown",
   "metadata": {},
   "source": [
    "Shuffled Halton sequences"
   ]
  },
  {
   "cell_type": "code",
   "execution_count": 12,
   "metadata": {},
   "outputs": [
    {
     "data": {
      "text/plain": [
       "array([[0.375  , 0.59375, 0.4375 , 0.1875 , 0.5625 , 0.03125, 0.5    ,\n",
       "        0.34375, 0.40625, 0.25   ],\n",
       "       [0.125  , 0.46875, 0.15625, 0.09375, 0.8125 , 0.6875 , 0.3125 ,\n",
       "        0.78125, 0.9375 , 0.53125],\n",
       "       [0.90625, 0.21875, 0.28125, 0.75   , 0.875  , 0.625  , 0.65625,\n",
       "        0.0625 , 0.84375, 0.71875]])"
      ]
     },
     "execution_count": 12,
     "metadata": {},
     "output_type": "execute_result"
    }
   ],
   "source": [
    "halton = dr.getHaltonDraws(sampleSize=3,numberOfDraws=10,shuffled=True)\n",
    "halton"
   ]
  },
  {
   "cell_type": "markdown",
   "metadata": {},
   "source": [
    "The above sequences were generated using the default base: 2. It is possible to generate sequences using different prime numbers."
   ]
  },
  {
   "cell_type": "code",
   "execution_count": 13,
   "metadata": {},
   "outputs": [
    {
     "data": {
      "text/plain": [
       "array([[0.33333333, 0.66666667, 0.11111111, 0.44444444, 0.77777778,\n",
       "        0.22222222, 0.55555556, 0.88888889, 0.03703704, 0.37037037]])"
      ]
     },
     "execution_count": 13,
     "metadata": {},
     "output_type": "execute_result"
    }
   ],
   "source": [
    "halton = dr.getHaltonDraws(sampleSize=1,numberOfDraws=10,base=3)\n",
    "halton"
   ]
  },
  {
   "cell_type": "markdown",
   "metadata": {},
   "source": [
    "It is also possible to skip the first items of the sequence. This is desirable in the context of Monte-Carlo integration. "
   ]
  },
  {
   "cell_type": "code",
   "execution_count": 14,
   "metadata": {},
   "outputs": [
    {
     "data": {
      "text/plain": [
       "array([[0.33333333, 0.66666667, 0.11111111, 0.44444444, 0.77777778,\n",
       "        0.22222222, 0.55555556, 0.88888889, 0.03703704, 0.37037037]])"
      ]
     },
     "execution_count": 14,
     "metadata": {},
     "output_type": "execute_result"
    }
   ],
   "source": [
    "halton = dr.getHaltonDraws(sampleSize=1,numberOfDraws=10,base=3,skip=10)\n",
    "halton"
   ]
  },
  {
   "cell_type": "markdown",
   "metadata": {},
   "source": [
    "# Antithetic"
   ]
  },
  {
   "cell_type": "markdown",
   "metadata": {},
   "source": [
    "Antithetic draws can be generated from any function generating uniform draws"
   ]
  },
  {
   "cell_type": "code",
   "execution_count": 15,
   "metadata": {},
   "outputs": [
    {
     "data": {
      "text/plain": [
       "array([[0.48592363, 0.13648133, 0.35925946, 0.32431338, 0.32997936,\n",
       "        0.51407637, 0.86351867, 0.64074054, 0.67568662, 0.67002064],\n",
       "       [0.89261997, 0.0331808 , 0.30767182, 0.93433648, 0.17196124,\n",
       "        0.10738003, 0.9668192 , 0.69232818, 0.06566352, 0.82803876],\n",
       "       [0.81095587, 0.96171364, 0.40984817, 0.72177258, 0.16481096,\n",
       "        0.18904413, 0.03828636, 0.59015183, 0.27822742, 0.83518904]])"
      ]
     },
     "execution_count": 15,
     "metadata": {},
     "output_type": "execute_result"
    }
   ],
   "source": [
    "draws = dr.getAntithetic(dr.getUniform,sampleSize=3,numberOfDraws=10)\n",
    "draws"
   ]
  },
  {
   "cell_type": "markdown",
   "metadata": {},
   "source": [
    "Antithetic MLHS"
   ]
  },
  {
   "cell_type": "code",
   "execution_count": 16,
   "metadata": {},
   "outputs": [
    {
     "data": {
      "text/plain": [
       "array([[0.97383107, 0.80064641, 0.19981477, 0.50905659, 0.8872686 ,\n",
       "        0.02616893, 0.19935359, 0.80018523, 0.49094341, 0.1127314 ],\n",
       "       [0.04080848, 0.7809576 , 0.08916165, 0.40592289, 0.31879806,\n",
       "        0.95919152, 0.2190424 , 0.91083835, 0.59407711, 0.68120194],\n",
       "       [0.56826186, 0.39826057, 0.65549592, 0.67932562, 0.21166203,\n",
       "        0.43173814, 0.60173943, 0.34450408, 0.32067438, 0.78833797]])"
      ]
     },
     "execution_count": 16,
     "metadata": {},
     "output_type": "execute_result"
    }
   ],
   "source": [
    "draws = dr.getAntithetic(dr.getLatinHypercubeDraws,sampleSize=3,numberOfDraws=10)\n",
    "draws"
   ]
  },
  {
   "cell_type": "markdown",
   "metadata": {},
   "source": [
    "Antithetic Halton."
   ]
  },
  {
   "cell_type": "code",
   "execution_count": 17,
   "metadata": {},
   "outputs": [
    {
     "data": {
      "text/plain": [
       "array([[0.5  , 0.25 , 0.75 , 0.125, 0.625, 0.5  , 0.75 , 0.25 , 0.875,\n",
       "        0.375]])"
      ]
     },
     "execution_count": 17,
     "metadata": {},
     "output_type": "execute_result"
    }
   ],
   "source": [
    "draws = dr.getAntithetic(dr.getHaltonDraws,sampleSize=1,numberOfDraws=10)\n",
    "draws"
   ]
  },
  {
   "cell_type": "markdown",
   "metadata": {},
   "source": [
    "As antithetic Halton draws may be correlated, it is a good idea to skip the first draws"
   ]
  },
  {
   "cell_type": "code",
   "execution_count": 18,
   "metadata": {},
   "outputs": [
    {
     "data": {
      "text/plain": [
       "array([[0.5   , 0.25  , 0.75  , 0.5   , 0.75  , 0.25  ],\n",
       "       [0.125 , 0.625 , 0.375 , 0.875 , 0.375 , 0.625 ],\n",
       "       [0.875 , 0.0625, 0.5625, 0.125 , 0.9375, 0.4375],\n",
       "       [0.3125, 0.8125, 0.1875, 0.6875, 0.1875, 0.8125],\n",
       "       [0.6875, 0.4375, 0.9375, 0.3125, 0.5625, 0.0625]])"
      ]
     },
     "execution_count": 18,
     "metadata": {},
     "output_type": "execute_result"
    }
   ],
   "source": [
    "def halton(sampleSize,numberOfDraws):\n",
    "    return dr.getHaltonDraws(numberOfDraws,sampleSize,skip=100)\n",
    "draws = dr.getAntithetic(halton,sampleSize=3,numberOfDraws=10)\n",
    "draws"
   ]
  },
  {
   "cell_type": "markdown",
   "metadata": {},
   "source": [
    "# Normal draws"
   ]
  },
  {
   "cell_type": "markdown",
   "metadata": {},
   "source": [
    "Generate pseudo-random numbers from a normal distribution N(0,1) using the Algorithm AS241 Appl. Statist. (1988) Vol. 37, No. 3 by Wichura"
   ]
  },
  {
   "cell_type": "code",
   "execution_count": 19,
   "metadata": {},
   "outputs": [
    {
     "data": {
      "text/plain": [
       "array([[ 0.52418458, -1.04344204, -2.11642482,  0.48257162, -2.67188279,\n",
       "        -1.89993283,  0.28251041, -0.38424425,  1.53182226,  0.30651874],\n",
       "       [-0.7937038 , -0.07884121, -0.91005616, -0.98855175,  1.09405753,\n",
       "        -0.5997651 , -1.70785113,  1.57571384, -0.33208723, -1.03510102],\n",
       "       [-0.13853654,  0.92595498, -0.80136586,  1.68454196,  0.9955927 ,\n",
       "        -0.28615154,  2.10635541,  0.0436191 , -0.25417774,  0.01026933]])"
      ]
     },
     "execution_count": 19,
     "metadata": {},
     "output_type": "execute_result"
    }
   ],
   "source": [
    "draws = dr.getNormalWichuraDraws(sampleSize=3,numberOfDraws=10)\n",
    "draws"
   ]
  },
  {
   "cell_type": "markdown",
   "metadata": {},
   "source": [
    "The antithetic version actually generates half of the draws and complete them with their antithetic version"
   ]
  },
  {
   "cell_type": "code",
   "execution_count": 20,
   "metadata": {},
   "outputs": [
    {
     "data": {
      "text/plain": [
       "array([[ 0.8751265 ,  0.25901198,  0.0674243 ,  0.17639269, -0.61846994,\n",
       "        -0.8751265 , -0.25901198, -0.0674243 , -0.17639269,  0.61846994],\n",
       "       [ 0.38456355,  0.35403586,  0.16752617, -1.25892181, -0.7579933 ,\n",
       "        -0.38456355, -0.35403586, -0.16752617,  1.25892181,  0.7579933 ],\n",
       "       [ 0.27897894, -1.36979673, -0.32394123,  0.07642508,  0.74249695,\n",
       "        -0.27897894,  1.36979673,  0.32394123, -0.07642508, -0.74249695]])"
      ]
     },
     "execution_count": 20,
     "metadata": {},
     "output_type": "execute_result"
    }
   ],
   "source": [
    "draws = dr.getNormalWichuraDraws(sampleSize=3,numberOfDraws=10,antithetic=True)\n",
    "draws"
   ]
  },
  {
   "cell_type": "markdown",
   "metadata": {},
   "source": [
    "The user can provide her own series of U[0,1] draws. In this example, we use the MLHS procedure to generate these draws. Note that, if the antithetic version is used, only half of the requested draws must be provided."
   ]
  },
  {
   "cell_type": "code",
   "execution_count": 21,
   "metadata": {},
   "outputs": [
    {
     "data": {
      "text/plain": [
       "array([[0.54869405, 0.948796  , 0.3923694 , 0.01801568, 0.25557143],\n",
       "       [0.11486673, 0.51037177, 0.29068626, 0.7311478 , 0.8127343 ],\n",
       "       [0.63748306, 0.92105333, 0.17740885, 0.79258452, 0.44976044]])"
      ]
     },
     "execution_count": 21,
     "metadata": {},
     "output_type": "execute_result"
    }
   ],
   "source": [
    "myUnif = dr.getLatinHypercubeDraws(sampleSize=3,numberOfDraws=5)\n",
    "myUnif\n"
   ]
  },
  {
   "cell_type": "code",
   "execution_count": 22,
   "metadata": {},
   "outputs": [
    {
     "data": {
      "text/plain": [
       "array([[ 0.12236255,  1.6332901 , -0.27314884, -2.09656206, -0.65705918,\n",
       "        -0.12236255, -1.6332901 ,  0.27314884,  2.09656206,  0.65705918],\n",
       "       [-1.20104576,  0.02600111, -0.551381  ,  0.61628808,  0.88801737,\n",
       "         1.20104576, -0.02600111,  0.551381  , -0.61628808, -0.88801737],\n",
       "       [ 0.35173917,  1.41219236, -0.92528496,  0.81542171, -0.12626662,\n",
       "        -0.35173917, -1.41219236,  0.92528496, -0.81542171,  0.12626662]])"
      ]
     },
     "execution_count": 22,
     "metadata": {},
     "output_type": "execute_result"
    }
   ],
   "source": [
    "draws = dr.getNormalWichuraDraws(sampleSize=3,numberOfDraws=10,uniformNumbers=myUnif,antithetic=True)\n",
    "draws"
   ]
  },
  {
   "cell_type": "markdown",
   "metadata": {},
   "source": [
    "The same with Halton draws"
   ]
  },
  {
   "cell_type": "code",
   "execution_count": 23,
   "metadata": {},
   "outputs": [
    {
     "data": {
      "text/plain": [
       "array([[0.33333333, 0.66666667, 0.11111111, 0.44444444, 0.77777778],\n",
       "       [0.22222222, 0.55555556, 0.88888889, 0.03703704, 0.37037037]])"
      ]
     },
     "execution_count": 23,
     "metadata": {},
     "output_type": "execute_result"
    }
   ],
   "source": [
    "myUnif = dr.getHaltonDraws(sampleSize=2,numberOfDraws=5,base=3,skip=10)\n",
    "myUnif"
   ]
  },
  {
   "cell_type": "code",
   "execution_count": 24,
   "metadata": {},
   "outputs": [
    {
     "data": {
      "text/plain": [
       "array([[-0.4307273 ,  0.4307273 , -1.22064035, -0.1397103 ,  0.76470967,\n",
       "         0.4307273 , -0.4307273 ,  1.22064035,  0.1397103 , -0.76470967],\n",
       "       [-0.76470967,  0.13971031,  1.22064035, -1.78615554, -0.33087257,\n",
       "         0.76470967, -0.13971031, -1.22064035,  1.78615554,  0.33087257]])"
      ]
     },
     "execution_count": 24,
     "metadata": {},
     "output_type": "execute_result"
    }
   ],
   "source": [
    "draws = dr.getNormalWichuraDraws(numberOfDraws=10,sampleSize=2,uniformNumbers=myUnif,antithetic=True)\n",
    "draws"
   ]
  },
  {
   "cell_type": "code",
   "execution_count": null,
   "metadata": {},
   "outputs": [],
   "source": []
  }
 ],
 "metadata": {
  "kernelspec": {
   "display_name": "Python 3",
   "language": "python",
   "name": "python3"
  },
  "language_info": {
   "codemirror_mode": {
    "name": "ipython",
    "version": 3
   },
   "file_extension": ".py",
   "mimetype": "text/x-python",
   "name": "python",
   "nbconvert_exporter": "python",
   "pygments_lexer": "ipython3",
   "version": "3.6.8"
  }
 },
 "nbformat": 4,
 "nbformat_minor": 2
}
