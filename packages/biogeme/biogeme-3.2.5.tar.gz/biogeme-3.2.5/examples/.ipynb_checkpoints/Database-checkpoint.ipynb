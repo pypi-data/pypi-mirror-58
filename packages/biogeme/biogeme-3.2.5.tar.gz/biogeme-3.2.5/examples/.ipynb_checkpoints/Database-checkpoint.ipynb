{
 "cells": [
  {
   "cell_type": "markdown",
   "metadata": {},
   "source": [
    "# class Database: examples of use of each function"
   ]
  },
  {
   "cell_type": "code",
   "execution_count": 1,
   "metadata": {},
   "outputs": [
    {
     "name": "stdout",
     "output_type": "stream",
     "text": [
      "biogeme 3.1.2 [March 14, 2019]\n",
      "Version entirely written in Python\n",
      "Home page: http://biogeme.epfl.ch\n",
      "Submit questions to https://groups.google.com/d/forum/biogeme\n",
      "Michel Bierlaire, Transport and Mobility Laboratory, Ecole Polytechnique Fédérale de Lausanne (EPFL)\n",
      "\n"
     ]
    }
   ],
   "source": [
    "import biogeme.version as ver\n",
    "print(ver.getText())"
   ]
  },
  {
   "cell_type": "markdown",
   "metadata": {},
   "source": [
    "This webpage is for programmers who need examples of use of the functions of the class. The examples are designed to illustrate the syntax. They do not correspond to any meaningful model. For examples of models, visit  [biogeme.epfl.ch](http://biogeme.epfl.ch)."
   ]
  },
  {
   "cell_type": "code",
   "execution_count": 2,
   "metadata": {},
   "outputs": [],
   "source": [
    "import biogeme.database as db\n",
    "import pandas as pd\n",
    "import numpy as np\n",
    "from biogeme.expressions import *\n",
    "np.random.seed(90267) "
   ]
  },
  {
   "cell_type": "markdown",
   "metadata": {},
   "source": [
    "## Create a database from a pandas data frame"
   ]
  },
  {
   "cell_type": "code",
   "execution_count": 3,
   "metadata": {},
   "outputs": [
    {
     "name": "stdout",
     "output_type": "stream",
     "text": [
      "biogeme database test:\n",
      "   Person  Exclude  Variable1  Variable2  Choice  Av1  Av2  Av3\n",
      "0       1        0          1         10       1    0    1    0\n",
      "1       1        0          2         20       2    1    1    1\n",
      "2       1        1          3         30       3    1    1    1\n",
      "3       2        0          4         40       1    1    1    1\n",
      "4       2        1          5         50       2    1    1    1\n"
     ]
    }
   ],
   "source": [
    "df = pd.DataFrame({'Person':[1,1,1,2,2],'Exclude':[0,0,1,0,1],'Variable1':[1,2,3,4,5],'Variable2':[10,20,30,40,50],'Choice':[1,2,3,1,2],'Av1':[0,1,1,1,1],'Av2':[1,1,1,1,1],'Av3':[0,1,1,1,1]})\n",
    "myData = db.Database('test',df)\n",
    "print(myData)"
   ]
  },
  {
   "cell_type": "markdown",
   "metadata": {},
   "source": [
    "## valuesFromDatabase"
   ]
  },
  {
   "cell_type": "markdown",
   "metadata": {},
   "source": [
    "Evaluates an expression for each entry of the database.\n",
    "\n",
    "        Args:\n",
    "           expression: object of type biogeme.expressions. \n",
    "\n",
    "        Returns: \n",
    "           numpy series, long as the number of entries in the database, containing the calculated quantities."
   ]
  },
  {
   "cell_type": "code",
   "execution_count": 4,
   "metadata": {},
   "outputs": [
    {
     "name": "stdout",
     "output_type": "stream",
     "text": [
      "0    11\n",
      "1    22\n",
      "2    33\n",
      "3    44\n",
      "4    55\n",
      "dtype: int64\n"
     ]
    }
   ],
   "source": [
    "Variable1=Variable('Variable1')\n",
    "Variable2=Variable('Variable2')\n",
    "expr = Variable1 + Variable2\n",
    "result = myData.valuesFromDatabase(expr)\n",
    "print(result)"
   ]
  },
  {
   "cell_type": "markdown",
   "metadata": {},
   "source": [
    "## checkAvailabilityOfChosenAlt"
   ]
  },
  {
   "cell_type": "markdown",
   "metadata": {},
   "source": [
    "Check if the chosen alternative is available for each entry in the database.\n",
    "\n",
    "        Args: \n",
    "            avail: list of biogeme.expressions to evaluate the availability conditions for each alternative.\n",
    "            choice: biogeme.expressions to evaluate the chosen alternative.\n",
    "                \n",
    "        Returns:\n",
    "           numpy series of bool, long as the number of entries in the database, containing True is the chosen alternative is available, False otherwise.\n"
   ]
  },
  {
   "cell_type": "code",
   "execution_count": 5,
   "metadata": {},
   "outputs": [
    {
     "name": "stdout",
     "output_type": "stream",
     "text": [
      "0    False\n",
      "1     True\n",
      "2     True\n",
      "3     True\n",
      "4     True\n",
      "dtype: bool\n"
     ]
    }
   ],
   "source": [
    "Av1=Variable('Av1')\n",
    "Av2=Variable('Av2')\n",
    "Av3=Variable('Av3')\n",
    "Choice=Variable('Choice')\n",
    "avail = {1:Av1,2:Av2,3:Av3}\n",
    "result = myData.checkAvailabilityOfChosenAlt(avail,Choice)\n",
    "print(result)"
   ]
  },
  {
   "cell_type": "markdown",
   "metadata": {},
   "source": [
    "## sumFromDatabase"
   ]
  },
  {
   "cell_type": "markdown",
   "metadata": {},
   "source": [
    "Calculates the value of an expression for each entry in the database, and retturns the sum.\n",
    "\n",
    "        Args:\n",
    "            expression: object of type biogeme.expressions \n",
    "            \n",
    "        Returns:\n",
    "            Sum of the expressions over the database.\n"
   ]
  },
  {
   "cell_type": "code",
   "execution_count": 6,
   "metadata": {},
   "outputs": [
    {
     "name": "stdout",
     "output_type": "stream",
     "text": [
      "50.0\n"
     ]
    }
   ],
   "source": [
    "Variable1=Variable('Variable1')\n",
    "Variable2=Variable('Variable2')\n",
    "expression = Variable2 / Variable1\n",
    "result = myData.sumFromDatabase(expression)\n",
    "print(result)"
   ]
  },
  {
   "cell_type": "markdown",
   "metadata": {},
   "source": [
    "## addColumn"
   ]
  },
  {
   "cell_type": "markdown",
   "metadata": {},
   "source": [
    "Add a new column in the database, calculated from an expression.\n",
    "\n",
    "        Args:\n",
    "           expression: object of type biogeme.expressions describing the expression to evaluate\n",
    "           column: name of the column to add.\n",
    "\n",
    "        Returns:\n",
    "           nothing\n",
    "\n",
    "        Raises:\n",
    "              ValueError: if the column name already exists."
   ]
  },
  {
   "cell_type": "code",
   "execution_count": 7,
   "metadata": {},
   "outputs": [
    {
     "name": "stdout",
     "output_type": "stream",
     "text": [
      "[10, 40, 90, 160, 250]\n"
     ]
    }
   ],
   "source": [
    "Variable1=Variable('Variable1')\n",
    "Variable2=Variable('Variable2')\n",
    "expression = exp(0.5*Variable2) / Variable1\n",
    "expression = Variable2 * Variable1\n",
    "result = myData.addColumn(expression,'NewVariable')\n",
    "print(myData.data['NewVariable'].tolist())"
   ]
  },
  {
   "cell_type": "markdown",
   "metadata": {},
   "source": [
    "## count"
   ]
  },
  {
   "cell_type": "markdown",
   "metadata": {},
   "source": [
    "Counts the number of observations that have a specific value in a given column.\n",
    "\n",
    "        Args:\n",
    "            columnName: name of the column.\n",
    "            value: value that is seeked.\n",
    "\n",
    "        Returns: \n",
    "            Number of times that the value appears in the column.\n"
   ]
  },
  {
   "cell_type": "code",
   "execution_count": 8,
   "metadata": {},
   "outputs": [
    {
     "data": {
      "text/plain": [
       "3"
      ]
     },
     "execution_count": 8,
     "metadata": {},
     "output_type": "execute_result"
    }
   ],
   "source": [
    "# Count the number of entries for individual 1.\n",
    "myData.count('Person',1)"
   ]
  },
  {
   "cell_type": "markdown",
   "metadata": {},
   "source": [
    "## remove"
   ]
  },
  {
   "cell_type": "markdown",
   "metadata": {},
   "source": [
    "Removes from the database all entries such that the value of the expression is not 0. \n",
    "        \n",
    "        Args:\n",
    "           expression: object of type biogeme.expressions describing the expression to evaluate\n",
    "        Returns:\n",
    "           Nothing."
   ]
  },
  {
   "cell_type": "code",
   "execution_count": 9,
   "metadata": {},
   "outputs": [
    {
     "data": {
      "text/html": [
       "<div>\n",
       "<style scoped>\n",
       "    .dataframe tbody tr th:only-of-type {\n",
       "        vertical-align: middle;\n",
       "    }\n",
       "\n",
       "    .dataframe tbody tr th {\n",
       "        vertical-align: top;\n",
       "    }\n",
       "\n",
       "    .dataframe thead th {\n",
       "        text-align: right;\n",
       "    }\n",
       "</style>\n",
       "<table border=\"1\" class=\"dataframe\">\n",
       "  <thead>\n",
       "    <tr style=\"text-align: right;\">\n",
       "      <th></th>\n",
       "      <th>Person</th>\n",
       "      <th>Exclude</th>\n",
       "      <th>Variable1</th>\n",
       "      <th>Variable2</th>\n",
       "      <th>Choice</th>\n",
       "      <th>Av1</th>\n",
       "      <th>Av2</th>\n",
       "      <th>Av3</th>\n",
       "      <th>NewVariable</th>\n",
       "    </tr>\n",
       "  </thead>\n",
       "  <tbody>\n",
       "    <tr>\n",
       "      <th>0</th>\n",
       "      <td>1</td>\n",
       "      <td>0</td>\n",
       "      <td>1</td>\n",
       "      <td>10</td>\n",
       "      <td>1</td>\n",
       "      <td>0</td>\n",
       "      <td>1</td>\n",
       "      <td>0</td>\n",
       "      <td>10</td>\n",
       "    </tr>\n",
       "    <tr>\n",
       "      <th>1</th>\n",
       "      <td>1</td>\n",
       "      <td>0</td>\n",
       "      <td>2</td>\n",
       "      <td>20</td>\n",
       "      <td>2</td>\n",
       "      <td>1</td>\n",
       "      <td>1</td>\n",
       "      <td>1</td>\n",
       "      <td>40</td>\n",
       "    </tr>\n",
       "    <tr>\n",
       "      <th>3</th>\n",
       "      <td>2</td>\n",
       "      <td>0</td>\n",
       "      <td>4</td>\n",
       "      <td>40</td>\n",
       "      <td>1</td>\n",
       "      <td>1</td>\n",
       "      <td>1</td>\n",
       "      <td>1</td>\n",
       "      <td>160</td>\n",
       "    </tr>\n",
       "  </tbody>\n",
       "</table>\n",
       "</div>"
      ],
      "text/plain": [
       "   Person  Exclude  Variable1  Variable2  Choice  Av1  Av2  Av3  NewVariable\n",
       "0       1        0          1         10       1    0    1    0           10\n",
       "1       1        0          2         20       2    1    1    1           40\n",
       "3       2        0          4         40       1    1    1    1          160"
      ]
     },
     "execution_count": 9,
     "metadata": {},
     "output_type": "execute_result"
    }
   ],
   "source": [
    "Exclude=Variable('Exclude')\n",
    "myData.remove(Exclude)\n",
    "myData.data"
   ]
  },
  {
   "cell_type": "markdown",
   "metadata": {},
   "source": [
    "## dumpOnFile"
   ]
  },
  {
   "cell_type": "markdown",
   "metadata": {},
   "source": [
    "Dumps the database in a CSV formatted file.\n",
    "\n",
    "        Returns:  name of the file"
   ]
  },
  {
   "cell_type": "code",
   "execution_count": 10,
   "metadata": {},
   "outputs": [
    {
     "data": {
      "text/plain": [
       "'test_dumped~24.dat'"
      ]
     },
     "execution_count": 10,
     "metadata": {},
     "output_type": "execute_result"
    }
   ],
   "source": [
    "myData.dumpOnFile()"
   ]
  },
  {
   "cell_type": "code",
   "execution_count": 11,
   "metadata": {},
   "outputs": [
    {
     "name": "stdout",
     "output_type": "stream",
     "text": [
      "__rowId\tPerson\tExclude\tVariable1\tVariable2\tChoice\tAv1\tAv2\tAv3\tNewVariable\n",
      "0\t1\t0\t1\t10\t1\t0\t1\t0\t10\n",
      "1\t1\t0\t2\t20\t2\t1\t1\t1\t40\n",
      "3\t2\t0\t4\t40\t1\t1\t1\t1\t160\n"
     ]
    }
   ],
   "source": [
    "%%bash\n",
    "cat test_dumped.dat"
   ]
  },
  {
   "cell_type": "markdown",
   "metadata": {},
   "source": [
    "## generateDraws"
   ]
  },
  {
   "cell_type": "markdown",
   "metadata": {},
   "source": [
    "Generate draws for each variable.\n",
    "        \n",
    "        Args:\n",
    "             types:\n",
    "                 A dict indexed by the names of the variables, describing \n",
    "                 the types of draws. Each of them can be  \"NORMAL\", \"UNIFORM\",\n",
    "                 \"UNIFORMSYM\", or any type defined by the \n",
    "                 function database.setRandomNumberGenerators\n",
    "             names: \n",
    "                 the list of names of the variables that require draws to be generated.\n",
    "             numberOfDraws: number of draws to generate.\n",
    "             \n",
    "        Returns: \n",
    "             a 3-dimensional table with draws. The 3 dimensions are\n",
    "              1. number of individuals\n",
    "              2. number of draws\n",
    "              3. number of variables\n"
   ]
  },
  {
   "cell_type": "code",
   "execution_count": 12,
   "metadata": {},
   "outputs": [
    {
     "ename": "NameError",
     "evalue": "name 'randomsDraws3' is not defined",
     "output_type": "error",
     "traceback": [
      "\u001b[0;31m---------------------------------------------------------------------------\u001b[0m",
      "\u001b[0;31mNameError\u001b[0m                                 Traceback (most recent call last)",
      "\u001b[0;32m<ipython-input-12-d73f25dd41bd>\u001b[0m in \u001b[0;36m<module>\u001b[0;34m\u001b[0m\n\u001b[1;32m      3\u001b[0m \u001b[0mrandomDraws3\u001b[0m \u001b[0;34m=\u001b[0m \u001b[0mbioDraws\u001b[0m\u001b[0;34m(\u001b[0m\u001b[0;34m'randomDraws3'\u001b[0m\u001b[0;34m,\u001b[0m\u001b[0;34m'UNIFORM'\u001b[0m\u001b[0;34m)\u001b[0m\u001b[0;34m\u001b[0m\u001b[0;34m\u001b[0m\u001b[0m\n\u001b[1;32m      4\u001b[0m \u001b[0;31m# We build an expression that involves the two random variables\u001b[0m\u001b[0;34m\u001b[0m\u001b[0;34m\u001b[0m\u001b[0;34m\u001b[0m\u001b[0m\n\u001b[0;32m----> 5\u001b[0;31m \u001b[0mx\u001b[0m \u001b[0;34m=\u001b[0m \u001b[0mrandomDraws1\u001b[0m \u001b[0;34m+\u001b[0m \u001b[0mrandomDraws2\u001b[0m \u001b[0;34m+\u001b[0m \u001b[0mrandomsDraws3\u001b[0m\u001b[0;34m\u001b[0m\u001b[0;34m\u001b[0m\u001b[0m\n\u001b[0m\u001b[1;32m      6\u001b[0m \u001b[0mtypes\u001b[0m \u001b[0;34m=\u001b[0m \u001b[0mx\u001b[0m\u001b[0;34m.\u001b[0m\u001b[0mgetDraws\u001b[0m\u001b[0;34m(\u001b[0m\u001b[0;34m)\u001b[0m\u001b[0;34m\u001b[0m\u001b[0;34m\u001b[0m\u001b[0m\n\u001b[1;32m      7\u001b[0m \u001b[0mprint\u001b[0m\u001b[0;34m(\u001b[0m\u001b[0mtypes\u001b[0m\u001b[0;34m)\u001b[0m\u001b[0;34m\u001b[0m\u001b[0;34m\u001b[0m\u001b[0m\n",
      "\u001b[0;31mNameError\u001b[0m: name 'randomsDraws3' is not defined"
     ]
    }
   ],
   "source": [
    "randomDraws1 = bioDraws('randomDraws1','NORMAL')\n",
    "randomDraws2 = bioDraws('randomDraws2','UNIFORMSYM')\n",
    "randomDraws3 = bioDraws('randomDraws3','UNIFORM')\n",
    "# We build an expression that involves the two random variables\n",
    "x = randomDraws1 + randomDraws2 + randomDraws3\n",
    "types = x.getDraws()\n",
    "print(types)"
   ]
  },
  {
   "cell_type": "code",
   "execution_count": null,
   "metadata": {},
   "outputs": [],
   "source": [
    "theDrawsTable = myData.generateDraws(types,['randomDraws1','randomDraws2'],10,antithetic=False)\n",
    "theDrawsTable"
   ]
  },
  {
   "cell_type": "code",
   "execution_count": null,
   "metadata": {},
   "outputs": [],
   "source": [
    "theDrawsTable = myData.generateDraws(types,['randomDraws1','randomDraws2'],10,antithetic=True)\n",
    "theDrawsTable"
   ]
  },
  {
   "cell_type": "markdown",
   "metadata": {},
   "source": [
    "## setRandomNumberGenerators"
   ]
  },
  {
   "cell_type": "markdown",
   "metadata": {},
   "source": [
    "Defines user-defined random numbers generators.\n",
    "        \n",
    "        Args:\n",
    "\n",
    "           rng: a dictionary of generators. The keys of the dictionary\n",
    "           characterize the name of the generators, and must be\n",
    "           different from the pre-defined generators in Biogeme:\n",
    "           NORMAL, UNIFORM and UNIFORMSYM. The elements of the\n",
    "           dictionary are functions that take two arguments: the\n",
    "           number of series to generate (typically, the size of the\n",
    "           database), and the number of draws per series.\n",
    " \n",
    "        Returns: \n",
    "             nothing."
   ]
  },
  {
   "cell_type": "code",
   "execution_count": null,
   "metadata": {},
   "outputs": [],
   "source": [
    "# We first define functions returning draws, given the number of observations, and the number of draws\n",
    "def logNormalDraws(sampleSize,numberOfDraws):\n",
    "    return np.exp(np.random.randn(sampleSize,numberOfDraws))\n",
    "\n",
    "def exponentialDraws(sampleSize,numberOfDraws):\n",
    "    return -1.0 * np.log(np.random.rand(sampleSize,numberOfDraws))\n",
    "\n",
    "# We associate these functions with a name\n",
    "dict = {'LOGNORMAL':logNormalDraws,'EXP':exponentialDraws}\n",
    "myData.setRandomNumberGenerators(dict)\n",
    "\n",
    "# We can now generate draws from these distributions\n",
    "randomDraws1 = bioDraws('randomDraws1','LOGNORMAL')\n",
    "randomDraws2 = bioDraws('randomDraws2','EXP')\n",
    "x = randomDraws1 + randomDraws2\n",
    "types = x.getDraws()\n",
    "theDrawsTable = myData.generateDraws(types,['randomDraws1','randomDraws2'],10)\n",
    "print(theDrawsTable)"
   ]
  },
  {
   "cell_type": "markdown",
   "metadata": {},
   "source": [
    "## sampleWithReplacement"
   ]
  },
  {
   "cell_type": "markdown",
   "metadata": {},
   "source": [
    "Extract a random sample from the database, with replacement. Useful for bootstrapping. \n",
    "        Args:\n",
    "            size: size of the sample. If None, a sample of the same size as the database will be generated.\n",
    "\n",
    "        Returns:\n",
    "            pandas dataframe with the sample.\n"
   ]
  },
  {
   "cell_type": "code",
   "execution_count": null,
   "metadata": {},
   "outputs": [],
   "source": [
    "myData.sampleWithReplacement()"
   ]
  },
  {
   "cell_type": "code",
   "execution_count": null,
   "metadata": {},
   "outputs": [],
   "source": [
    "myData.sampleWithReplacement(6)"
   ]
  },
  {
   "cell_type": "markdown",
   "metadata": {},
   "source": [
    "## panel"
   ]
  },
  {
   "cell_type": "markdown",
   "metadata": {},
   "source": [
    "Defines the data as panel data\n",
    "\n",
    "        Args:\n",
    "           columnName: name of the columns that identifies individuals.\n"
   ]
  },
  {
   "cell_type": "code",
   "execution_count": null,
   "metadata": {},
   "outputs": [],
   "source": [
    "myPanelData = db.Database('test',df)\n",
    "# Data is not considered panel yet\n",
    "myPanelData.isPanel()"
   ]
  },
  {
   "cell_type": "code",
   "execution_count": null,
   "metadata": {},
   "outputs": [],
   "source": [
    "myPanelData.panel('Person')\n",
    "# Now it is panel\n",
    "print(myPanelData.isPanel())\n",
    "print(myPanelData)"
   ]
  },
  {
   "cell_type": "markdown",
   "metadata": {},
   "source": [
    "When draws are generated for panel data, a set of draws is generated per person, not per observation."
   ]
  },
  {
   "cell_type": "code",
   "execution_count": null,
   "metadata": {},
   "outputs": [],
   "source": [
    "randomDraws1 = bioDraws('randomDraws1','NORMAL')\n",
    "randomDraws2 = bioDraws('randomDraws2','UNIFORMSYM')\n",
    "# We build an expression that involves the two random variables\n",
    "x = randomDraws1 + randomDraws2\n",
    "types = x.getDraws()\n",
    "theDrawsTable = myPanelData.generateDraws(types,['randomDraws1','randomDraws2'],10)\n",
    "print(theDrawsTable)"
   ]
  },
  {
   "cell_type": "markdown",
   "metadata": {},
   "source": [
    "## getNumberOfObservations"
   ]
  },
  {
   "cell_type": "markdown",
   "metadata": {},
   "source": [
    "Reports the number of observations in the database. Note that it returns the same value, irrespectively if the database contains panel data or not.  \n",
    "\n",
    "        Returns:\n",
    "            Number of observations.\n",
    "\n",
    "        See:  getSampleSize()\n"
   ]
  },
  {
   "cell_type": "code",
   "execution_count": null,
   "metadata": {},
   "outputs": [],
   "source": [
    "myData.getNumberOfObservations()"
   ]
  },
  {
   "cell_type": "code",
   "execution_count": null,
   "metadata": {},
   "outputs": [],
   "source": [
    "myPanelData.getNumberOfObservations()"
   ]
  },
  {
   "cell_type": "markdown",
   "metadata": {},
   "source": [
    "## getSampleSize"
   ]
  },
  {
   "cell_type": "markdown",
   "metadata": {},
   "source": [
    "Reports the size of the sample. If the data is cross-sectional, it\n",
    "        is the number of observations in the database. If the data is panel,\n",
    "        it is the number of individuals.\n",
    "\n",
    "        Returns: \n",
    "           Sample size.\n",
    "\n",
    "        See: getNumberOfObservations()\n"
   ]
  },
  {
   "cell_type": "code",
   "execution_count": null,
   "metadata": {},
   "outputs": [],
   "source": [
    "myData.getSampleSize()"
   ]
  },
  {
   "cell_type": "code",
   "execution_count": null,
   "metadata": {},
   "outputs": [],
   "source": [
    "myPanelData.getSampleSize()"
   ]
  },
  {
   "cell_type": "markdown",
   "metadata": {},
   "source": [
    "## sampleIndividualMapWithReplacement"
   ]
  },
  {
   "cell_type": "markdown",
   "metadata": {},
   "source": [
    "Extract a random sample of the individual map from a panel data database, with replacement. Useful for bootstrapping. \n",
    "\n",
    "        Args:\n",
    "            size: size of the sample. If None, a sample of the same size as the database will be generated.\n",
    "\n",
    "        Returns:\n",
    "            pandas dataframe with the sample.\n"
   ]
  },
  {
   "cell_type": "code",
   "execution_count": null,
   "metadata": {},
   "outputs": [],
   "source": [
    "myPanelData.sampleIndividualMapWithReplacement(10)"
   ]
  }
 ],
 "metadata": {
  "kernelspec": {
   "display_name": "Python 3",
   "language": "python",
   "name": "python3"
  },
  "language_info": {
   "codemirror_mode": {
    "name": "ipython",
    "version": 3
   },
   "file_extension": ".py",
   "mimetype": "text/x-python",
   "name": "python",
   "nbconvert_exporter": "python",
   "pygments_lexer": "ipython3",
   "version": "3.6.8"
  }
 },
 "nbformat": 4,
 "nbformat_minor": 2
}
