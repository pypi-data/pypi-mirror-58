{
 "cells": [
  {
   "cell_type": "code",
   "execution_count": 1,
   "metadata": {},
   "outputs": [],
   "source": [
    "import pandas as pd"
   ]
  },
  {
   "cell_type": "code",
   "execution_count": 23,
   "metadata": {},
   "outputs": [],
   "source": [
    "df = pd.DataFrame({'_abd_num_legs': [2, 4, 8, 0],\n",
    "...                    '_num_wings': [2, 0, 0, 0],\n",
    "...                    'num_specimen_seen': [10, 2, 1, 8]},\n",
    "...                   index=['falcon', 'dog', 'spider', 'fish'])"
   ]
  },
  {
   "cell_type": "code",
   "execution_count": 24,
   "metadata": {},
   "outputs": [],
   "source": [
    "df2 = pd.DataFrame({'num_legs': [2, 4, 8, 0],\n",
    "...                    'num_wings': [2, 0, 0, 0],\n",
    "...                    'num_specimen_seen': [10, 2, 1, 8]},\n",
    "...                   index=['falcon', 'dog', 'spider', 'fish'])"
   ]
  },
  {
   "cell_type": "code",
   "execution_count": 25,
   "metadata": {},
   "outputs": [
    {
     "data": {
      "text/plain": [
       "Index(['_abd_num_legs', '_num_wings', 'num_specimen_seen'], dtype='object')"
      ]
     },
     "execution_count": 25,
     "metadata": {},
     "output_type": "execute_result"
    }
   ],
   "source": [
    "df.columns"
   ]
  },
  {
   "cell_type": "code",
   "execution_count": 26,
   "metadata": {},
   "outputs": [
    {
     "name": "stdout",
     "output_type": "stream",
     "text": [
      "Differences:  left {'_num_wings', '_abd_num_legs'} right {'num_wings', 'num_legs'}\n"
     ]
    }
   ],
   "source": [
    "if (set(df.columns) == set(df2.columns)):\n",
    "    print(\"SAME\")\n",
    "else:\n",
    "    left = set(df.columns).difference(set(df2.columns))\n",
    "    message = \"Differences: \"\n",
    "    if left:\n",
    "        message += f\" left {left}\"\n",
    "    right = set(df2.columns).difference(set(df.columns))\n",
    "    if right:\n",
    "        message += f\" right {right}\"\n",
    "    print(message)"
   ]
  },
  {
   "cell_type": "code",
   "execution_count": null,
   "metadata": {},
   "outputs": [],
   "source": []
  }
 ],
 "metadata": {
  "kernelspec": {
   "display_name": "Python 3",
   "language": "python",
   "name": "python3"
  },
  "language_info": {
   "codemirror_mode": {
    "name": "ipython",
    "version": 3
   },
   "file_extension": ".py",
   "mimetype": "text/x-python",
   "name": "python",
   "nbconvert_exporter": "python",
   "pygments_lexer": "ipython3",
   "version": "3.7.4"
  }
 },
 "nbformat": 4,
 "nbformat_minor": 2
}
