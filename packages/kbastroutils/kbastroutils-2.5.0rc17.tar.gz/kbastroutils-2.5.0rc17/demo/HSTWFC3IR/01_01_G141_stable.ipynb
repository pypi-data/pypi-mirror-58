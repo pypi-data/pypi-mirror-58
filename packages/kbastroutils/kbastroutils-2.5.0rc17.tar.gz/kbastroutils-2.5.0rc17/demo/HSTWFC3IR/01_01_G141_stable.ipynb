{
 "cells": [
  {
   "cell_type": "code",
   "execution_count": 1,
   "metadata": {},
   "outputs": [
    {
     "name": "stdout",
     "output_type": "stream",
     "text": [
      "The following task in the stsci.skypac package can be run with TEAL:\n",
      "                                    skymatch                                    \n",
      "The following tasks in the drizzlepac package can be run with TEAL:\n",
      "    astrodrizzle       config_testbed      imagefindpars           mapreg       \n",
      "       photeq            pixreplace           pixtopix            pixtosky      \n",
      "  refimagefindpars       resetbits          runastrodriz          skytopix      \n",
      "     tweakback            tweakreg           updatenpol\n",
      "The following tasks in the acstools package can be run with TEAL:\n",
      "          acs2d                  acs_destripe           acs_destripe_plus     \n",
      "          acsccd                    acscte              acscteforwardmodel    \n",
      "          acsrej                    acssum                    calacs\n",
      "PixCteCorr is no longer supported. Please use acscte.\n"
     ]
    }
   ],
   "source": [
    "from kbastroutils.gnd import GND\n",
    "\n",
    "from astroquery.mast import Observations\n",
    "from astropy.io import fits\n",
    "\n",
    "import os,glob\n",
    "\n",
    "import numpy as np\n",
    "import pandas as pd\n",
    "import matplotlib.pyplot as plt\n",
    "%matplotlib inline"
   ]
  },
  {
   "cell_type": "code",
   "execution_count": 2,
   "metadata": {
    "scrolled": true
   },
   "outputs": [],
   "source": [
    "DODOWN = False\n",
    "DOWNDIR = '/Users/kbhirombhakdi/_work/_data/12702/G141_set/'\n",
    "\n",
    "x = Observations.query_criteria(proposal_id='12702'\n",
    "                                ,filters=['G141','F160W','F140W']\n",
    "                                ,obs_collection='HST'\n",
    "                                ,target_name='GD-71'\n",
    "                               )\n",
    "\n",
    "if DODOWN:\n",
    "    Observations.download_products(x['obsid']\n",
    "                                   ,productSubGroupDescription=['FLT']\n",
    "                                   ,download_dir=DOWNDIR\n",
    "                                  )"
   ]
  },
  {
   "cell_type": "code",
   "execution_count": 3,
   "metadata": {
    "scrolled": true
   },
   "outputs": [
    {
     "data": {
      "text/plain": [
       "['/Users/kbhirombhakdi/_work/_data/12702/G141_set/mastDownload/HST/ibwq02juq/ibwq02juq_flt.fits',\n",
       " '/Users/kbhirombhakdi/_work/_data/12702/G141_set/mastDownload/HST/ibwq02jvq/ibwq02jvq_flt.fits',\n",
       " '/Users/kbhirombhakdi/_work/_data/12702/G141_set/mastDownload/HST/ibwq02jxq/ibwq02jxq_flt.fits',\n",
       " '/Users/kbhirombhakdi/_work/_data/12702/G141_set/mastDownload/HST/ibwq02jsq/ibwq02jsq_flt.fits',\n",
       " '/Users/kbhirombhakdi/_work/_data/12702/G141_set/mastDownload/HST/ibwq02jwq/ibwq02jwq_flt.fits',\n",
       " '/Users/kbhirombhakdi/_work/_data/12702/G141_set/mastDownload/HST/ibwq02jtq/ibwq02jtq_flt.fits']"
      ]
     },
     "execution_count": 3,
     "metadata": {},
     "output_type": "execute_result"
    }
   ],
   "source": [
    "FILES = glob.glob(DOWNDIR+'*/*/*/*.fits')\n",
    "FILES"
   ]
  },
  {
   "cell_type": "markdown",
   "metadata": {},
   "source": [
    "# 1."
   ]
  },
  {
   "cell_type": "code",
   "execution_count": 4,
   "metadata": {
    "scrolled": true
   },
   "outputs": [
    {
     "name": "stderr",
     "output_type": "stream",
     "text": [
      "WARNING:py.warnings:/Users/kbhirombhakdi/anaconda3/envs/py3/lib/python3.7/site-packages/kbastroutils/gnd.py:447: RuntimeWarning: divide by zero encountered in true_divide\n",
      "  cleandata = (xdata - bkg) * pam / flat\n",
      "\n"
     ]
    }
   ],
   "source": [
    "XXX = GND(FILES)\n",
    "\n",
    "# PAIRS = {\n",
    "#     4: [10,1,3,9]\n",
    "#     ,0: [11]\n",
    "#     ,7: [8]\n",
    "# }\n",
    "# XXX.make_pair(PAIRS)\n",
    "XXX.make_pair()\n",
    "\n",
    "XYD = {3: (362.6925393673454, 544.0876653348046),\n",
    "       5: (362.54661741486944, 543.8769517777424)\n",
    "      }\n",
    "XXX.make_xyd(XYD)\n",
    "# XXX.make_xyd(adjust=True,box_size=50,maskin=[0])\n",
    "\n",
    "XXX.make_photparams(method='aperture',apsize=5,apunit='pix',maskin=None\n",
    "                    ,sigma=3.,iters=5\n",
    "                    ,dobkgann=True,bkgann=(20.,25.)\n",
    "                    )\n",
    "XXX.make_phot()\n",
    "\n",
    "CONF = {('G141','F160W'):'/Users/kbhirombhakdi/_work/_calib_files/WFC3.IR.G141.cal.V4.32/G141.F160W.V4.32.conf',\n",
    "        ('G102','F105W'):'/Users/kbhirombhakdi/_work/_calib_files/WFC3.IR.G102.cal.V4.32/G102.F105W.V4.32.conf'\n",
    "       }\n",
    "SENS = {'G141':'/Users/kbhirombhakdi/_work/_calib_files/WFC3.IR.G141.cal.V4.32/WFC3.IR.G141.1st.sens.2.fits',\n",
    "        'G102':'/Users/kbhirombhakdi/_work/_calib_files/WFC3.IR.G102.cal.V4.32/WFC3.IR.G102.1st.sens.2.fits'\n",
    "       }\n",
    "XXX.make_conf(CONF)\n",
    "XXX.make_sens(SENS)\n",
    "\n",
    "BKG = '/Users/kbhirombhakdi/_work/_calib_files/WFC3.IR.G141.cal.V4.32/WFC3.IR.G141.sky.V1.0.fits'\n",
    "XXX.make_bkg(bkg=BKG,method='median',sigma=1.)\n",
    "\n",
    "XXX.make_xyoff()\n",
    "XXX.make_xyref()\n",
    "XXX.make_trace()\n",
    "XXX.make_wavelength()\n",
    "\n",
    "XXX.make_stamp(padx=5,pady=20)\n",
    "\n",
    "FLAT = '/Users/kbhirombhakdi/_work/_calib_files/WFC3.IR.G141.cal.V4.32/WFC3.IR.G141.flat.2.fits'\n",
    "XXX.make_flat(method='master',flatfile=FLAT)\n",
    "\n",
    "PAMFILE = '/Users/kbhirombhakdi/_work/_calib_files/ir_wfc3_map.fits'\n",
    "XXX.make_pam(method='custom',pamfile=PAMFILE)\n",
    "\n",
    "# XXX.make_drz()\n",
    "\n",
    "XXX.make_clean(method=[True,True,False])\n",
    "\n",
    "XXX.make_exparams(method='aperture',apsize=5,apunit='pix',maskin=None)\n",
    "XXX.make_wavebin(method='WW')\n",
    "XXX.make_apcorr(replace='median')\n",
    "XXX.make_count(replace=None)\n",
    "XXX.make_flam()\n",
    "\n",
    "PATH = os.getcwd()\n",
    "XXX.save(path=PATH,filename='GD71PID12702G141.pickle')"
   ]
  },
  {
   "cell_type": "markdown",
   "metadata": {},
   "source": [
    "# 2."
   ]
  },
  {
   "cell_type": "code",
   "execution_count": 5,
   "metadata": {
    "scrolled": false
   },
   "outputs": [],
   "source": [
    "# x = XXX.show(method='meta',dosort=False,output=True)\n",
    "# x"
   ]
  },
  {
   "cell_type": "code",
   "execution_count": 6,
   "metadata": {
    "scrolled": true
   },
   "outputs": [],
   "source": [
    "# XXX.show(method='direct',zoom=False,dx=100,dy=100)"
   ]
  },
  {
   "cell_type": "code",
   "execution_count": 7,
   "metadata": {
    "scrolled": true
   },
   "outputs": [],
   "source": [
    "# XXX.show(method='grism',traceon=True,zoom=True)"
   ]
  },
  {
   "cell_type": "code",
   "execution_count": 8,
   "metadata": {},
   "outputs": [],
   "source": [
    "# XXX.show(method='CONF',showconf='long')"
   ]
  },
  {
   "cell_type": "code",
   "execution_count": 9,
   "metadata": {
    "scrolled": true
   },
   "outputs": [],
   "source": [
    "# XXX.show(method='CONF',showconf='short')"
   ]
  },
  {
   "cell_type": "code",
   "execution_count": 10,
   "metadata": {
    "scrolled": true
   },
   "outputs": [],
   "source": [
    "# XXX.show(method='bkg')"
   ]
  },
  {
   "cell_type": "code",
   "execution_count": 11,
   "metadata": {
    "scrolled": true
   },
   "outputs": [],
   "source": [
    "# XXX.show(method='flat')"
   ]
  },
  {
   "cell_type": "code",
   "execution_count": 12,
   "metadata": {
    "scrolled": true
   },
   "outputs": [],
   "source": [
    "# XXX.show(method='pam')"
   ]
  },
  {
   "cell_type": "code",
   "execution_count": 13,
   "metadata": {},
   "outputs": [],
   "source": [
    "# XXX.show(method='WW',normalize=True)"
   ]
  },
  {
   "cell_type": "code",
   "execution_count": 14,
   "metadata": {},
   "outputs": [],
   "source": [
    "# XXX.show(method='trace',normalize=True)"
   ]
  },
  {
   "cell_type": "code",
   "execution_count": 15,
   "metadata": {},
   "outputs": [],
   "source": [
    "# XXX.show(method='stamp')"
   ]
  },
  {
   "cell_type": "code",
   "execution_count": 16,
   "metadata": {
    "scrolled": false
   },
   "outputs": [],
   "source": [
    "# XXX.show(method='clean',traceon=True,zoom=True)"
   ]
  },
  {
   "cell_type": "code",
   "execution_count": 17,
   "metadata": {},
   "outputs": [],
   "source": [
    "# XXX.show(method='count',apsize=5,tracefrom='original')"
   ]
  },
  {
   "cell_type": "code",
   "execution_count": 18,
   "metadata": {},
   "outputs": [],
   "source": [
    "# XXX.show(method='count',apsize=5,tracefrom='clean')"
   ]
  },
  {
   "cell_type": "code",
   "execution_count": 19,
   "metadata": {},
   "outputs": [],
   "source": [
    "# XXX.show(method='flam',xmin=11000.,xmax=17000.)"
   ]
  },
  {
   "cell_type": "markdown",
   "metadata": {},
   "source": [
    "# 3."
   ]
  },
  {
   "cell_type": "code",
   "execution_count": null,
   "metadata": {},
   "outputs": [],
   "source": []
  },
  {
   "cell_type": "code",
   "execution_count": null,
   "metadata": {},
   "outputs": [],
   "source": []
  }
 ],
 "metadata": {
  "kernelspec": {
   "display_name": "Python 3",
   "language": "python",
   "name": "python3"
  },
  "language_info": {
   "codemirror_mode": {
    "name": "ipython",
    "version": 3
   },
   "file_extension": ".py",
   "mimetype": "text/x-python",
   "name": "python",
   "nbconvert_exporter": "python",
   "pygments_lexer": "ipython3",
   "version": "3.7.4"
  }
 },
 "nbformat": 4,
 "nbformat_minor": 2
}
