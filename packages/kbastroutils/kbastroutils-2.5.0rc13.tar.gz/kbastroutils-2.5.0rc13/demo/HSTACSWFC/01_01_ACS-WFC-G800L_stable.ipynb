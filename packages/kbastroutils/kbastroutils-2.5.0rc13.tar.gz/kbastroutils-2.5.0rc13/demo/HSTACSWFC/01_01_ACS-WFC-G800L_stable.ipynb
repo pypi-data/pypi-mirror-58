{
 "cells": [
  {
   "cell_type": "code",
   "execution_count": 1,
   "metadata": {},
   "outputs": [
    {
     "name": "stdout",
     "output_type": "stream",
     "text": [
      "The following task in the stsci.skypac package can be run with TEAL:\n",
      "                                    skymatch                                    \n",
      "The following tasks in the drizzlepac package can be run with TEAL:\n",
      "    astrodrizzle       config_testbed      imagefindpars           mapreg       \n",
      "       photeq            pixreplace           pixtopix            pixtosky      \n",
      "  refimagefindpars       resetbits          runastrodriz          skytopix      \n",
      "     tweakback            tweakreg           updatenpol\n",
      "The following tasks in the acstools package can be run with TEAL:\n",
      "          acs2d                  acs_destripe           acs_destripe_plus     \n",
      "          acsccd                    acscte              acscteforwardmodel    \n",
      "          acsrej                    acssum                    calacs\n",
      "PixCteCorr is no longer supported. Please use acscte.\n"
     ]
    }
   ],
   "source": [
    "from kbastroutils.gnd import GND\n",
    "\n",
    "from astroquery.mast import Observations\n",
    "from astropy.io import fits\n",
    "\n",
    "import os,glob,copy\n",
    "\n",
    "import numpy as np\n",
    "import pandas as pd\n",
    "import matplotlib.pyplot as plt\n",
    "%matplotlib inline"
   ]
  },
  {
   "cell_type": "code",
   "execution_count": 2,
   "metadata": {
    "scrolled": true
   },
   "outputs": [],
   "source": [
    "DODOWN = False\n",
    "PID = 15401\n",
    "DOWNDIR = '/Users/kbhirombhakdi/_work/_data/{0}/G800L_set/'.format(PID)\n",
    "\n",
    "x = Observations.query_criteria(proposal_id=PID\n",
    "                                ,filters=['G800L','F775W']\n",
    "                                ,obs_collection='HST'\n",
    "#                                 ,target_name='GD71'\n",
    "                                ,instrument_name='ACS/WFC'\n",
    "                               )\n",
    "\n",
    "if DODOWN:\n",
    "    Observations.download_products(x['obsid']\n",
    "                                   ,productSubGroupDescription=['FLT']\n",
    "                                   ,download_dir=DOWNDIR\n",
    "                                  )\n",
    "    \n",
    "# x"
   ]
  },
  {
   "cell_type": "code",
   "execution_count": 3,
   "metadata": {},
   "outputs": [
    {
     "data": {
      "text/plain": [
       "['/Users/kbhirombhakdi/_work/_data/15401/G800L_set/mastDownload/HST/jdql01jxq/jdql01jxq_flt.fits',\n",
       " '/Users/kbhirombhakdi/_work/_data/15401/G800L_set/mastDownload/HST/jdql01jvq/jdql01jvq_flt.fits',\n",
       " '/Users/kbhirombhakdi/_work/_data/15401/G800L_set/mastDownload/HST/jdql01jnq/jdql01jnq_flt.fits',\n",
       " '/Users/kbhirombhakdi/_work/_data/15401/G800L_set/mastDownload/HST/jdql01jpq/jdql01jpq_flt.fits']"
      ]
     },
     "execution_count": 3,
     "metadata": {},
     "output_type": "execute_result"
    }
   ],
   "source": [
    "FILES = glob.glob(DOWNDIR+'*/*/*/*.fits')\n",
    "\n",
    "tmp = []\n",
    "for i in FILES:\n",
    "    x = fits.open(i)\n",
    "    if x[0].header['DETECTOR']=='WFC':\n",
    "        if x[0].header['SUBARRAY']==False:\n",
    "            tmp.append(i)\n",
    "\n",
    "FILES = copy.deepcopy(tmp)\n",
    "FILES"
   ]
  },
  {
   "cell_type": "markdown",
   "metadata": {},
   "source": [
    "# 1."
   ]
  },
  {
   "cell_type": "code",
   "execution_count": 4,
   "metadata": {
    "scrolled": true
   },
   "outputs": [],
   "source": [
    "XXX = GND(FILES)\n",
    "\n",
    "XXX.make_pair()\n",
    "\n",
    "XYD = {1: (2099.84,1024.),\n",
    "       2: (2099.528661638995, 1024.05013586324)\n",
    "      }\n",
    "XXX.make_xyd(XYD)\n",
    "# XXX.make_xyd(adjust=False,box_size=25,maskin=[0])\n",
    "\n",
    "XXX.make_photparams(method='aperture',apsize=5,apunit='pix',maskin=None\n",
    "                    ,sigma=3.,iters=5\n",
    "                    ,dobkgann=True,bkgann=(20.,25.)\n",
    "                    )\n",
    "XXX.make_phot()\n",
    "\n",
    "CONF = {2: '/Users/kbhirombhakdi/_work/_calib_files/ACS.WFC/ACS.WFC.CHIP2.Cycle13.5.conf',\n",
    "        1: '/Users/kbhirombhakdi/_work/_calib_files/ACS.WFC/ACS.WFC.CHIP1.Cycle13.5.conf'\n",
    "       }\n",
    "XXX.make_conf(CONF)\n",
    "\n",
    "SENS = {2: '/Users/kbhirombhakdi/_work/_calib_files/ACS.WFC/ACS.WFC.1st.sens.7.fits',\n",
    "        1: '/Users/kbhirombhakdi/_work/_calib_files/ACS.WFC/ACS.WFC.1st.sens.7.fits'\n",
    "       }\n",
    "XXX.make_sens(SENS)\n",
    "\n",
    "# BKG = '/Users/kbhirombhakdi/_work/_calib_files/WFC3.IR.G141.cal.V4.32/WFC3.IR.G141.sky.V1.0.fits'\n",
    "XXX.make_bkg(method='median',sigma=1.)\n",
    "\n",
    "XXX.make_xyoff()\n",
    "XXX.make_xyref()\n",
    "XXX.make_trace()\n",
    "XXX.make_wavelength()\n",
    "\n",
    "XXX.make_stamp(padx=5,pady=20)\n",
    "\n",
    "# FLAT = '/Users/kbhirombhakdi/_work/_calib_files/WFC3.IR.G141.cal.V4.32/WFC3.IR.G141.flat.2.fits'\n",
    "XXX.make_flat(method='uniform',flatfile=None)\n",
    "\n",
    "# PAMFILE = '/Users/kbhirombhakdi/_work/_calib_files/ir_wfc3_map.fits'\n",
    "XXX.make_pam(method='uniform',pamfile=None)\n",
    "\n",
    "# # XXX.make_drz()\n",
    "\n",
    "XXX.make_clean(method=[True,True,False])\n",
    "\n",
    "XXX.make_exparams(method='aperture',apsize=5,apunit='pix',maskin=None)\n",
    "XXX.make_wavebin(method='WW')\n",
    "XXX.make_apcorr(replace='median')\n",
    "XXX.make_count(replace=None)\n",
    "XXX.make_flam()\n",
    "\n",
    "PATH = os.getcwd()\n",
    "XXX.save(path=PATH,filename='WR96PID15401G800L_01.pickle')"
   ]
  },
  {
   "cell_type": "markdown",
   "metadata": {},
   "source": [
    "# 2."
   ]
  },
  {
   "cell_type": "code",
   "execution_count": 5,
   "metadata": {
    "scrolled": false
   },
   "outputs": [],
   "source": [
    "# x = XXX.show(method='meta',dosort=True,output=True)\n",
    "# x['FILE']"
   ]
  },
  {
   "cell_type": "code",
   "execution_count": 6,
   "metadata": {
    "scrolled": true
   },
   "outputs": [],
   "source": [
    "# XXX.show(method='direct',zoom=False,dx=100,dy=100)"
   ]
  },
  {
   "cell_type": "code",
   "execution_count": 7,
   "metadata": {
    "scrolled": true
   },
   "outputs": [],
   "source": [
    "# XXX.show(method='grism',traceon=True,zoom=False)"
   ]
  },
  {
   "cell_type": "code",
   "execution_count": 8,
   "metadata": {},
   "outputs": [],
   "source": [
    "# XXX.show(method='CONF',showconf='long')"
   ]
  },
  {
   "cell_type": "code",
   "execution_count": 9,
   "metadata": {
    "scrolled": true
   },
   "outputs": [],
   "source": [
    "# XXX.show(method='CONF',showconf='short')"
   ]
  },
  {
   "cell_type": "code",
   "execution_count": 10,
   "metadata": {
    "scrolled": true
   },
   "outputs": [],
   "source": [
    "# XXX.show(method='bkg')"
   ]
  },
  {
   "cell_type": "code",
   "execution_count": 11,
   "metadata": {
    "scrolled": true
   },
   "outputs": [],
   "source": [
    "# XXX.show(method='flat')"
   ]
  },
  {
   "cell_type": "code",
   "execution_count": 12,
   "metadata": {
    "scrolled": true
   },
   "outputs": [],
   "source": [
    "# XXX.show(method='pam')"
   ]
  },
  {
   "cell_type": "code",
   "execution_count": 13,
   "metadata": {},
   "outputs": [],
   "source": [
    "# XXX.show(method='WW',normalize=True)"
   ]
  },
  {
   "cell_type": "code",
   "execution_count": 14,
   "metadata": {},
   "outputs": [],
   "source": [
    "# XXX.show(method='trace',normalize=True)"
   ]
  },
  {
   "cell_type": "code",
   "execution_count": 15,
   "metadata": {},
   "outputs": [],
   "source": [
    "# XXX.show(method='stamp')"
   ]
  },
  {
   "cell_type": "code",
   "execution_count": 16,
   "metadata": {
    "scrolled": false
   },
   "outputs": [],
   "source": [
    "# XXX.show(method='clean',traceon=True,zoom=True)"
   ]
  },
  {
   "cell_type": "code",
   "execution_count": 17,
   "metadata": {
    "scrolled": false
   },
   "outputs": [],
   "source": [
    "# XXX.show(method='count',apsize=5,tracefrom='original')"
   ]
  },
  {
   "cell_type": "code",
   "execution_count": 18,
   "metadata": {},
   "outputs": [],
   "source": [
    "# XXX.show(method='count',apsize=5,tracefrom='clean')"
   ]
  },
  {
   "cell_type": "code",
   "execution_count": 19,
   "metadata": {
    "scrolled": true
   },
   "outputs": [],
   "source": [
    "# XXX.show(method='flam',xmin=5500.,xmax=10500.)"
   ]
  },
  {
   "cell_type": "markdown",
   "metadata": {},
   "source": [
    "# 3."
   ]
  },
  {
   "cell_type": "code",
   "execution_count": null,
   "metadata": {},
   "outputs": [],
   "source": []
  }
 ],
 "metadata": {
  "kernelspec": {
   "display_name": "Python 3",
   "language": "python",
   "name": "python3"
  },
  "language_info": {
   "codemirror_mode": {
    "name": "ipython",
    "version": 3
   },
   "file_extension": ".py",
   "mimetype": "text/x-python",
   "name": "python",
   "nbconvert_exporter": "python",
   "pygments_lexer": "ipython3",
   "version": "3.7.4"
  }
 },
 "nbformat": 4,
 "nbformat_minor": 2
}
