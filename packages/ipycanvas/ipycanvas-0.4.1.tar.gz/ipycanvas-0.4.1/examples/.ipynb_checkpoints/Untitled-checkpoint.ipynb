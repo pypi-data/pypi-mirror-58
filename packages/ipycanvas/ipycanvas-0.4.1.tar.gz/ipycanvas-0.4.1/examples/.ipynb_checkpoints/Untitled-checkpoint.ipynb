{
 "cells": [
  {
   "cell_type": "code",
   "execution_count": 3,
   "metadata": {},
   "outputs": [
    {
     "data": {
      "application/vnd.jupyter.widget-view+json": {
       "model_id": "019e20bb0e2f44f2964d11864e449787",
       "version_major": 2,
       "version_minor": 0
      },
      "text/plain": [
       "Canvas(layout=Layout(height='800px', width='800px'), size=(800, 800))"
      ]
     },
     "metadata": {},
     "output_type": "display_data"
    }
   ],
   "source": [
    "from ipycanvas import Canvas\n",
    "\n",
    "canvas = Canvas(size=(800, 800))\n",
    "\n",
    "canvas.stroke_style = 'red'\n",
    "\n",
    "previous_position = None\n",
    "\n",
    "def handle_mouse_down(x, y):\n",
    "    global previous_position\n",
    "\n",
    "    if previous_position is None:\n",
    "        previous_position = (x, y)\n",
    "    else:\n",
    "        canvas.begin_path()\n",
    "        canvas.move_to(previous_position[0], previous_position[1])\n",
    "        canvas.line_to(x, y)\n",
    "        canvas.stroke()\n",
    "        canvas.close_path()\n",
    "\n",
    "        previous_position = (x, y)\n",
    "\n",
    "canvas.on_mouse_down(handle_mouse_down)\n",
    "\n",
    "canvas"
   ]
  },
  {
   "cell_type": "code",
   "execution_count": null,
   "metadata": {},
   "outputs": [],
   "source": []
  }
 ],
 "metadata": {
  "kernelspec": {
   "display_name": "Python 3",
   "language": "python",
   "name": "python3"
  },
  "language_info": {
   "codemirror_mode": {
    "name": "ipython",
    "version": 3
   },
   "file_extension": ".py",
   "mimetype": "text/x-python",
   "name": "python",
   "nbconvert_exporter": "python",
   "pygments_lexer": "ipython3",
   "version": "3.7.3"
  }
 },
 "nbformat": 4,
 "nbformat_minor": 2
}
