{
 "cells": [
  {
   "cell_type": "markdown",
   "metadata": {},
   "source": [
    "# Displaying sprites on the Canvas"
   ]
  },
  {
   "cell_type": "code",
   "execution_count": 1,
   "metadata": {},
   "outputs": [],
   "source": [
    "from random import choice, randint, uniform\n",
    "from math import pi\n",
    "\n",
    "from PIL import Image as PILImage\n",
    "\n",
    "import numpy as np\n",
    "\n",
    "from ipywidgets import Image\n",
    "\n",
    "from ipycanvas import Canvas, hold_canvas"
   ]
  },
  {
   "cell_type": "markdown",
   "metadata": {},
   "source": [
    "## Drawing a sprite from an ``Image`` widget"
   ]
  },
  {
   "cell_type": "code",
   "execution_count": 5,
   "metadata": {},
   "outputs": [
    {
     "data": {
      "application/vnd.jupyter.widget-view+json": {
       "model_id": "be1ec14940b2427bb51c41a0897d3aa1",
       "version_major": 2,
       "version_minor": 0
      },
      "text/plain": [
       "Canvas(layout=Layout(height='300px', width='300px'), size=(300, 300))"
      ]
     },
     "metadata": {},
     "output_type": "display_data"
    }
   ],
   "source": [
    "sprite1 = Image.from_file('sprites/smoke_texture0.png')\n",
    "sprite2 = Image.from_file('sprites/smoke_texture1.png')\n",
    "\n",
    "canvas1 = Canvas(size=(300, 300))\n",
    "canvas1.fill_style = '#a9cafc'\n",
    "canvas1.fill_rect(0, 0, 300, 300)\n",
    "canvas1.draw_image(sprite1, 50, 50)\n",
    "\n",
    "canvas1"
   ]
  },
  {
   "cell_type": "code",
   "execution_count": 6,
   "metadata": {},
   "outputs": [],
   "source": [
    "canvas1.draw_image(sprite2, 100, 100)"
   ]
  },
  {
   "cell_type": "markdown",
   "metadata": {},
   "source": [
    "## Drawing from another ``Canvas``"
   ]
  },
  {
   "cell_type": "code",
   "execution_count": 7,
   "metadata": {},
   "outputs": [
    {
     "data": {
      "application/vnd.jupyter.widget-view+json": {
       "model_id": "452f228c15be4cb4ac8c4aaf1d0f9657",
       "version_major": 2,
       "version_minor": 0
      },
      "text/plain": [
       "Canvas(layout=Layout(height='300px', width='600px'), size=(600, 300))"
      ]
     },
     "metadata": {},
     "output_type": "display_data"
    }
   ],
   "source": [
    "canvas2 = Canvas(size=(600, 300))\n",
    "canvas2.draw_image(canvas1, 0, 0)\n",
    "\n",
    "canvas2"
   ]
  },
  {
   "cell_type": "code",
   "execution_count": 8,
   "metadata": {},
   "outputs": [],
   "source": [
    "canvas2.draw_image(canvas1, 300, 0)"
   ]
  },
  {
   "cell_type": "markdown",
   "metadata": {},
   "source": [
    "## Drawing from a NumPy array"
   ]
  },
  {
   "cell_type": "code",
   "execution_count": 9,
   "metadata": {},
   "outputs": [],
   "source": [
    "sprite3 = np.array(PILImage.open('sprites/smoke_texture2.png'))"
   ]
  },
  {
   "cell_type": "code",
   "execution_count": 10,
   "metadata": {},
   "outputs": [],
   "source": [
    "canvas2.put_image_data(sprite3, 250, 150)"
   ]
  },
  {
   "cell_type": "markdown",
   "metadata": {},
   "source": [
    "## Drawing thousands of sprites, the more optimized solution is to first \"cache\" your images in other ``Canvas`` instances"
   ]
  },
  {
   "cell_type": "code",
   "execution_count": 11,
   "metadata": {},
   "outputs": [
    {
     "data": {
      "application/vnd.jupyter.widget-view+json": {
       "model_id": "f5b6a75f37394ccf9b727d33f6720c7c",
       "version_major": 2,
       "version_minor": 0
      },
      "text/plain": [
       "Canvas(layout=Layout(height='100px', width='100px'), size=(100, 100))"
      ]
     },
     "metadata": {},
     "output_type": "display_data"
    }
   ],
   "source": [
    "# The fastest solution is drawing from another canvas\n",
    "canvas_sprite1 = Canvas(size=(100, 100))\n",
    "canvas_sprite1.draw_image(sprite1, 0, 0)\n",
    "canvas_sprite1"
   ]
  },
  {
   "cell_type": "code",
   "execution_count": 12,
   "metadata": {},
   "outputs": [
    {
     "data": {
      "application/vnd.jupyter.widget-view+json": {
       "model_id": "9d8d42d7cbdf42b0ad6f1e0cf82bdda3",
       "version_major": 2,
       "version_minor": 0
      },
      "text/plain": [
       "Canvas(layout=Layout(height='100px', width='100px'), size=(100, 100))"
      ]
     },
     "metadata": {},
     "output_type": "display_data"
    }
   ],
   "source": [
    "canvas_sprite2 = Canvas(size=(100, 100))\n",
    "canvas_sprite2.draw_image(sprite2, 0, 0)\n",
    "canvas_sprite2"
   ]
  },
  {
   "cell_type": "code",
   "execution_count": 13,
   "metadata": {},
   "outputs": [
    {
     "data": {
      "application/vnd.jupyter.widget-view+json": {
       "model_id": "ef45632b7e6b43b8bab614e46da5b751",
       "version_major": 2,
       "version_minor": 0
      },
      "text/plain": [
       "Canvas(layout=Layout(height='100px', width='100px'), size=(100, 100))"
      ]
     },
     "metadata": {},
     "output_type": "display_data"
    }
   ],
   "source": [
    "canvas_sprite3 = Canvas(size=(100, 100))\n",
    "canvas_sprite3.draw_image(Image.from_file('sprites/smoke_texture2.png'), 0, 0)\n",
    "canvas_sprite3"
   ]
  },
  {
   "cell_type": "code",
   "execution_count": 17,
   "metadata": {},
   "outputs": [
    {
     "data": {
      "application/vnd.jupyter.widget-view+json": {
       "model_id": "a29e67f4fbf94e0a992167cc1832779c",
       "version_major": 2,
       "version_minor": 0
      },
      "text/plain": [
       "Canvas(layout=Layout(height='600px', width='800px'), size=(800, 600))"
      ]
     },
     "metadata": {},
     "output_type": "display_data"
    }
   ],
   "source": [
    "canvas3 = Canvas(size=(800, 600))\n",
    "\n",
    "sprites = [canvas_sprite1, canvas_sprite2, canvas_sprite3]\n",
    "\n",
    "canvas3"
   ]
  },
  {
   "cell_type": "code",
   "execution_count": 18,
   "metadata": {},
   "outputs": [],
   "source": [
    "from time import sleep\n",
    "\n",
    "with hold_canvas(canvas3):\n",
    "    for _ in range(50):\n",
    "        canvas3.clear()\n",
    "        canvas3.save()\n",
    "\n",
    "        canvas3.fill_style = 'blue'\n",
    "        canvas3.fill_rect(0, 0, canvas3.size[0], canvas3.size[1])\n",
    "\n",
    "        # Choose a random sprite texture\n",
    "        sprite = sprites[choice(range(3))]\n",
    "\n",
    "        # Choose a random sprite position\n",
    "        pos_x = randint(0, canvas3.size[0] - 50)\n",
    "        pos_y = randint(0, canvas3.size[1] - 50)\n",
    "\n",
    "        # Choose a random rotation angle (but first set the rotation center with `translate`)\n",
    "        canvas3.translate(pos_x, pos_y)\n",
    "        canvas3.rotate(uniform(0., pi))\n",
    "\n",
    "        # Choose a random sprite size\n",
    "        scale = uniform(0.2, 1.)\n",
    "        canvas3.scale(scale)\n",
    "\n",
    "        # Restore the canvas center\n",
    "        canvas3.translate(- pos_x, - pos_y)\n",
    "\n",
    "        # Draw the sprite\n",
    "        canvas3.draw_image(sprite, pos_x, pos_y)\n",
    "\n",
    "        canvas3.restore()\n",
    "\n",
    "        sleep(0.1)"
   ]
  }
 ],
 "metadata": {
  "kernelspec": {
   "display_name": "Python 3",
   "language": "python",
   "name": "python3"
  },
  "language_info": {
   "codemirror_mode": {
    "name": "ipython",
    "version": 3
   },
   "file_extension": ".py",
   "mimetype": "text/x-python",
   "name": "python",
   "nbconvert_exporter": "python",
   "pygments_lexer": "ipython3",
   "version": "3.7.3"
  }
 },
 "nbformat": 4,
 "nbformat_minor": 4
}
