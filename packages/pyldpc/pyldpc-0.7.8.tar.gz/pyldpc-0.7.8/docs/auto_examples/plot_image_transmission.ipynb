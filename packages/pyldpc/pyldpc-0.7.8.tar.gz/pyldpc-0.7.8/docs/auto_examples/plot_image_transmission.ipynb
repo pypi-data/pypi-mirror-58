{
  "cells": [
    {
      "cell_type": "code",
      "execution_count": null,
      "metadata": {
        "collapsed": false
      },
      "outputs": [],
      "source": [
        "%matplotlib inline"
      ]
    },
    {
      "cell_type": "markdown",
      "metadata": {},
      "source": [
        "\nCoding - Decoding simulation of an image\n========================================\n\nThis example shows a simulation of the transmission of an image as a\nbinary message through a gaussian white noise channel with an LDPC coding and\ndecoding system.\n\n"
      ]
    },
    {
      "cell_type": "code",
      "execution_count": null,
      "metadata": {
        "collapsed": false
      },
      "outputs": [],
      "source": [
        "# Author: Hicham Janati (hicham.janati@inria.fr)\n#\n# License: BSD (3-clause)\n\n\nimport numpy as np\nfrom pyldpc import make_ldpc, ldpc_images\nfrom pyldpc.utils_img import gray2bin, rgb2bin\nfrom matplotlib import pyplot as plt\nfrom PIL import Image\n\nfrom time import time"
      ]
    },
    {
      "cell_type": "markdown",
      "metadata": {},
      "source": [
        "Let's see the image we are going to be working with\n\n"
      ]
    },
    {
      "cell_type": "code",
      "execution_count": null,
      "metadata": {
        "collapsed": false
      },
      "outputs": [],
      "source": [
        "eye = Image.open(\"data/eye.png\")\n# convert it to grayscale and keep one channel\neye = np.asarray(eye.convert('LA'))[:, :, 0]\n\n# Convert it to a binary matrix\neye_bin = gray2bin(eye)\nprint(\"Eye shape: (%s, %s)\" % eye.shape)\nprint(\"Binary Eye shape: (%s, %s, %s)\" % eye_bin.shape)\n\nn = 200\nd_v = 3\nd_c = 4\nseed = 42"
      ]
    },
    {
      "cell_type": "markdown",
      "metadata": {},
      "source": [
        "First we create a small LDPC code i.e a pair of decoding and coding matrices\nH and G. H is a regular parity-check matrix with d_v ones per row\nand d_c ones per column\n\n"
      ]
    },
    {
      "cell_type": "code",
      "execution_count": null,
      "metadata": {
        "collapsed": false
      },
      "outputs": [],
      "source": [
        "H, G = make_ldpc(n, d_v, d_c, seed=seed, systematic=True, sparse=True)"
      ]
    },
    {
      "cell_type": "markdown",
      "metadata": {},
      "source": [
        "Now we simulate the transmission with Gaussian white noise\nand recover the original image via belief-propagation.\n\n"
      ]
    },
    {
      "cell_type": "code",
      "execution_count": null,
      "metadata": {
        "collapsed": false
      },
      "outputs": [],
      "source": [
        "snr = 8\neye_coded, eye_noisy = ldpc_images.encode_img(G, eye_bin, snr)\n\nprint(\"Coded eye shape\", eye_coded.shape)\n\nt = time()\neye_decoded = ldpc_images.decode_img(G, H, eye_coded, snr, eye_bin.shape)\nt = time() - t\nprint(\"Eye | Decoding time: \", t)\nerror_decoded_eye = abs(eye - eye_decoded).mean()\nerror_noisy_eye = abs(eye_noisy - eye).mean()"
      ]
    },
    {
      "cell_type": "markdown",
      "metadata": {},
      "source": [
        "With RGB images, we proceed similarly\n\n"
      ]
    },
    {
      "cell_type": "code",
      "execution_count": null,
      "metadata": {
        "collapsed": false
      },
      "outputs": [],
      "source": [
        "print(\"\\n\\n\")\ntiger = np.asarray(Image.open(\"data/tiger.jpg\"))\n# Convert it to a binary matrix\ntiger_bin = rgb2bin(tiger)\nprint(\"Tiger shape: (%s, %s, %s)\" % tiger.shape)\nprint(\"Tiger Binary shape: (%s, %s, %s)\" % tiger_bin.shape)\n\n\ntiger_coded, tiger_noisy = ldpc_images.encode_img(G, tiger_bin, snr)\n\nprint(\"Coded Tiger shape\", tiger_coded.shape)\n\nt = time()\ntiger_decoded = ldpc_images.decode_img(G, H, tiger_coded, snr, tiger_bin.shape)\nt = time() - t\nprint(\"Tiger | Decoding time: \", t)\n\nerror_decoded_tiger = abs(tiger - tiger_decoded).mean()\nerror_noisy_tiger = abs(tiger_noisy - tiger).mean()\n\n\ntitles_eye = [\"Original\", \"Noisy | Err = %.2f %%\" % error_noisy_eye,\n              \"Decoded | Err = %.2f %%\" % error_decoded_eye]\ntitles_tiger = [\"Original\", \"Noisy | Err = %.2f %%\" % error_noisy_tiger,\n                \"Decoded | Err = %.2f %%\" % error_decoded_tiger]\nall_imgs = [[eye, eye_noisy, eye_decoded], [tiger, tiger_noisy, tiger_decoded]]\nf, axes = plt.subplots(2, 3, figsize=(18, 12))\nfor ax_row, titles, img_list, cmap in zip(axes, [titles_eye, titles_tiger],\n                                          all_imgs, [\"gray\", None]):\n    for ax, data, title in zip(ax_row, img_list, titles):\n        ax.imshow(data, cmap=cmap)\n        ax.set_title(title)\n        ax.set_xticks([])\n        ax.set_yticks([])\nplt.tight_layout()\nplt.show()"
      ]
    }
  ],
  "metadata": {
    "kernelspec": {
      "display_name": "Python 3",
      "language": "python",
      "name": "python3"
    },
    "language_info": {
      "codemirror_mode": {
        "name": "ipython",
        "version": 3
      },
      "file_extension": ".py",
      "mimetype": "text/x-python",
      "name": "python",
      "nbconvert_exporter": "python",
      "pygments_lexer": "ipython3",
      "version": "3.6.8"
    }
  },
  "nbformat": 4,
  "nbformat_minor": 0
}