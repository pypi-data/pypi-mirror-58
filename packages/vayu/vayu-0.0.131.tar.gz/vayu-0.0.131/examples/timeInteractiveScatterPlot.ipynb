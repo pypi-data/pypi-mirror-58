{
 "cells": [
  {
   "cell_type": "markdown",
   "metadata": {},
   "source": [
    "# Time Interactive Scatter Plot\n",
    "\n",
    "> Shows the concentration values of different pollutants on a geoplot using sctter plot. We further have an option to change the time of focus by using the slider at the bottom."
   ]
  },
  {
   "cell_type": "markdown",
   "metadata": {},
   "source": [
    "Standard libraries to be imported for usage"
   ]
  },
  {
   "cell_type": "code",
   "execution_count": 2,
   "metadata": {
    "colab": {},
    "colab_type": "code",
    "id": "REl0vD9k2_Hq"
   },
   "outputs": [],
   "source": [
    "from vayu import timeInteractiveScatterPlot\n",
    "import pandas as pd"
   ]
  },
  {
   "cell_type": "markdown",
   "metadata": {},
   "source": [
    "Reading the data and using the function from the library."
   ]
  },
  {
   "cell_type": "code",
   "execution_count": 3,
   "metadata": {
    "colab": {
     "base_uri": "https://localhost:8080/",
     "height": 221
    },
    "colab_type": "code",
    "id": "Ep-350vWj66R",
    "outputId": "e3219c20-3b8d-48b5-b3d8-158f993cd8e5"
   },
   "outputs": [
    {
     "name": "stdout",
     "output_type": "stream",
     "text": [
      "(11817, 5)\n"
     ]
    },
    {
     "data": {
      "text/html": [
       "<div>\n",
       "<style scoped>\n",
       "    .dataframe tbody tr th:only-of-type {\n",
       "        vertical-align: middle;\n",
       "    }\n",
       "\n",
       "    .dataframe tbody tr th {\n",
       "        vertical-align: top;\n",
       "    }\n",
       "\n",
       "    .dataframe thead th {\n",
       "        text-align: right;\n",
       "    }\n",
       "</style>\n",
       "<table border=\"1\" class=\"dataframe\">\n",
       "  <thead>\n",
       "    <tr style=\"text-align: right;\">\n",
       "      <th></th>\n",
       "      <th>location</th>\n",
       "      <th>local</th>\n",
       "      <th>value</th>\n",
       "      <th>latitude</th>\n",
       "      <th>longitude</th>\n",
       "    </tr>\n",
       "  </thead>\n",
       "  <tbody>\n",
       "    <tr>\n",
       "      <td>0</td>\n",
       "      <td>Rohini, Delhi - DPCC</td>\n",
       "      <td>2019-08-05T00:00:00+05:30</td>\n",
       "      <td>105.00</td>\n",
       "      <td>28.732528</td>\n",
       "      <td>77.119920</td>\n",
       "    </tr>\n",
       "    <tr>\n",
       "      <td>1</td>\n",
       "      <td>CRRI Mathura Road, Delhi - IMD</td>\n",
       "      <td>2019-08-05T00:00:00+05:30</td>\n",
       "      <td>57.16</td>\n",
       "      <td>28.551201</td>\n",
       "      <td>77.273574</td>\n",
       "    </tr>\n",
       "    <tr>\n",
       "      <td>2</td>\n",
       "      <td>Aya Nagar, Delhi - IMD</td>\n",
       "      <td>2019-08-05T00:00:00+05:30</td>\n",
       "      <td>26.96</td>\n",
       "      <td>28.470691</td>\n",
       "      <td>77.109936</td>\n",
       "    </tr>\n",
       "    <tr>\n",
       "      <td>3</td>\n",
       "      <td>IGI Airport (T3), Delhi - IMD</td>\n",
       "      <td>2019-08-05T00:00:00+05:30</td>\n",
       "      <td>0.00</td>\n",
       "      <td>28.562776</td>\n",
       "      <td>77.118005</td>\n",
       "    </tr>\n",
       "    <tr>\n",
       "      <td>4</td>\n",
       "      <td>ITO, Delhi - CPCB</td>\n",
       "      <td>2019-08-05T00:00:00+05:30</td>\n",
       "      <td>79.00</td>\n",
       "      <td>28.631695</td>\n",
       "      <td>77.249439</td>\n",
       "    </tr>\n",
       "  </tbody>\n",
       "</table>\n",
       "</div>"
      ],
      "text/plain": [
       "                         location                      local   value  \\\n",
       "0            Rohini, Delhi - DPCC  2019-08-05T00:00:00+05:30  105.00   \n",
       "1  CRRI Mathura Road, Delhi - IMD  2019-08-05T00:00:00+05:30   57.16   \n",
       "2          Aya Nagar, Delhi - IMD  2019-08-05T00:00:00+05:30   26.96   \n",
       "3   IGI Airport (T3), Delhi - IMD  2019-08-05T00:00:00+05:30    0.00   \n",
       "4               ITO, Delhi - CPCB  2019-08-05T00:00:00+05:30   79.00   \n",
       "\n",
       "    latitude  longitude  \n",
       "0  28.732528  77.119920  \n",
       "1  28.551201  77.273574  \n",
       "2  28.470691  77.109936  \n",
       "3  28.562776  77.118005  \n",
       "4  28.631695  77.249439  "
      ]
     },
     "execution_count": 3,
     "metadata": {},
     "output_type": "execute_result"
    }
   ],
   "source": [
    "df = pd.read_csv(\"delhi_1_5_Aug.csv\")\n",
    "df = df.drop(columns = ['city', 'utc', 'parameter', 'unit', 'attribution','country']).dropna()\n",
    "\n",
    "print(df.shape)\n",
    "df.head()"
   ]
  },
  {
   "cell_type": "code",
   "execution_count": 4,
   "metadata": {
    "colab": {
     "base_uri": "https://localhost:8080/",
     "height": 777
    },
    "colab_type": "code",
    "id": "BGtamxOsdo0h",
    "outputId": "77105206-2f82-436b-aad3-4765ed992ca3",
    "scrolled": false
   },
   "outputs": [
    {
     "name": "stdout",
     "output_type": "stream",
     "text": [
      "Preparing the data frame...\n",
      "                                                value   latitude  longitude  \\\n",
      "location             local                                                    \n",
      "Alipur, Delhi - DPCC 2019-08-02 11:30:00+05:30   38.0  28.815329   77.15301   \n",
      "                     2019-08-02 11:45:00+05:30   38.0  28.815329   77.15301   \n",
      "                     2019-08-02 12:00:00+05:30   38.0  28.815329   77.15301   \n",
      "                     2019-08-02 12:15:00+05:30   38.0  28.815329   77.15301   \n",
      "                     2019-08-02 12:30:00+05:30   39.0  28.815329   77.15301   \n",
      "\n",
      "                                                  color  \n",
      "location             local                               \n",
      "Alipur, Delhi - DPCC 2019-08-02 11:30:00+05:30  #92c5de  \n",
      "                     2019-08-02 11:45:00+05:30  #92c5de  \n",
      "                     2019-08-02 12:00:00+05:30  #92c5de  \n",
      "                     2019-08-02 12:15:00+05:30  #92c5de  \n",
      "                     2019-08-02 12:30:00+05:30  #92c5de  \n",
      "Creating Geo JSON...\n",
      "Plotting the map...\n",
      "Saved the map.\n"
     ]
    }
   ],
   "source": [
    "pol_map = timeInteractiveScatterPlot(df, date_time_col_name = 'local', location_col_name = 'location', value_col_name = 'value', \n",
    "                                     latitude_col_name = 'latitude', longitude_col_name = 'longitude', start_date = '2019-08-02 00:00:00+05:30', \n",
    "                                     end_date = '2019-08-05 00:00:00+05:30', pollutant_ID = 1)\n",
    "\n",
    "pol_map.save('pollution_map.html')\n",
    "pol_map;"
   ]
  },
  {
   "cell_type": "markdown",
   "metadata": {},
   "source": [
    "Open up the `.html` file just formed to have a look at the plot."
   ]
  }
 ],
 "metadata": {
  "colab": {
   "collapsed_sections": [],
   "include_colab_link": true,
   "name": "timeInteractiveScatterPlot.ipynb",
   "provenance": [],
   "toc_visible": true,
   "version": "0.3.2"
  },
  "kernelspec": {
   "display_name": "Python 3",
   "language": "python",
   "name": "python3"
  },
  "language_info": {
   "codemirror_mode": {
    "name": "ipython",
    "version": 3
   },
   "file_extension": ".py",
   "mimetype": "text/x-python",
   "name": "python",
   "nbconvert_exporter": "python",
   "pygments_lexer": "ipython3",
   "version": "3.6.8"
  }
 },
 "nbformat": 4,
 "nbformat_minor": 1
}
