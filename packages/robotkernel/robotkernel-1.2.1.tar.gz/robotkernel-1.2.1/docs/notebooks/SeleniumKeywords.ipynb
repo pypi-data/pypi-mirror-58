{
 "cells": [
  {
   "cell_type": "code",
   "execution_count": 1,
   "metadata": {},
   "outputs": [],
   "source": [
    "*** Settings ***\n",
    "\n",
    "Library  SeleniumLibrary"
   ]
  },
  {
   "cell_type": "code",
   "execution_count": 2,
   "metadata": {},
   "outputs": [],
   "source": [
    "*** Keywords ***\n",
    "\n",
    "Open singleton browser\n",
    "    [Documentation]\n",
    "    ...  Open a new browser window on the first call\n",
    "    ...  and selects that window on the subsequent calls.\n",
    "    [Arguments]  ${url}=about:blank\n",
    "    ${Browser is open} =  Run keyword and return status\n",
    "    ...  Switch browser  singleton\n",
    "    Run keyword if  ${Browser is open}\n",
    "    ...  Go to  ${url}\n",
    "    ...  ELSE\n",
    "    ...  Open browser  ${url}  alias=singleton"
   ]
  }
 ],
 "metadata": {
  "kernelspec": {
   "display_name": "Robot Framework",
   "language": "robotframework",
   "name": "robotkernel"
  },
  "language_info": {
   "codemirror_mode": "robotframework",
   "file_extension": ".robot",
   "mimetype": "text/plain",
   "name": "robotframework",
   "pygments_lexer": "robotframework"
  }
 },
 "nbformat": 4,
 "nbformat_minor": 2
}
