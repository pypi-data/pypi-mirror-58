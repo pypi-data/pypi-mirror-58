{
 "cells": [
  {
   "cell_type": "markdown",
   "metadata": {},
   "source": [
    "## Workflow features"
   ]
  },
  {
   "cell_type": "markdown",
   "metadata": {},
   "source": [
    "The following workflow has a single step that generates a number of files with the number specified by parameter `num`."
   ]
  },
  {
   "cell_type": "markdown",
   "metadata": {},
   "source": [
    "The following cell will not be executed directly (with `Ctrl-Enter` or `Shift-Enter`) because it is a formal SoS cell. It has to be executed by magic `%run` or `%sosrun`."
   ]
  },
  {
   "cell_type": "code",
   "execution_count": 1,
   "metadata": {
    "collapsed": true,
    "kernel": "SoS"
   },
   "outputs": [],
   "source": [
    "[no_task]\n",
    "parameter: num = 2\n",
    "\n",
    "input: for_each = {'i': range(num)}\n",
    "output: f'test_{i}.txt'\n",
    "\n",
    "sh: expand=True\n",
    "    sleep {5*i}\n",
    "    echo test_{i} > test_{i}.txt\n",
    "    echo \"Test_{i}.txt generated\""
   ]
  },
  {
   "cell_type": "code",
   "execution_count": 2,
   "metadata": {
    "kernel": "SoS"
   },
   "outputs": [
    {
     "name": "stdout",
     "output_type": "stream",
     "text": [
      "Test_0.txt generated\n",
      "Test_1.txt generated\n"
     ]
    }
   ],
   "source": [
    "%sosrun no_task"
   ]
  },
  {
   "cell_type": "markdown",
   "metadata": {},
   "source": [
    "When we rerun the workflow with option `--num 3` to generate one more file, the first two are ignored because they have already been generated."
   ]
  },
  {
   "cell_type": "code",
   "execution_count": 3,
   "metadata": {
    "kernel": "SoS"
   },
   "outputs": [
    {
     "name": "stderr",
     "output_type": "stream",
     "text": [
      "INFO: \u001b[32mno_task_0\u001b[0m (index=0) is \u001b[32mignored\u001b[0m due to saved signature\n",
      "INFO: \u001b[32mno_task_0\u001b[0m (index=1) is \u001b[32mignored\u001b[0m due to saved signature\n"
     ]
    },
    {
     "name": "stdout",
     "output_type": "stream",
     "text": [
      "Test_2.txt generated\r\n"
     ]
    }
   ],
   "source": [
    "%sosrun no_task --num 3"
   ]
  },
  {
   "cell_type": "markdown",
   "metadata": {},
   "source": [
    "Keyword `task` separates the reset of the step process as external tasks:"
   ]
  },
  {
   "cell_type": "code",
   "execution_count": 4,
   "metadata": {
    "collapsed": true,
    "kernel": "SoS"
   },
   "outputs": [],
   "source": [
    "[task]\n",
    "parameter: num = 2\n",
    "\n",
    "input: for_each = {'i': range(num)}\n",
    "output: f'test_{i}.txt'\n",
    "\n",
    "task:\n",
    "sh: expand=True\n",
    "    sleep {5*i}\n",
    "    echo test_{i} > test_{i}.txt\n",
    "    echo \"Test_{i}.txt generated\""
   ]
  },
  {
   "cell_type": "code",
   "execution_count": 5,
   "metadata": {
    "kernel": "SoS",
    "scrolled": false
   },
   "outputs": [
    {
     "data": {
      "text/html": [
       "<table id=\"table_mac_pro_87c6103417cf5aa9\" class=\"task_table\"><tr style=\"border: 0px\">\n",
       "                        <td style=\"border: 0px\">\n",
       "                        <i id=\"status_mac_pro_87c6103417cf5aa9\"\n",
       "                            class=\"fa fa-2x fa-fw fa-square-o\"\n",
       "                            onmouseover=\"$('#status_mac_pro_87c6103417cf5aa9').addClass('fa-stop task_hover').removeClass('fa-square-o')\"\n",
       "                            onmouseleave=\"$('#status_mac_pro_87c6103417cf5aa9').addClass('fa-square-o').removeClass('fa-stop task_hover')\"\n",
       "                            onclick=\"kill_task('87c6103417cf5aa9', 'mac_pro')\"\n",
       "                        ></i> </td>\n",
       "                        <td style=\"border:0px\"><a onclick=\"task_info('87c6103417cf5aa9', 'mac_pro')\"><pre>87c6103417cf5aa9</pre></a></td>\n",
       "                        <td style=\"border:0px\">&nbsp;</td>\n",
       "                        <td style=\"border:0px;text-align=right;\">\n",
       "                        <pre><time id=\"duration_mac_pro_87c6103417cf5aa9\" class=\"pending\" datetime=\"1520271308000.0\">1 min 38 sec</time></pre></td>\n",
       "                        </tr>\n",
       "                        </table>"
      ]
     },
     "metadata": {},
     "output_type": "display_data"
    },
    {
     "data": {
      "text/html": [
       "<table id=\"table_mac_pro_f63bb533fed2d90d\" class=\"task_table\"><tr style=\"border: 0px\">\n",
       "                        <td style=\"border: 0px\">\n",
       "                        <i id=\"status_mac_pro_f63bb533fed2d90d\"\n",
       "                            class=\"fa fa-2x fa-fw fa-square-o\"\n",
       "                            onmouseover=\"$('#status_mac_pro_f63bb533fed2d90d').addClass('fa-stop task_hover').removeClass('fa-square-o')\"\n",
       "                            onmouseleave=\"$('#status_mac_pro_f63bb533fed2d90d').addClass('fa-square-o').removeClass('fa-stop task_hover')\"\n",
       "                            onclick=\"kill_task('f63bb533fed2d90d', 'mac_pro')\"\n",
       "                        ></i> </td>\n",
       "                        <td style=\"border:0px\"><a onclick=\"task_info('f63bb533fed2d90d', 'mac_pro')\"><pre>f63bb533fed2d90d</pre></a></td>\n",
       "                        <td style=\"border:0px\">&nbsp;</td>\n",
       "                        <td style=\"border:0px;text-align=right;\">\n",
       "                        <pre><time id=\"duration_mac_pro_f63bb533fed2d90d\" class=\"pending\" datetime=\"1520271308000.0\">1 min 38 sec</time></pre></td>\n",
       "                        </tr>\n",
       "                        </table>"
      ]
     },
     "metadata": {},
     "output_type": "display_data"
    }
   ],
   "source": [
    "%sosrun task -s force"
   ]
  }
 ],
 "metadata": {
  "kernelspec": {
   "display_name": "SoS",
   "language": "sos",
   "name": "sos"
  },
  "language_info": {
   "codemirror_mode": "sos",
   "file_extension": ".sos",
   "mimetype": "text/x-sos",
   "name": "sos",
   "nbconvert_exporter": "sos_notebook.converter.SoS_Exporter",
   "pygments_lexer": "sos"
  },
  "sos": {
   "default_kernel": "SoS",
   "kernels": [
    [
     "SoS",
     "sos",
     "",
     ""
    ],
    [
     "Bash",
     "bash",
     "Bash",
     "#E6EEFF"
    ],
    [
     "JavaScript",
     "javascript",
     "JavaScript",
     "#c8e1ae"
    ],
    [
     "Julia",
     "julia-0.6",
     "Julia",
     "#ebd8eb"
    ],
    [
     "Python2",
     "python2",
     "Python2",
     "#FFE771"
    ],
    [
     "Python3",
     "python3",
     "Python3",
     "#FFE771"
    ],
    [
     "R",
     "ir",
     "R",
     "#DCDCDA"
    ],
    [
     "TypeScript",
     "typescript",
     "TypeScript",
     "#c8e1ae"
    ],
    [
     "sas",
     "sas",
     "",
     ""
    ]
   ],
   "panel": {
    "displayed": true,
    "height": 0,
    "style": "side"
   }
  }
 },
 "nbformat": 4,
 "nbformat_minor": 2
}
