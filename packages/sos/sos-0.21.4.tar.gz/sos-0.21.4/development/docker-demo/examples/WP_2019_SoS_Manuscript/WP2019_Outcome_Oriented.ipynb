{
 "cells": [
  {
   "cell_type": "markdown",
   "metadata": {
    "kernel": "SoS"
   },
   "source": [
    "# Linear-model based prediction\n",
    "\n",
    "This script fits linear models\n",
    "using Lasso and Ridge regression\n",
    "and summarizes their prediction performance\n",
    "This script is written in the \"outcome-oriented\" style,\n",
    "aka the \"Make Style\""
   ]
  },
  {
   "cell_type": "code",
   "execution_count": 2,
   "metadata": {
    "kernel": "SoS"
   },
   "outputs": [],
   "source": [
    "[global]\n",
    "parameter: beta = [3, 1.5, 0, 0, 2, 0, 0, 0]\n",
    "ridge_result = [f'data_{x+1}.ridge.mse.csv' for x in range(5)]\n",
    "lasso_result = [f'data_{x+1}.lasso.mse.csv' for x in range(5)]"
   ]
  },
  {
   "cell_type": "code",
   "execution_count": 3,
   "metadata": {
    "kernel": "SoS"
   },
   "outputs": [],
   "source": [
    "# Simulate sparse data-sets\n",
    "[simulation: provides = [\"data_{id}.train.csv\", \"data_{id}.test.csv\"]]\n",
    "depends: R_library(\"MASS>=7.3\")\n",
    "parameter: N = (40, 200) # training and testing samples\n",
    "parameter: rstd = 3\n",
    "output: f\"data_{id}.train.csv\", f\"data_{id}.test.csv\"\n",
    "R: expand = \"${ }\"\n",
    "  set.seed(${id})\n",
    "  N = sum(c(${paths(N):,}))\n",
    "  p = length(c(${paths(beta):,}))\n",
    "  X = MASS::mvrnorm(n = N, rep(0, p), 0.5^abs(outer(1:p, 1:p, FUN = \"-\")))\n",
    "  Y = X %*% c(${paths(beta):,}) + rnorm(N, mean = 0, sd = ${rstd})\n",
    "  Xtrain = X[1:${N[0]},]; Xtest = X[(${N[0]}+1):(${N[0]}+${N[1]}),]\n",
    "  Ytrain = Y[1:${N[0]}]; Ytest = Y[(${N[0]}+1):(${N[0]}+${N[1]})]\n",
    "  write.table(cbind(Ytrain, Xtrain), ${_output[0]:r}, row.names = F, col.names = F, sep = ',')\n",
    "  write.table(cbind(Ytest, Xtest), ${_output[1]:r}, row.names = F, col.names = F, sep = ',')"
   ]
  },
  {
   "cell_type": "code",
   "execution_count": 4,
   "metadata": {
    "kernel": "SoS"
   },
   "outputs": [],
   "source": [
    "# Ridge regression model implemented in R\n",
    "# Build predictor via cross-validation and make prediction\n",
    "[ridge: provides = [\"data_{id}.ridge.predicted.csv\", \"data_{id}.ridge.coef.csv\"]]\n",
    "parameter: nfolds = 5\n",
    "depends: f\"data_{id}.train.csv\", f\"data_{id}.test.csv\", R_library(\"glmnet>=2.0\")\n",
    "output: f\"data_{id}.ridge.predicted.csv\", f\"data_{id}.ridge.coef.csv\"\n",
    "R: expand = \"${ }\"\n",
    "  train = read.csv(${_depends[0]:r}, header = F)\n",
    "  test = read.csv(${_depends[1]:r}, header = F)\n",
    "  model = glmnet::cv.glmnet(as.matrix(train[,-1]), train[,1], family = \"gaussian\", alpha = 0, nfolds = ${nfolds}, intercept = F)\n",
    "  betahat = as.vector(coef(model, s = \"lambda.min\")[-1])\n",
    "  Ypred = predict(model, as.matrix(test[,-1]), s = \"lambda.min\")\n",
    "  write.table(Ypred, ${_output[0]:r}, row.names = F, col.names = F, sep = ',')\n",
    "  write.table(betahat, ${_output[1]:r}, row.names = F, col.names = F, sep = ',')"
   ]
  },
  {
   "cell_type": "code",
   "execution_count": 5,
   "metadata": {
    "kernel": "SoS"
   },
   "outputs": [],
   "source": [
    "# LASSO model implemented in Python\n",
    "# Build predictor via cross-validation and make prediction\n",
    "[lasso: provides = [\"data_{id}.lasso.predicted.csv\", \"data_{id}.lasso.coef.csv\"]]\n",
    "parameter: nfolds = 5\n",
    "depends: f\"data_{id}.train.csv\", f\"data_{id}.test.csv\", Py_Module(\"sklearn>=0.18.1\"), Py_Module(\"numpy>=1.6.1\"), Py_Module(\"scipy>=0.9\")\n",
    "output: f\"data_{id}.lasso.predicted.csv\", f\"data_{id}.lasso.coef.csv\"\n",
    "python: expand = \"${ }\"\n",
    "  import numpy as np\n",
    "  from sklearn.linear_model import LassoCV\n",
    "  train = np.genfromtxt(${_depends[0]:r}, delimiter = \",\")\n",
    "  test = np.genfromtxt(${_depends[1]:r}, delimiter = \",\")\n",
    "  model = LassoCV(cv = ${nfolds}, fit_intercept = False).fit(train[:,1:], train[:,1])\n",
    "  Ypred = model.predict(test[:,1:])\n",
    "  np.savetxt(${_output[0]:r}, Ypred)\n",
    "  np.savetxt(${_output[1]:r}, model.coef_)"
   ]
  },
  {
   "cell_type": "code",
   "execution_count": 6,
   "metadata": {
    "kernel": "SoS"
   },
   "outputs": [],
   "source": [
    "# Evaluate predictors by calculating mean squared error\n",
    "# of prediction vs truth (first line of output)\n",
    "# and of betahat vs truth (2nd line of output)\n",
    "[evaluation: provides = 'data_{id}.{method}.mse.csv']\n",
    "depends: f\"data_{id}.test.csv\", f\"data_{id}.{method}.predicted.csv\",\n",
    "         f\"data_{id}.{method}.coef.csv\"\n",
    "R: expand = \"${ }\", stderr = False\n",
    "  b = c(${paths(beta):,})\n",
    "  Ytruth = as.matrix(read.csv(${_depends[0]:r}, header = F)[,-1]) %*% b\n",
    "  Ypred = scan(${_depends[1]:r})\n",
    "  prediction_mse = mean((Ytruth - Ypred)^2)\n",
    "  betahat = scan(${_depends[2]:r})\n",
    "  estimation_mse = mean((betahat - b) ^ 2)\n",
    "  cat(paste(prediction_mse, estimation_mse), file = ${_output:r})"
   ]
  },
  {
   "cell_type": "code",
   "execution_count": 7,
   "metadata": {
    "kernel": "SoS"
   },
   "outputs": [],
   "source": [
    "[get-pandoc-css: provides = 'pandoc.css']\n",
    "download:\n",
    "  https://raw.githubusercontent.com/vatlab/sos-docs/master/css/pandoc.css"
   ]
  },
  {
   "cell_type": "code",
   "execution_count": 8,
   "metadata": {
    "kernel": "SoS"
   },
   "outputs": [],
   "source": [
    "# Compute and report error estimates\n",
    "# in HTML table format\n",
    "[default]\n",
    "depends: ridge_result, lasso_result, \"pandoc.css\", executable('pandoc')\n",
    "import numpy as np\n",
    "ridge_summary = np.mean(np.array([sum([x.strip().split() for x in open(f).readlines()], []) for f in ridge_result], dtype = float).T, axis = 1).tolist()\n",
    "lasso_summary = np.mean(np.array([sum([x.strip().split() for x in open(f).readlines()], []) for f in lasso_result], dtype = float).T, axis = 1).tolist()\n",
    "\n",
    "report: expand = \"${ }\", output = \"report.md\"\n",
    "%% Comparison summary\n",
    "\n",
    "| Method | Avg. Estimation Error | Avg. Prediction Error |\n",
    "|:------:|:-------:|:-------:|\n",
    "| LASSO | ${lasso_summary[1]} | ${lasso_summary[0]} |\n",
    "| Ridge | ${ridge_summary[1]} | ${ridge_summary[0]} |\n",
    "\n",
    "pandoc: input = \"report.md\", output = \"report.html\", args = '{input:q} --css pandoc.css --self-contained -s --output {output:q}'"
   ]
  },
  {
   "cell_type": "code",
   "execution_count": null,
   "metadata": {
    "kernel": "SoS"
   },
   "outputs": [],
   "source": [
    "%sosrun"
   ]
  },
  {
   "cell_type": "code",
   "execution_count": null,
   "metadata": {
    "kernel": "SoS"
   },
   "outputs": [],
   "source": [
    "%preview report.html"
   ]
  }
 ],
 "metadata": {
  "kernelspec": {
   "display_name": "SoS",
   "language": "sos",
   "name": "sos"
  },
  "language_info": {
   "codemirror_mode": "sos",
   "file_extension": ".sos",
   "mimetype": "text/x-sos",
   "name": "sos",
   "nbconvert_exporter": "sos_notebook.converter.SoS_Exporter",
   "pygments_lexer": "sos"
  },
  "sos": {
   "kernels": [
    [
     "SoS",
     "sos",
     "",
     ""
    ]
   ]
  }
 },
 "nbformat": 4,
 "nbformat_minor": 2
}
