{
 "cells": [
  {
   "cell_type": "markdown",
   "metadata": {
    "kernel": "SoS"
   },
   "source": [
    "# Linear-model based prediction\n",
    "\n",
    "This script fits linear models\n",
    "using Lasso and Ridge regression\n",
    "and summarizes their prediction performance\n",
    "This script is written in the \"outcome-oriented\" style,\n",
    "aka the \"Make Style\""
   ]
  },
  {
   "cell_type": "code",
   "execution_count": 2,
   "metadata": {
    "kernel": "SoS"
   },
   "outputs": [],
   "source": [
    "[global]\n",
    "parameter: beta = [3, 1.5, 0, 0, 2, 0, 0, 0]\n",
    "ridge_result = [f'data_{x+1}.ridge.mse.csv' for x in range(5)]\n",
    "lasso_result = [f'data_{x+1}.lasso.mse.csv' for x in range(5)]"
   ]
  },
  {
   "cell_type": "code",
   "execution_count": 3,
   "metadata": {
    "kernel": "SoS"
   },
   "outputs": [],
   "source": [
    "# Simulate sparse data-sets\n",
    "[simulation: provides = [\"data_{id}.train.csv\", \"data_{id}.test.csv\"]]\n",
    "depends: R_library(\"MASS>=7.3\")\n",
    "parameter: N = (40, 200) # training and testing samples\n",
    "parameter: rstd = 3\n",
    "source='regression_modules/simulate.R'\n",
    "output: f\"data_{id}.train.csv\", f\"data_{id}.test.csv\"\n",
    "bash: expand = True\n",
    "  Rscript {source} seed={id} N=\"c({paths(N):,})\" b=\"c({paths(beta):,})\" rstd={rstd} oftrain=\"'{_output[0]}'\" oftest=\"'{_output[1]}'\""
   ]
  },
  {
   "cell_type": "code",
   "execution_count": 4,
   "metadata": {
    "kernel": "SoS"
   },
   "outputs": [],
   "source": [
    "# Ridge regression model implemented in R\n",
    "# Build predictor via cross-validation and make prediction\n",
    "[ridge: provides = [\"data_{id}.ridge.predicted.csv\", \"data_{id}.ridge.coef.csv\"]]\n",
    "depends: f\"data_{id}.train.csv\", f\"data_{id}.test.csv\", R_library(\"glmnet>=2.0\")\n",
    "parameter: nfolds = 5\n",
    "source='regression_modules/ridge.R'\n",
    "output: f\"data_{id}.ridge.predicted.csv\", f\"data_{id}.ridge.coef.csv\"\n",
    "bash: expand = True\n",
    "  Rscript {source} train=\"'{_depends[0]}'\" test=\"'{_depends[1]}'\" nfolds={nfolds} ofpred=\"'{_output[0]}'\" ofcoef=\"'{_output[1]}'\""
   ]
  },
  {
   "cell_type": "code",
   "execution_count": 5,
   "metadata": {
    "kernel": "SoS"
   },
   "outputs": [],
   "source": [
    "# LASSO model implemented in Python\n",
    "# Build predictor via cross-validation and make prediction\n",
    "[lasso: provides = [\"data_{id}.lasso.predicted.csv\", \"data_{id}.lasso.coef.csv\"]]\n",
    "depends: f\"data_{id}.train.csv\", f\"data_{id}.test.csv\", Py_Module(\"sklearn>=0.18.1\"), Py_Module(\"numpy>=1.6.1\"), Py_Module(\"scipy>=0.9\")\n",
    "parameter: nfolds = 5\n",
    "source='regression_modules/lasso.py'\n",
    "output: f\"data_{id}.lasso.predicted.csv\", f\"data_{id}.lasso.coef.csv\"\n",
    "bash: expand = True\n",
    "  python {source} {_depends[0]} {_depends[1]} {nfolds} {_output[0]} {_output[1]}"
   ]
  },
  {
   "cell_type": "code",
   "execution_count": 6,
   "metadata": {
    "kernel": "SoS"
   },
   "outputs": [],
   "source": [
    "# Evaluate predictors by calculating mean squared error\n",
    "# of prediction vs truth (first line of output)\n",
    "# and of betahat vs truth (2nd line of output)\n",
    "[evaluation: provides = 'data_{id}.{method}.mse.csv']\n",
    "depends: f\"data_{id}.test.csv\", f\"data_{id}.{method}.predicted.csv\",\n",
    "         f\"data_{id}.{method}.coef.csv\"\n",
    "source='regression_modules/evaluate.R'\n",
    "bash: expand = True\n",
    "  Rscript {source} b=\"c({paths(beta):,})\" test=\"'{_depends[0]}'\" fpred=\"'{_depends[1]}'\" fcoef=\"'{_depends[2]}'\" output=\"'{_output}'\""
   ]
  },
  {
   "cell_type": "code",
   "execution_count": 7,
   "metadata": {
    "kernel": "SoS"
   },
   "outputs": [],
   "source": [
    "[get-pandoc-css: provides = 'pandoc.css']\n",
    "download:\n",
    "  https://raw.githubusercontent.com/vatlab/sos-docs/master/css/pandoc.css"
   ]
  },
  {
   "cell_type": "code",
   "execution_count": 8,
   "metadata": {
    "kernel": "SoS"
   },
   "outputs": [],
   "source": [
    "# Compute and report error estimates\n",
    "# in HTML table format\n",
    "[default]\n",
    "depends: ridge_result, lasso_result, \"pandoc.css\", executable('pandoc')\n",
    "import numpy as np\n",
    "ridge_summary = np.mean(np.array([sum([x.strip().split() for x in open(f).readlines()], []) for f in ridge_result], dtype = float).T, axis = 1).tolist()\n",
    "lasso_summary = np.mean(np.array([sum([x.strip().split() for x in open(f).readlines()], []) for f in lasso_result], dtype = float).T, axis = 1).tolist()\n",
    "\n",
    "report: expand = \"${ }\", output = \"report.md\"\n",
    "%% Comparison summary\n",
    "\n",
    "| Method | Avg. Estimation Error | Avg. Prediction Error |\n",
    "|:------:|:-------:|:-------:|\n",
    "| LASSO | ${lasso_summary[1]} | ${lasso_summary[0]} |\n",
    "| Ridge | ${ridge_summary[1]} | ${ridge_summary[0]} |\n",
    "\n",
    "pandoc: input = \"report.md\", output = \"report.html\", args = '{input:q} --css pandoc.css --self-contained -s --output {output:q}'"
   ]
  },
  {
   "cell_type": "code",
   "execution_count": null,
   "metadata": {
    "kernel": "SoS"
   },
   "outputs": [],
   "source": [
    "%sosrun"
   ]
  },
  {
   "cell_type": "code",
   "execution_count": null,
   "metadata": {
    "kernel": "SoS"
   },
   "outputs": [],
   "source": [
    "%preview report.html"
   ]
  }
 ],
 "metadata": {
  "kernelspec": {
   "display_name": "SoS",
   "language": "sos",
   "name": "sos"
  },
  "language_info": {
   "codemirror_mode": "sos",
   "file_extension": ".sos",
   "mimetype": "text/x-sos",
   "name": "sos",
   "nbconvert_exporter": "sos_notebook.converter.SoS_Exporter",
   "pygments_lexer": "sos"
  },
  "sos": {
   "kernels": [
    [
     "SoS",
     "sos",
     "",
     ""
    ]
   ]
  }
 },
 "nbformat": 4,
 "nbformat_minor": 2
}
