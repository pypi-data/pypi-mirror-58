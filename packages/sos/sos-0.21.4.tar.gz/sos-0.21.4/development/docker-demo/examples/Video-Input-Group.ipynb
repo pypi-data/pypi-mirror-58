{
 "cells": [
  {
   "cell_type": "code",
   "execution_count": 1,
   "metadata": {
    "collapsed": true,
    "kernel": "SoS"
   },
   "outputs": [],
   "source": [
    "!echo a > a.txt\n",
    "!echo b > b.txt\n",
    "!echo c > c.txt\n",
    "!echo d > d.txt"
   ]
  },
  {
   "cell_type": "code",
   "execution_count": 2,
   "metadata": {
    "kernel": "SoS"
   },
   "outputs": [
    {
     "name": "stdout",
     "output_type": "stream",
     "text": [
      "step input is a.txt b.txt c.txt d.txt\n"
     ]
    }
   ],
   "source": [
    "input: 'a.txt', 'b.txt', 'c.txt', 'd.txt'\n",
    "print(f\"step input is {step_input}\")"
   ]
  },
  {
   "cell_type": "code",
   "execution_count": 3,
   "metadata": {
    "kernel": "SoS"
   },
   "outputs": [
    {
     "name": "stdout",
     "output_type": "stream",
     "text": [
      "step input is a.txt b.txt c.txt d.txt, group input is a.txt\n",
      "step input is a.txt b.txt c.txt d.txt, group input is b.txt\n",
      "step input is a.txt b.txt c.txt d.txt, group input is c.txt\n",
      "step input is a.txt b.txt c.txt d.txt, group input is d.txt\n"
     ]
    }
   ],
   "source": [
    "input: 'a.txt', 'b.txt', 'c.txt', 'd.txt', group_by=1\n",
    "print(f\"step input is {step_input}, group input is {_input}\")"
   ]
  },
  {
   "cell_type": "code",
   "execution_count": 4,
   "metadata": {
    "kernel": "SoS"
   },
   "outputs": [
    {
     "name": "stdout",
     "output_type": "stream",
     "text": [
      "step input is a.txt b.txt c.txt d.txt, group input is a.txt b.txt\n",
      "step input is a.txt b.txt c.txt d.txt, group input is c.txt d.txt\n"
     ]
    }
   ],
   "source": [
    "input: 'a.txt', 'b.txt', 'c.txt', 'd.txt', group_by=2\n",
    "print(f\"step input is {step_input}, group input is {_input}\")"
   ]
  },
  {
   "cell_type": "code",
   "execution_count": 5,
   "metadata": {
    "kernel": "SoS"
   },
   "outputs": [
    {
     "name": "stderr",
     "output_type": "stream",
     "text": [
      "\u001b[95mWARNING\u001b[0m: \u001b[95mNumber of samples (4) is not a multiple of group_by (3). The last group would have less files than the other groups.\u001b[0m\n"
     ]
    },
    {
     "name": "stdout",
     "output_type": "stream",
     "text": [
      "step input is a.txt b.txt c.txt d.txt, group input is a.txt b.txt c.txt\n",
      "step input is a.txt b.txt c.txt d.txt, group input is d.txt\n"
     ]
    }
   ],
   "source": [
    "input: 'a.txt', 'b.txt', 'c.txt', 'd.txt', group_by=3\n",
    "print(f\"step input is {step_input}, group input is {_input}\")"
   ]
  },
  {
   "cell_type": "code",
   "execution_count": 6,
   "metadata": {
    "kernel": "SoS"
   },
   "outputs": [
    {
     "name": "stdout",
     "output_type": "stream",
     "text": [
      "step input is a.txt b.txt c.txt d.txt, group input is a.txt c.txt\n",
      "step input is a.txt b.txt c.txt d.txt, group input is b.txt d.txt\n"
     ]
    }
   ],
   "source": [
    "input: 'a.txt', 'b.txt', 'c.txt', 'd.txt', group_by='pairs'\n",
    "print(f\"step input is {step_input}, group input is {_input}\")"
   ]
  },
  {
   "cell_type": "code",
   "execution_count": 7,
   "metadata": {
    "kernel": "SoS"
   },
   "outputs": [
    {
     "name": "stdout",
     "output_type": "stream",
     "text": [
      "step input is a.txt b.txt c.txt d.txt, group input is a.txt b.txt\n",
      "step input is a.txt b.txt c.txt d.txt, group input is a.txt c.txt\n",
      "step input is a.txt b.txt c.txt d.txt, group input is a.txt d.txt\n",
      "step input is a.txt b.txt c.txt d.txt, group input is b.txt c.txt\n",
      "step input is a.txt b.txt c.txt d.txt, group input is b.txt d.txt\n",
      "step input is a.txt b.txt c.txt d.txt, group input is c.txt d.txt\n"
     ]
    }
   ],
   "source": [
    "input: 'a.txt', 'b.txt', 'c.txt', 'd.txt', group_by='combinations'\n",
    "print(f\"step input is {step_input}, group input is {_input}\")"
   ]
  },
  {
   "cell_type": "code",
   "execution_count": 8,
   "metadata": {
    "kernel": "SoS"
   },
   "outputs": [
    {
     "name": "stdout",
     "output_type": "stream",
     "text": [
      "group input is a.txt b.txt c.txt d.txt, value is 1\n",
      "group input is a.txt b.txt c.txt d.txt, value is 2\n",
      "group input is a.txt b.txt c.txt d.txt, value is 3\n"
     ]
    }
   ],
   "source": [
    "value = [1, 2, 3]\n",
    "input: 'a.txt', 'b.txt', 'c.txt', 'd.txt', for_each='value'\n",
    "print(f\"group input is {_input}, value is {_value}\")"
   ]
  },
  {
   "cell_type": "code",
   "execution_count": 9,
   "metadata": {
    "kernel": "SoS"
   },
   "outputs": [
    {
     "name": "stdout",
     "output_type": "stream",
     "text": [
      "group input is a.txt b.txt c.txt d.txt, value is 0\n",
      "group input is a.txt b.txt c.txt d.txt, value is 1\n",
      "group input is a.txt b.txt c.txt d.txt, value is 2\n",
      "group input is a.txt b.txt c.txt d.txt, value is 3\n"
     ]
    }
   ],
   "source": [
    "input: 'a.txt', 'b.txt', 'c.txt', 'd.txt', for_each={'value': range(4)}\n",
    "print(f\"group input is {_input}, value is {value}\")"
   ]
  },
  {
   "cell_type": "code",
   "execution_count": null,
   "metadata": {
    "collapsed": true
   },
   "outputs": [],
   "source": []
  }
 ],
 "metadata": {
  "kernelspec": {
   "display_name": "SoS",
   "language": "sos",
   "name": "sos"
  },
  "language_info": {
   "codemirror_mode": "sos",
   "file_extension": ".sos",
   "mimetype": "text/x-sos",
   "name": "sos",
   "nbconvert_exporter": "sos_notebook.converter.SoS_Exporter",
   "pygments_lexer": "sos"
  },
  "sos": {
   "default_kernel": "SoS",
   "kernels": [
    [
     "Bash",
     "bash",
     "Bash",
     "#E6EEFF"
    ],
    [
     "JavaScript",
     "javascript",
     "JavaScript",
     "#c8e1ae"
    ],
    [
     "Julia",
     "julia-0.6",
     "Julia",
     "#ebd8eb"
    ],
    [
     "Python2",
     "python2",
     "Python2",
     "#FFE771"
    ],
    [
     "Python3",
     "python3",
     "Python3",
     "#FFE771"
    ],
    [
     "R",
     "ir",
     "R",
     "#DCDCDA"
    ],
    [
     "SoS",
     "sos",
     "",
     ""
    ],
    [
     "TypeScript",
     "typescript",
     "TypeScript",
     "#c8e1ae"
    ],
    [
     "sas",
     "sas",
     "",
     ""
    ]
   ],
   "panel": {
    "displayed": true,
    "height": 0,
    "style": "side"
   }
  }
 },
 "nbformat": 4,
 "nbformat_minor": 2
}
