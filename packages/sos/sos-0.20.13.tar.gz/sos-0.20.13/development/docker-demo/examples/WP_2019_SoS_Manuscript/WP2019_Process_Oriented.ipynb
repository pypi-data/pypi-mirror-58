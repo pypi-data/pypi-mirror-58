{
 "cells": [
  {
   "cell_type": "markdown",
   "metadata": {
    "kernel": "SoS"
   },
   "source": [
    "# Linear-model based prediction\n",
    "\n",
    "This script fits linear models\n",
    "using Lasso and Ridge regression\n",
    "and summarizes their prediction performance\n",
    "This script is written in process-oriented style"
   ]
  },
  {
   "cell_type": "code",
   "execution_count": 2,
   "metadata": {
    "kernel": "SoS"
   },
   "outputs": [],
   "source": [
    "[global]\n",
    "# The \"true\" sparse regression coefficient\n",
    "parameter: beta = [3, 1.5, 0, 0, 2, 0, 0, 0]"
   ]
  },
  {
   "cell_type": "code",
   "execution_count": 3,
   "metadata": {
    "kernel": "SoS"
   },
   "outputs": [],
   "source": [
    "# Simulate sparse data-sets\n",
    "[lasso_1, ridge_1]\n",
    "depends: R_library(\"MASS>=7.3\")\n",
    "# training and testing samples\n",
    "parameter: N = (40, 200) \n",
    "parameter: rstd = 3\n",
    "parameter: replicate = [x+1 for x in range(5)]\n",
    "input: for_each = ['replicate']\n",
    "output: train = f\"data_{_replicate}.train.csv\", test = f\"data_{_replicate}.test.csv\"\n",
    "R: expand = \"${ }\"\n",
    "  set.seed(${_replicate})\n",
    "  N = sum(c(${paths(N):,}))\n",
    "  p = length(c(${paths(beta):,}))\n",
    "  X = MASS::mvrnorm(n = N, rep(0, p), 0.5^abs(outer(1:p, 1:p, FUN = \"-\")))\n",
    "  Y = X %*% c(${paths(beta):,}) + rnorm(N, mean = 0, sd = ${rstd})\n",
    "  Xtrain = X[1:${N[0]},]; Xtest = X[(${N[0]}+1):(${N[0]}+${N[1]}),]\n",
    "  Ytrain = Y[1:${N[0]}]; Ytest = Y[(${N[0]}+1):(${N[0]}+${N[1]})]\n",
    "  write.table(cbind(Ytrain, Xtrain), ${_output[0]:r}, row.names = F, col.names = F, sep = ',')\n",
    "  write.table(cbind(Ytest, Xtest), ${_output[1]:r}, row.names = F, col.names = F, sep = ',')"
   ]
  },
  {
   "cell_type": "code",
   "execution_count": 4,
   "metadata": {
    "kernel": "SoS"
   },
   "outputs": [],
   "source": [
    "# Ridge regression model implemented in R\n",
    "# Build predictor via cross-validation and make prediction\n",
    "[ridge_2]\n",
    "depends: R_library(\"glmnet>=2.0\")\n",
    "parameter: nfolds = 5\n",
    "output: pred = f\"{_input[0]:nn}.ridge.predicted.csv\", coef = f\"{_input[0]:nn}.ridge.coef.csv\"\n",
    "R: expand = \"${ }\"\n",
    "  train = read.csv(${_input['train']:r}, header = F)\n",
    "  test = read.csv(${_input['test']:r}, header = F)\n",
    "  model = glmnet::cv.glmnet(as.matrix(train[,-1]), train[,1], family = \"gaussian\", alpha = 0, nfolds = ${nfolds}, intercept = F)\n",
    "  betahat = as.vector(coef(model, s = \"lambda.min\")[-1])\n",
    "  Ypred = predict(model, as.matrix(test[,-1]), s = \"lambda.min\")\n",
    "  write.table(Ypred, ${_output['pred']:r}, row.names = F, col.names = F, sep = ',')\n",
    "  write.table(betahat, ${_output['coef']:r}, row.names = F, col.names = F, sep = ',')"
   ]
  },
  {
   "cell_type": "code",
   "execution_count": 5,
   "metadata": {
    "kernel": "SoS"
   },
   "outputs": [],
   "source": [
    "# LASSO model implemented in Python\n",
    "# Build predictor via cross-validation and make prediction\n",
    "# Here I use numerical indices rather than variable names for input and output\n",
    "# to demonstrate alternative syntax for `_input[]` and `_output[]`\n",
    "[lasso_2]\n",
    "depends: Py_Module(\"sklearn>=0.18.1\"), Py_Module(\"numpy>=1.6.1\"), Py_Module(\"scipy>=0.9\")\n",
    "parameter: nfolds = 5\n",
    "output: pred = f\"{_input[0]:nn}.lasso.predicted.csv\", coef = f\"{_input[0]:nn}.lasso.coef.csv\"\n",
    "python: expand = \"${ }\"\n",
    "  import numpy as np\n",
    "  from sklearn.linear_model import LassoCV\n",
    "  train = np.genfromtxt(${_input[0]:r}, delimiter = \",\")\n",
    "  test = np.genfromtxt(${_input[1]:r}, delimiter = \",\")\n",
    "  model = LassoCV(cv = ${nfolds}, fit_intercept = False).fit(train[:,1:], train[:,1])\n",
    "  Ypred = model.predict(test[:,1:])\n",
    "  np.savetxt(${_output[0]:r}, Ypred)\n",
    "  np.savetxt(${_output[1]:r}, model.coef_)"
   ]
  },
  {
   "cell_type": "code",
   "execution_count": 6,
   "metadata": {
    "kernel": "SoS"
   },
   "outputs": [],
   "source": [
    "# Evaluate predictors by calculating mean squared error\n",
    "# of prediction vs truth (first line of output)\n",
    "# and of betahat vs truth (2nd line of output)\n",
    "[lasso_3, ridge_3]\n",
    "input: y = output_from(1)['test'], yhat = output_from(2)['pred'], coef = output_from(2)['coef']\n",
    "output: f\"{_input['yhat']:nn}.mse.csv\"\n",
    "R: expand = \"${ }\", stderr = False\n",
    "  b = c(${paths(beta):,})\n",
    "  Ytruth = as.matrix(read.csv(${_input['y']:r}, header = F)[,-1]) %*% b\n",
    "  Ypred = scan(${_input['yhat']:r})\n",
    "  prediction_mse = mean((Ytruth - Ypred)^2)\n",
    "  betahat = scan(${_input['coef']:r})\n",
    "  estimation_mse = mean((betahat - b) ^ 2)\n",
    "  cat(paste(prediction_mse, estimation_mse), file = ${_output:r})"
   ]
  },
  {
   "cell_type": "code",
   "execution_count": 7,
   "metadata": {
    "kernel": "SoS"
   },
   "outputs": [],
   "source": [
    "# Run default core analysis\n",
    "[default_1]\n",
    "sos_run(['ridge', 'lasso'])"
   ]
  },
  {
   "cell_type": "code",
   "execution_count": 8,
   "metadata": {
    "kernel": "SoS"
   },
   "outputs": [],
   "source": [
    "# Compute and report error estimates\n",
    "# in HTML table format\n",
    "[default_2]\n",
    "depends: executable(\"pandoc\")\n",
    "input: dynamic(\"*.mse.csv\")\n",
    "import numpy as np\n",
    "ridge_summary = np.mean(np.array([sum([x.strip().split() for x in open(f).readlines()], []) for f in _input if 'ridge' in str(f)], dtype = float).T, axis = 1).tolist()\n",
    "lasso_summary = np.mean(np.array([sum([x.strip().split() for x in open(f).readlines()], []) for f in _input if 'lasso' in str(f)], dtype = float).T, axis = 1).tolist()\n",
    "\n",
    "report: output = \"report.md\", expand = \"${ }\"\n",
    "%% Comparison summary\n",
    "\n",
    "| Method | Avg. Estimation Error | Avg. Prediction Error |\n",
    "|:------:|:-------:|:-------:|\n",
    "| LASSO | ${lasso_summary[1]} | ${lasso_summary[0]} |\n",
    "| Ridge | ${ridge_summary[1]} | ${ridge_summary[0]} |\n",
    "\n",
    "download:\n",
    "  https://vatlab.github.io/sos-docs/css/pandoc.css\n",
    "\n",
    "pandoc: input = \"report.md\", output = \"report.html\", args = '{input:q} --css pandoc.css --self-contained -s --output {output:q}'"
   ]
  },
  {
   "cell_type": "code",
   "execution_count": null,
   "metadata": {
    "kernel": "SoS"
   },
   "outputs": [],
   "source": [
    "%sosrun"
   ]
  },
  {
   "cell_type": "code",
   "execution_count": null,
   "metadata": {
    "kernel": "SoS"
   },
   "outputs": [],
   "source": [
    "%preview report.html"
   ]
  }
 ],
 "metadata": {
  "kernelspec": {
   "display_name": "SoS",
   "language": "sos",
   "name": "sos"
  },
  "language_info": {
   "codemirror_mode": "sos",
   "file_extension": ".sos",
   "mimetype": "text/x-sos",
   "name": "sos",
   "nbconvert_exporter": "sos_notebook.converter.SoS_Exporter",
   "pygments_lexer": "sos"
  },
  "sos": {
   "kernels": [
    [
     "SoS",
     "sos",
     "",
     ""
    ]
   ]
  }
 },
 "nbformat": 4,
 "nbformat_minor": 2
}
