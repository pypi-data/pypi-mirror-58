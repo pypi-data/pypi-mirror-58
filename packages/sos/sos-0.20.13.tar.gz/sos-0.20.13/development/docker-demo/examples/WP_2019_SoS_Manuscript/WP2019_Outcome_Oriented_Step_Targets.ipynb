{
 "cells": [
  {
   "cell_type": "markdown",
   "metadata": {
    "kernel": "SoS"
   },
   "source": [
    "# Linear-model based prediction\n",
    "\n",
    "This script fits linear models\n",
    "using Lasso and Ridge regression\n",
    "and summarizes their prediction performance\n",
    "This script is written in the \"outcome-oriented\" style,\n",
    "demonstrating dynamic input, grouped output\n",
    "and step dependencies."
   ]
  },
  {
   "cell_type": "code",
   "execution_count": 2,
   "metadata": {
    "kernel": "SoS"
   },
   "outputs": [],
   "source": [
    "[global]\n",
    "parameter: beta = [3, 1.5, 0, 0, 2, 0, 0, 0]\n",
    "id = [x+1 for x in range(5)]\n",
    "ridge_result = [f'data_{x}.ridge.mse.csv' for x in id]\n",
    "lasso_result = [f'data_{x}.lasso.mse.csv' for x in id]"
   ]
  },
  {
   "cell_type": "code",
   "execution_count": 3,
   "metadata": {
    "kernel": "SoS"
   },
   "outputs": [],
   "source": [
    "# Simulate sparse data-sets\n",
    "[simulation]\n",
    "depends: R_library(\"MASS>=7.3\")\n",
    "parameter: N = (40, 200) # training and testing samples\n",
    "parameter: rstd = 3\n",
    "input: for_each = 'id'\n",
    "output: [(f\"data_{x}.train.csv\", f\"data_{x}.test.csv\") for x in id], group_by = 2\n",
    "R: expand = \"${ }\"\n",
    "  set.seed(${_id})\n",
    "  N = sum(c(${paths(N):,}))\n",
    "  p = length(c(${paths(beta):,}))\n",
    "  X = MASS::mvrnorm(n = N, rep(0, p), 0.5^abs(outer(1:p, 1:p, FUN = \"-\")))\n",
    "  Y = X %*% c(${paths(beta):,}) + rnorm(N, mean = 0, sd = ${rstd})\n",
    "  Xtrain = X[1:${N[0]},]; Xtest = X[(${N[0]}+1):(${N[0]}+${N[1]}),]\n",
    "  Ytrain = Y[1:${N[0]}]; Ytest = Y[(${N[0]}+1):(${N[0]}+${N[1]})]\n",
    "  write.table(cbind(Ytrain, Xtrain), ${_output[0]:r}, row.names = F, col.names = F, sep = ',')\n",
    "  write.table(cbind(Ytest, Xtest), ${_output[1]:r}, row.names = F, col.names = F, sep = ',')"
   ]
  },
  {
   "cell_type": "code",
   "execution_count": 4,
   "metadata": {
    "kernel": "SoS"
   },
   "outputs": [],
   "source": [
    "# Ridge regression model implemented in R\n",
    "# Build predictor via cross-validation and make prediction\n",
    "[ridge]\n",
    "parameter: nfolds = 5\n",
    "depends: sos_step('simulation'), R_library(\"glmnet>=2.0\")\n",
    "input: dynamic(paths([(f\"data_{x}.train.csv\", f\"data_{x}.test.csv\") for x in id])), group_by = 2\n",
    "output: [(f\"data_{x}.ridge.predicted.csv\", f\"data_{x}.ridge.coef.csv\") for x in id], group_by = 2\n",
    "R: expand = \"${ }\"\n",
    "  train = read.csv(${_input[0]:r}, header = F)\n",
    "  test = read.csv(${_input[1]:r}, header = F)\n",
    "  model = glmnet::cv.glmnet(as.matrix(train[,-1]), train[,1], family = \"gaussian\", alpha = 0, nfolds = ${nfolds}, intercept = F)\n",
    "  betahat = as.vector(coef(model, s = \"lambda.min\")[-1])\n",
    "  Ypred = predict(model, as.matrix(test[,-1]), s = \"lambda.min\")\n",
    "  write.table(Ypred, ${_output[0]:r}, row.names = F, col.names = F, sep = ',')\n",
    "  write.table(betahat, ${_output[1]:r}, row.names = F, col.names = F, sep = ',')"
   ]
  },
  {
   "cell_type": "code",
   "execution_count": 5,
   "metadata": {
    "kernel": "SoS"
   },
   "outputs": [],
   "source": [
    "# LASSO model implemented in Python\n",
    "# Build predictor via cross-validation and make prediction\n",
    "[lasso]\n",
    "parameter: nfolds = 5\n",
    "depends: sos_step('simulation'), Py_Module(\"sklearn>=0.18.1\"), Py_Module(\"numpy>=1.6.1\"), Py_Module(\"scipy>=0.9\")\n",
    "input: dynamic(paths([(f\"data_{x}.train.csv\", f\"data_{x}.test.csv\") for x in id])), group_by = 2\n",
    "output: [(f\"data_{x}.lasso.predicted.csv\", f\"data_{x}.lasso.coef.csv\") for x in id], group_by = 2\n",
    "python: expand = \"${ }\"\n",
    "  import numpy as np\n",
    "  from sklearn.linear_model import LassoCV\n",
    "  train = np.genfromtxt(${_input[0]:r}, delimiter = \",\")\n",
    "  test = np.genfromtxt(${_input[1]:r}, delimiter = \",\")\n",
    "  model = LassoCV(cv = ${nfolds}, fit_intercept = False).fit(train[:,1:], train[:,1])\n",
    "  Ypred = model.predict(test[:,1:])\n",
    "  np.savetxt(${_output[0]:r}, Ypred)\n",
    "  np.savetxt(${_output[1]:r}, model.coef_)"
   ]
  },
  {
   "cell_type": "code",
   "execution_count": 6,
   "metadata": {
    "kernel": "SoS"
   },
   "outputs": [],
   "source": [
    "# Evaluate predictors by calculating mean squared error\n",
    "# of prediction vs truth (first line of output)\n",
    "# and of betahat vs truth (2nd line of output)\n",
    "[evaluation_core]\n",
    "parameter: input_files = list\n",
    "parameter: output_files = list\n",
    "input: dynamic(input_files), group_by = 3\n",
    "output: output_files, group_by = 1\n",
    "R: expand = \"${ }\", stderr = False\n",
    "  b = c(${paths(beta):,})\n",
    "  Ytruth = as.matrix(read.csv(${_input[0]:r}, header = F)[,-1]) %*% b\n",
    "  Ypred = scan(${_input[1]:r})\n",
    "  prediction_mse = mean((Ytruth - Ypred)^2)\n",
    "  betahat = scan(${_input[2]:r})\n",
    "  estimation_mse = mean((betahat - b) ^ 2)\n",
    "  cat(paste(prediction_mse, estimation_mse), file = ${_output:r})"
   ]
  },
  {
   "cell_type": "code",
   "execution_count": 7,
   "metadata": {
    "kernel": "SoS"
   },
   "outputs": [],
   "source": [
    "[evaluation_lasso]\n",
    "depends: sos_step('simulation'), sos_step('lasso')\n",
    "input_files = paths([(f\"data_{x}.test.csv\", f\"data_{x}.lasso.predicted.csv\", f\"data_{x}.lasso.coef.csv\") for x in id])\n",
    "output: lasso_result \n",
    "sos_run(\"evaluation_core\", input_files = input_files, output_files = lasso_result)"
   ]
  },
  {
   "cell_type": "code",
   "execution_count": 8,
   "metadata": {
    "kernel": "SoS"
   },
   "outputs": [],
   "source": [
    "[evaluation_ridge]\n",
    "depends: sos_step('simulation'), sos_step('ridge')\n",
    "input_files = paths([(f\"data_{x}.test.csv\", f\"data_{x}.ridge.predicted.csv\", f\"data_{x}.ridge.coef.csv\") for x in id])\n",
    "output: ridge_result \n",
    "sos_run(\"evaluation_core\", input_files = input_files, output_files = ridge_result)"
   ]
  },
  {
   "cell_type": "code",
   "execution_count": 9,
   "metadata": {
    "kernel": "SoS"
   },
   "outputs": [],
   "source": [
    "[default]\n",
    "depends: sos_step('evaluation_lasso'), sos_step('evaluation_ridge')\n",
    "output: lasso_result, ridge_result"
   ]
  },
  {
   "cell_type": "code",
   "execution_count": null,
   "metadata": {
    "kernel": "SoS"
   },
   "outputs": [],
   "source": [
    "%sosrun"
   ]
  }
 ],
 "metadata": {
  "kernelspec": {
   "display_name": "SoS",
   "language": "sos",
   "name": "sos"
  },
  "language_info": {
   "codemirror_mode": "sos",
   "file_extension": ".sos",
   "mimetype": "text/x-sos",
   "name": "sos",
   "nbconvert_exporter": "sos_notebook.converter.SoS_Exporter",
   "pygments_lexer": "sos"
  },
  "sos": {
   "kernels": [
    [
     "SoS",
     "sos",
     "",
     ""
    ]
   ]
  }
 },
 "nbformat": 4,
 "nbformat_minor": 2
}
