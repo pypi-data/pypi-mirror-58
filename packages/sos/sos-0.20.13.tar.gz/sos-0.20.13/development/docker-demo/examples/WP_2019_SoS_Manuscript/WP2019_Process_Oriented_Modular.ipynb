{
 "cells": [
  {
   "cell_type": "markdown",
   "metadata": {
    "kernel": "SoS"
   },
   "source": [
    "# Linear-model based prediction\n",
    "\n",
    "This script fits linear models\n",
    "using Lasso and Ridge regression\n",
    "and summarizes their prediction performance\n",
    "This script is written in process-oriented style"
   ]
  },
  {
   "cell_type": "code",
   "execution_count": 2,
   "metadata": {
    "kernel": "SoS"
   },
   "outputs": [],
   "source": [
    "[global]\n",
    "# The \"true\" sparse regression coefficient\n",
    "parameter: beta = [3, 1.5, 0, 0, 2, 0, 0, 0]"
   ]
  },
  {
   "cell_type": "code",
   "execution_count": 3,
   "metadata": {
    "kernel": "SoS"
   },
   "outputs": [],
   "source": [
    "# Simulate sparse data-sets\n",
    "[lasso_1, ridge_1]\n",
    "depends: R_library(\"MASS>=7.3\")\n",
    "# training and testing samples\n",
    "parameter: N = (40, 200)\n",
    "parameter: rstd = 3\n",
    "parameter: replicate = [x+1 for x in range(5)]\n",
    "source='regression_modules/simulate.R'\n",
    "input: None, for_each = ['replicate']\n",
    "output: train = f\"data_{_replicate}.train.csv\", test = f\"data_{_replicate}.test.csv\"\n",
    "bash: expand = True\n",
    "  Rscript {source} seed={_replicate} N=\"c({paths(N):,})\" b=\"c({paths(beta):,})\" rstd={rstd} oftrain=\"'{_output[0]}'\" oftest=\"'{_output[1]}'\""
   ]
  },
  {
   "cell_type": "code",
   "execution_count": 4,
   "metadata": {
    "kernel": "SoS"
   },
   "outputs": [],
   "source": [
    "# Ridge regression model implemented in R\n",
    "# Build predictor via cross-validation and make prediction\n",
    "[ridge_2]\n",
    "depends: R_library(\"glmnet>=2.0\")\n",
    "parameter: nfolds = 5\n",
    "source='regression_modules/ridge.R'\n",
    "output: pred = f\"{_input[0]:nn}.ridge.predicted.csv\", coef = f\"{_input[0]:nn}.ridge.coef.csv\"\n",
    "bash: expand = True\n",
    "  Rscript {source} train=\"'{_input[0]}'\" test=\"'{_input[1]}'\" nfolds={nfolds} ofpred=\"'{_output[0]}'\" ofcoef=\"'{_output[1]}'\""
   ]
  },
  {
   "cell_type": "code",
   "execution_count": 5,
   "metadata": {
    "kernel": "SoS"
   },
   "outputs": [],
   "source": [
    "# LASSO model implemented in Python\n",
    "# Build predictor via cross-validation and make prediction\n",
    "[lasso_2]\n",
    "depends: Py_Module(\"sklearn>=0.18.1\"), Py_Module(\"numpy>=1.6.1\"), Py_Module(\"scipy>=0.9\")\n",
    "parameter: nfolds = 5\n",
    "source='regression_modules/lasso.py'\n",
    "output: pred = f\"{_input[0]:nn}.lasso.predicted.csv\", coef = f\"{_input[0]:nn}.lasso.coef.csv\"\n",
    "bash: expand = True\n",
    "  python {source} {_input[0]} {_input[1]} {nfolds} {_output[0]} {_output[1]}"
   ]
  },
  {
   "cell_type": "code",
   "execution_count": 6,
   "metadata": {
    "kernel": "SoS"
   },
   "outputs": [],
   "source": [
    "# Evaluate predictors by calculating mean squared error\n",
    "# of prediction vs truth (first line of output)\n",
    "# and of betahat vs truth (2nd line of output)\n",
    "[lasso_3, ridge_3]\n",
    "source='regression_modules/evaluate.R'\n",
    "input:  y = output_from(1)['test'], yhat = output_from(2)['pred'], coef = output_from(2)['coef']\n",
    "output: f\"{_input['yhat']:nn}.mse.csv\"\n",
    "bash: expand = True, stderr = False\n",
    "  Rscript {source} b=\"c({paths(beta):,})\" test=\"'{_input[0]}'\" fpred=\"'{_input[1]}'\" fcoef=\"'{_input[2]}'\" output=\"'{_output}'\""
   ]
  },
  {
   "cell_type": "code",
   "execution_count": 7,
   "metadata": {
    "kernel": "SoS"
   },
   "outputs": [],
   "source": [
    "# Run default core analysis\n",
    "[default_1]\n",
    "sos_run(['ridge', 'lasso'])"
   ]
  },
  {
   "cell_type": "code",
   "execution_count": 8,
   "metadata": {
    "kernel": "SoS"
   },
   "outputs": [],
   "source": [
    "# Compute and report error estimates\n",
    "# in HTML table format\n",
    "[default_2]\n",
    "depends: executable(\"pandoc\")\n",
    "input: dynamic(\"*.mse.csv\")\n",
    "import numpy as np\n",
    "ridge_summary = np.mean(np.array([sum([x.strip().split() for x in open(f).readlines()], []) for f in _input if 'ridge' in str(f)], dtype = float).T, axis = 1).tolist()\n",
    "lasso_summary = np.mean(np.array([sum([x.strip().split() for x in open(f).readlines()], []) for f in _input if 'lasso' in str(f)], dtype = float).T, axis = 1).tolist()\n",
    "\n",
    "report: output = \"report.md\", expand = \"${ }\"\n",
    "%% Comparison summary\n",
    "\n",
    "| Method | Avg. Estimation Error | Avg. Prediction Error |\n",
    "|:------:|:-------:|:-------:|\n",
    "| LASSO | ${lasso_summary[1]} | ${lasso_summary[0]} |\n",
    "| Ridge | ${ridge_summary[1]} | ${ridge_summary[0]} |\n",
    "\n",
    "download:\n",
    "  https://vatlab.github.io/sos-docs/css/pandoc.css\n",
    "\n",
    "pandoc: input = \"report.md\", output = \"report.html\", args = '{input:q} --css pandoc.css --self-contained -s --output {output:q}'"
   ]
  },
  {
   "cell_type": "code",
   "execution_count": null,
   "metadata": {
    "kernel": "SoS"
   },
   "outputs": [],
   "source": [
    "%sosrun"
   ]
  },
  {
   "cell_type": "code",
   "execution_count": null,
   "metadata": {
    "kernel": "SoS"
   },
   "outputs": [],
   "source": [
    "%preview report.html"
   ]
  }
 ],
 "metadata": {
  "kernelspec": {
   "display_name": "SoS",
   "language": "sos",
   "name": "sos"
  },
  "language_info": {
   "codemirror_mode": "sos",
   "file_extension": ".sos",
   "mimetype": "text/x-sos",
   "name": "sos",
   "nbconvert_exporter": "sos_notebook.converter.SoS_Exporter",
   "pygments_lexer": "sos"
  },
  "sos": {
   "kernels": [
    [
     "SoS",
     "sos",
     "",
     ""
    ]
   ]
  }
 },
 "nbformat": 4,
 "nbformat_minor": 2
}
