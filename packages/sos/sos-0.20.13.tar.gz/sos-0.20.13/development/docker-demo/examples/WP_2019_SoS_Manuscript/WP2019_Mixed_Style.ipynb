{
 "cells": [
  {
   "cell_type": "markdown",
   "metadata": {
    "kernel": "SoS"
   },
   "source": [
    "# Linear-model based prediction\n",
    "\n",
    "This script fits linear models\n",
    "using Lasso and Ridge regression\n",
    "and summarizes their prediction performance\n",
    "This script is written in a \"mixed\" style,\n",
    "a mixture of process and outcome oriented styles."
   ]
  },
  {
   "cell_type": "code",
   "execution_count": 2,
   "metadata": {
    "kernel": "SoS"
   },
   "outputs": [],
   "source": [
    "[global]\n",
    "parameter: beta = [3, 1.5, 0, 0, 2, 0, 0, 0]\n",
    "parameter: id = 0"
   ]
  },
  {
   "cell_type": "code",
   "execution_count": 3,
   "metadata": {
    "kernel": "SoS"
   },
   "outputs": [],
   "source": [
    "# Simulate sparse data-sets\n",
    "[simulation: provides = [\"data_{id}.train.csv\", \"data_{id}.test.csv\"]]\n",
    "depends: R_library(\"MASS>=7.3\")\n",
    "parameter: N = (40, 200) # training and testing samples\n",
    "parameter: rstd = 3\n",
    "output: f\"data_{id}.train.csv\", f\"data_{id}.test.csv\"\n",
    "R: expand = \"${ }\"\n",
    "  set.seed(${id})\n",
    "  N = sum(c(${paths(N):,}))\n",
    "  p = length(c(${paths(beta):,}))\n",
    "  X = MASS::mvrnorm(n = N, rep(0, p), 0.5^abs(outer(1:p, 1:p, FUN = \"-\")))\n",
    "  Y = X %*% c(${paths(beta):,}) + rnorm(N, mean = 0, sd = ${rstd})\n",
    "  Xtrain = X[1:${N[0]},]; Xtest = X[(${N[0]}+1):(${N[0]}+${N[1]}),]\n",
    "  Ytrain = Y[1:${N[0]}]; Ytest = Y[(${N[0]}+1):(${N[0]}+${N[1]})]\n",
    "  write.table(cbind(Ytrain, Xtrain), ${_output[0]:r}, row.names = F, col.names = F, sep = ',')\n",
    "  write.table(cbind(Ytest, Xtest), ${_output[1]:r}, row.names = F, col.names = F, sep = ',')"
   ]
  },
  {
   "cell_type": "code",
   "execution_count": 4,
   "metadata": {
    "kernel": "SoS"
   },
   "outputs": [],
   "source": [
    "# Ridge regression model implemented in R\n",
    "# Build predictor via cross-validation and make prediction\n",
    "[ridge_1 (model fitting)]\n",
    "depends: R_library(\"glmnet>=2.0\")\n",
    "parameter: nfolds = 5\n",
    "input: f\"data_{id}.train.csv\", f\"data_{id}.test.csv\"\n",
    "output: f\"{_input[0]:nn}.ridge.predicted.csv\", f\"{_input[0]:nn}.ridge.coef.csv\"\n",
    "R: expand = \"${ }\"\n",
    "  train = read.csv(${_input[0]:r}, header = F)\n",
    "  test = read.csv(${_input[1]:r}, header = F)\n",
    "  model = glmnet::cv.glmnet(as.matrix(train[,-1]), train[,1], family = \"gaussian\", alpha = 0, nfolds = ${nfolds}, intercept = F)\n",
    "  betahat = as.vector(coef(model, s = \"lambda.min\")[-1])\n",
    "  Ypred = predict(model, as.matrix(test[,-1]), s = \"lambda.min\")\n",
    "  write.table(Ypred, ${_output[0]:r}, row.names = F, col.names = F, sep = ',')\n",
    "  write.table(betahat, ${_output[1]:r}, row.names = F, col.names = F, sep = ',')"
   ]
  },
  {
   "cell_type": "code",
   "execution_count": 5,
   "metadata": {
    "kernel": "SoS"
   },
   "outputs": [],
   "source": [
    "# LASSO model implemented in Python\n",
    "# Build predictor via cross-validation and make prediction\n",
    "[lasso_1 (model fitting)]\n",
    "depends: Py_Module(\"sklearn>=0.18.1\"), Py_Module(\"numpy>=1.6.1\"), Py_Module(\"scipy>=0.9\") \n",
    "parameter: nfolds = 5\n",
    "input: f\"data_{id}.train.csv\", f\"data_{id}.test.csv\"\n",
    "output: f\"{_input[0]:nn}.lasso.predicted.csv\", f\"{_input[0]:nn}.lasso.coef.csv\"\n",
    "python: expand = \"${ }\"\n",
    "  import numpy as np\n",
    "  from sklearn.linear_model import LassoCV\n",
    "  train = np.genfromtxt(${_input[0]:r}, delimiter = \",\")\n",
    "  test = np.genfromtxt(${_input[1]:r}, delimiter = \",\")\n",
    "  model = LassoCV(cv = ${nfolds}, fit_intercept = False).fit(train[:,1:], train[:,1])\n",
    "  Ypred = model.predict(test[:,1:])\n",
    "  np.savetxt(${_output[0]:r}, Ypred)\n",
    "  np.savetxt(${_output[1]:r}, model.coef_)"
   ]
  },
  {
   "cell_type": "code",
   "execution_count": 6,
   "metadata": {
    "kernel": "SoS"
   },
   "outputs": [],
   "source": [
    "# Evaluate predictors by calculating mean squared error\n",
    "# of prediction vs truth (first line of output)\n",
    "# and of betahat vs truth (2nd line of output)\n",
    "[ridge_2, lasso_2 (evaluate)]\n",
    "depends: f\"data_{id}.test.csv\"\n",
    "output: f\"{_input[0]:nn}.mse.csv\"\n",
    "R: expand = \"${ }\", stderr = False\n",
    "  b = c(${paths(beta):,})\n",
    "  Ytruth = as.matrix(read.csv(${_depends[0]:r}, header = F)[,-1]) %*% b\n",
    "  Ypred = scan(${_input[0]:r})\n",
    "  prediction_mse = mean((Ytruth - Ypred)^2)\n",
    "  betahat = scan(${_input[1]:r})\n",
    "  estimation_mse = mean((betahat - b) ^ 2)\n",
    "  cat(paste(prediction_mse, estimation_mse), file = ${_output:r})"
   ]
  },
  {
   "cell_type": "code",
   "execution_count": 7,
   "metadata": {
    "kernel": "SoS"
   },
   "outputs": [],
   "source": [
    "[default]\n",
    "input: for_each = {'id': range(1,6)}\n",
    "sos_run(['ridge', 'lasso'], id=id)"
   ]
  },
  {
   "cell_type": "code",
   "execution_count": null,
   "metadata": {
    "kernel": "SoS"
   },
   "outputs": [],
   "source": [
    "%sosrun"
   ]
  }
 ],
 "metadata": {
  "kernelspec": {
   "display_name": "SoS",
   "language": "sos",
   "name": "sos"
  },
  "language_info": {
   "codemirror_mode": "sos",
   "file_extension": ".sos",
   "mimetype": "text/x-sos",
   "name": "sos",
   "nbconvert_exporter": "sos_notebook.converter.SoS_Exporter",
   "pygments_lexer": "sos"
  },
  "sos": {
   "kernels": [
    [
     "SoS",
     "sos",
     "",
     ""
    ]
   ]
  }
 },
 "nbformat": 4,
 "nbformat_minor": 2
}
