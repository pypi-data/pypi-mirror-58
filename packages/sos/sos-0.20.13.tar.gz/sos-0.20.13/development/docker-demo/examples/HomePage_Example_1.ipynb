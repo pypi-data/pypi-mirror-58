{
 "cells": [
  {
   "cell_type": "code",
   "execution_count": 1,
   "metadata": {
    "collapsed": true,
    "kernel": "SoS"
   },
   "outputs": [],
   "source": [
    "%preview data\n",
    "import pandas as pd\n",
    "import numpy as np\n",
    "data = pd.DataFrame(np.random.randn(6,4), columns=list('ABCD'))"
   ]
  },
  {
   "cell_type": "code",
   "execution_count": 2,
   "metadata": {
    "kernel": "R"
   },
   "outputs": [
    {
     "data": {
      "text/html": [
       "<table>\n",
       "<thead><tr><th></th><th scope=col>A</th><th scope=col>B</th><th scope=col>C</th><th scope=col>D</th></tr></thead>\n",
       "<tbody>\n",
       "\t<tr><th scope=row>0</th><td>-0.06624191</td><td>-0.12764834</td><td> 1.29318026</td><td> 0.6223112 </td></tr>\n",
       "\t<tr><th scope=row>1</th><td>-0.21722876</td><td> 0.35227416</td><td> 1.29648381</td><td> 0.8555613 </td></tr>\n",
       "\t<tr><th scope=row>2</th><td> 2.32220420</td><td> 0.59960728</td><td>-0.02911349</td><td>-0.8224742 </td></tr>\n",
       "\t<tr><th scope=row>3</th><td>-0.97739092</td><td>-0.10268154</td><td> 1.56297364</td><td> 0.9235085 </td></tr>\n",
       "\t<tr><th scope=row>4</th><td> 1.45126704</td><td>-0.02538247</td><td>-0.11000745</td><td> 0.9922265 </td></tr>\n",
       "\t<tr><th scope=row>5</th><td> 0.50206333</td><td> 0.85188488</td><td> 1.67974275</td><td>-1.1721192 </td></tr>\n",
       "</tbody>\n",
       "</table>\n"
      ],
      "text/latex": [
       "\\begin{tabular}{r|llll}\n",
       "  & A & B & C & D\\\\\n",
       "\\hline\n",
       "\t0 & -0.06624191 & -0.12764834 &  1.29318026 &  0.6223112 \\\\\n",
       "\t1 & -0.21722876 &  0.35227416 &  1.29648381 &  0.8555613 \\\\\n",
       "\t2 &  2.32220420 &  0.59960728 & -0.02911349 & -0.8224742 \\\\\n",
       "\t3 & -0.97739092 & -0.10268154 &  1.56297364 &  0.9235085 \\\\\n",
       "\t4 &  1.45126704 & -0.02538247 & -0.11000745 &  0.9922265 \\\\\n",
       "\t5 &  0.50206333 &  0.85188488 &  1.67974275 & -1.1721192 \\\\\n",
       "\\end{tabular}\n"
      ],
      "text/markdown": [
       "\n",
       "| <!--/--> | A | B | C | D | \n",
       "|---|---|---|---|---|---|\n",
       "| 0 | -0.06624191 | -0.12764834 |  1.29318026 |  0.6223112  | \n",
       "| 1 | -0.21722876 |  0.35227416 |  1.29648381 |  0.8555613  | \n",
       "| 2 |  2.32220420 |  0.59960728 | -0.02911349 | -0.8224742  | \n",
       "| 3 | -0.97739092 | -0.10268154 |  1.56297364 |  0.9235085  | \n",
       "| 4 |  1.45126704 | -0.02538247 | -0.11000745 |  0.9922265  | \n",
       "| 5 |  0.50206333 |  0.85188488 |  1.67974275 | -1.1721192  | \n",
       "\n",
       "\n"
      ],
      "text/plain": [
       "  A           B           C           D         \n",
       "0 -0.06624191 -0.12764834  1.29318026  0.6223112\n",
       "1 -0.21722876  0.35227416  1.29648381  0.8555613\n",
       "2  2.32220420  0.59960728 -0.02911349 -0.8224742\n",
       "3 -0.97739092 -0.10268154  1.56297364  0.9235085\n",
       "4  1.45126704 -0.02538247 -0.11000745  0.9922265\n",
       "5  0.50206333  0.85188488  1.67974275 -1.1721192"
      ]
     },
     "metadata": {},
     "output_type": "display_data"
    }
   ],
   "source": [
    "%get data\n",
    "data <- data + 1\n",
    "data"
   ]
  },
  {
   "cell_type": "code",
   "execution_count": 3,
   "metadata": {
    "kernel": "JavaScript"
   },
   "outputs": [
    {
     "data": {
      "text/plain": [
       "{ '0': \n",
       "   { A: -1.0662419092,\n",
       "     B: -1.1276483391,\n",
       "     C: 0.2931802578,\n",
       "     D: -0.3776887585 },\n",
       "  '1': \n",
       "   { A: -1.2172287551,\n",
       "     B: -0.6477258439,\n",
       "     C: 0.296483811,\n",
       "     D: -0.1444387451 },\n",
       "  '2': \n",
       "   { A: 1.3222041969,\n",
       "     B: -0.4003927193,\n",
       "     C: -1.029113487,\n",
       "     D: -1.8224741508 },\n",
       "  '3': \n",
       "   { A: -1.9773909221,\n",
       "     B: -1.1026815372,\n",
       "     C: 0.5629736356,\n",
       "     D: -0.0764915407 },\n",
       "  '4': \n",
       "   { A: 0.4512670366,\n",
       "     B: -1.0253824665,\n",
       "     C: -1.1100074475,\n",
       "     D: -0.0077734593 },\n",
       "  '5': \n",
       "   { A: -0.4979366674,\n",
       "     B: -0.1481151165,\n",
       "     C: 0.6797427481,\n",
       "     D: -2.1721191671 } }"
      ]
     },
     "execution_count": 3,
     "metadata": {},
     "output_type": "execute_result"
    }
   ],
   "source": [
    "%get data\n",
    "data"
   ]
  },
  {
   "cell_type": "code",
   "execution_count": null,
   "metadata": {
    "collapsed": true
   },
   "outputs": [],
   "source": []
  }
 ],
 "metadata": {
  "kernelspec": {
   "display_name": "SoS",
   "language": "sos",
   "name": "sos"
  },
  "language_info": {
   "codemirror_mode": "sos",
   "file_extension": ".sos",
   "mimetype": "text/x-sos",
   "name": "sos",
   "nbconvert_exporter": "sos_notebook.converter.SoS_Exporter",
   "pygments_lexer": "sos"
  },
  "sos": {
   "default_kernel": "SoS",
   "kernels": [
    [
     "Bash",
     "bash",
     "Bash",
     "#E6EEFF"
    ],
    [
     "JavaScript",
     "javascript",
     "JavaScript",
     "#c8e1ae"
    ],
    [
     "Julia",
     "julia-0.6",
     "Julia",
     "#ebd8eb"
    ],
    [
     "Python2",
     "python2",
     "Python2",
     "#FFE771"
    ],
    [
     "Python3",
     "python3",
     "Python3",
     "#FFE771"
    ],
    [
     "R",
     "ir",
     "R",
     "#DCDCDA"
    ],
    [
     "SoS",
     "sos",
     "",
     ""
    ],
    [
     "TypeScript",
     "typescript",
     "TypeScript",
     "#c8e1ae"
    ],
    [
     "sas",
     "sas",
     "",
     ""
    ]
   ],
   "panel": {
    "displayed": true,
    "height": 0,
    "style": "side"
   }
  }
 },
 "nbformat": 4,
 "nbformat_minor": 2
}
