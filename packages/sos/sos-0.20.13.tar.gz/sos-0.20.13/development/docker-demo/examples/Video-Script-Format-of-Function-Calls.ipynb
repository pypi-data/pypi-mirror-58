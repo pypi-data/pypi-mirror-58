{
 "cells": [
  {
   "cell_type": "code",
   "execution_count": 1,
   "metadata": {
    "kernel": "SoS"
   },
   "outputs": [
    {
     "name": "stdout",
     "output_type": "stream",
     "text": [
      "I am in directory /Users/bpeng1/sos/development/examples\n",
      "I am the second line\n"
     ]
    }
   ],
   "source": [
    "sh:\n",
    "echo I am in directory `pwd`\n",
    "echo I am the second line"
   ]
  },
  {
   "cell_type": "code",
   "execution_count": 2,
   "metadata": {
    "kernel": "SoS"
   },
   "outputs": [
    {
     "name": "stdout",
     "output_type": "stream",
     "text": [
      "I am in directory /Users/bpeng1/sos/development/examples\n",
      "I am the second line\n"
     ]
    }
   ],
   "source": [
    "sh('''\\\n",
    "echo I am in directory `pwd`\n",
    "echo I am the second line\n",
    "''')"
   ]
  },
  {
   "cell_type": "code",
   "execution_count": 3,
   "metadata": {
    "kernel": "SoS"
   },
   "outputs": [
    {
     "name": "stdout",
     "output_type": "stream",
     "text": [
      "I am in directory /Users/bpeng1/sos/development/examples\n",
      "I am the second line\n",
      "This is Python\n"
     ]
    }
   ],
   "source": [
    "sh:\n",
    "echo I am in directory `pwd`\n",
    "echo I am the second line\n",
    "python:\n",
    "print('This is Python')"
   ]
  },
  {
   "cell_type": "code",
   "execution_count": 4,
   "metadata": {
    "kernel": "SoS"
   },
   "outputs": [
    {
     "name": "stdout",
     "output_type": "stream",
     "text": [
      "I am in directory /Users/bpeng1/sos/development/examples\n",
      "I am the second line\n",
      "This is Python\n"
     ]
    }
   ],
   "source": [
    "sh:\n",
    "  echo I am in directory `pwd`\n",
    "  echo I am the second line\n",
    "python:\n",
    "  print('This is Python')"
   ]
  },
  {
   "cell_type": "code",
   "execution_count": 5,
   "metadata": {
    "kernel": "SoS"
   },
   "outputs": [
    {
     "name": "stdout",
     "output_type": "stream",
     "text": [
      "I am in directory /Users/bpeng1/sos/development\n",
      "I am the second line\n"
     ]
    }
   ],
   "source": [
    "sh: workdir='..'\n",
    "  echo I am in directory `pwd`\n",
    "  echo I am the second line"
   ]
  },
  {
   "cell_type": "code",
   "execution_count": 6,
   "metadata": {
    "kernel": "SoS"
   },
   "outputs": [
    {
     "name": "stdout",
     "output_type": "stream",
     "text": [
      "I see number {number}\r\n"
     ]
    }
   ],
   "source": [
    "number = 6\n",
    "sh:\n",
    "  echo I see number {number}"
   ]
  },
  {
   "cell_type": "code",
   "execution_count": 7,
   "metadata": {
    "kernel": "SoS"
   },
   "outputs": [
    {
     "name": "stdout",
     "output_type": "stream",
     "text": [
      "I see number 36\r\n"
     ]
    }
   ],
   "source": [
    "number = 6\n",
    "sh: expand=True\n",
    "  echo I see number {number**2}"
   ]
  },
  {
   "cell_type": "code",
   "execution_count": 8,
   "metadata": {
    "kernel": "SoS"
   },
   "outputs": [
    {
     "name": "stdout",
     "output_type": "stream",
     "text": [
      "I see number 36\r\n"
     ]
    }
   ],
   "source": [
    "sh(f'''\n",
    "  echo I see number {number**2}\n",
    "''')"
   ]
  },
  {
   "cell_type": "code",
   "execution_count": 9,
   "metadata": {
    "kernel": "SoS"
   },
   "outputs": [
    {
     "name": "stdout",
     "output_type": "stream",
     "text": [
      "The number 6 is greater than 1\r\n"
     ]
    }
   ],
   "source": [
    "number = 6\n",
    "R: expand=True\n",
    "   if ({number} > 1) {{\n",
    "       cat(\"The number {number} is greater than 1\\n\")\n",
    "   }}"
   ]
  },
  {
   "cell_type": "code",
   "execution_count": 10,
   "metadata": {
    "kernel": "SoS"
   },
   "outputs": [
    {
     "name": "stdout",
     "output_type": "stream",
     "text": [
      "The number {number} is greater than 1\r\n"
     ]
    }
   ],
   "source": [
    "number = 6\n",
    "R: expand='${ }'\n",
    "   if (${number} > 1) {\n",
    "       cat(\"The number {number} is greater than 1\\n\")\n",
    "   }"
   ]
  },
  {
   "cell_type": "code",
   "execution_count": null,
   "metadata": {
    "collapsed": true
   },
   "outputs": [],
   "source": []
  }
 ],
 "metadata": {
  "kernelspec": {
   "display_name": "SoS",
   "language": "sos",
   "name": "sos"
  },
  "language_info": {
   "codemirror_mode": "sos",
   "file_extension": ".sos",
   "mimetype": "text/x-sos",
   "name": "sos",
   "nbconvert_exporter": "sos_notebook.converter.SoS_Exporter",
   "pygments_lexer": "sos"
  },
  "sos": {
   "default_kernel": "SoS",
   "kernels": [
    [
     "Bash",
     "bash",
     "Bash",
     "#E6EEFF"
    ],
    [
     "JavaScript",
     "javascript",
     "JavaScript",
     "#c8e1ae"
    ],
    [
     "Julia",
     "julia-0.6",
     "Julia",
     "#ebd8eb"
    ],
    [
     "Python2",
     "python2",
     "Python2",
     "#FFE771"
    ],
    [
     "Python3",
     "python3",
     "Python3",
     "#FFE771"
    ],
    [
     "R",
     "ir",
     "R",
     "#DCDCDA"
    ],
    [
     "SoS",
     "sos",
     "",
     ""
    ],
    [
     "TypeScript",
     "typescript",
     "TypeScript",
     "#c8e1ae"
    ],
    [
     "sas",
     "sas",
     "",
     ""
    ]
   ],
   "panel": {
    "displayed": true,
    "height": 0,
    "style": "side"
   }
  }
 },
 "nbformat": 4,
 "nbformat_minor": 2
}
