{
 "cells": [
  {
   "cell_type": "markdown",
   "metadata": {
    "kernel": "SoS"
   },
   "source": [
    "### Using docker with SoS"
   ]
  },
  {
   "cell_type": "markdown",
   "metadata": {
    "kernel": "SoS"
   },
   "source": [
    "In the following example, a docker image `compbio/ngseasy-fastqc:1.0-r001` is used to process local fastq files"
   ]
  },
  {
   "cell_type": "code",
   "execution_count": 1,
   "metadata": {
    "kernel": "SoS"
   },
   "outputs": [
    {
     "data": {
      "text/html": [
       "<div class=\"sos_hint\">Pulling docker image compbio/ngseasy-fastqc:1.0-r001</div>"
      ]
     },
     "metadata": {},
     "output_type": "display_data"
    },
    {
     "name": "stdout",
     "output_type": "stream",
     "text": [
      "\n",
      "Started analysis of S20_R1.fastq\n",
      "Analysis complete for S20_R1.fastq\n",
      "Started analysis of S20_R2.fastq\n",
      "Analysis complete for S20_R2.fastq\n"
     ]
    }
   ],
   "source": [
    "%run --fastq_files data/*.fastq\n",
    "\n",
    "parameter: fastq_files = paths\n",
    "input: fastq_files\n",
    "\n",
    "sh: container='compbio/ngseasy-fastqc:1.0-r001', expand=True     \n",
    "    /usr/local/bin/fastqc {_input}"
   ]
  },
  {
   "cell_type": "code",
   "execution_count": 2,
   "metadata": {
    "kernel": "SoS"
   },
   "outputs": [
    {
     "data": {
      "text/html": [
       "<div class=\"sos_hint\">docker run --rm   -v /Users/bpeng1/sos/JupyterCon2018:/Users/bpeng1/sos/JupyterCon2018 -v /Users/bpeng1/sos/JupyterCon2018/tmpbjy4o06j/docker_run_98331.sh:/var/lib/sos/docker_run_98331.sh    -t  -w=/Users/bpeng1/sos/JupyterCon2018 -u 1985961928:895809667    compbio/ngseasy-fastqc:1.0-r001 /bin/sh /var/lib/sos/docker_run_98331.sh</div>"
      ]
     },
     "metadata": {},
     "output_type": "display_data"
    },
    {
     "name": "stdout",
     "output_type": "stream",
     "text": [
      "\n",
      "/usr/local/bin/fastqc /Users/bpeng1/sos/JupyterCon2018/data/S20_R1.fastq /Users/bpeng1/sos/JupyterCon2018/data/S20_R2.fastq\n",
      "\n"
     ]
    }
   ],
   "source": [
    "%rerun --fastq_files data/*.fastq -n"
   ]
  },
  {
   "cell_type": "code",
   "execution_count": null,
   "metadata": {
    "kernel": "SoS"
   },
   "outputs": [],
   "source": []
  }
 ],
 "metadata": {
  "kernelspec": {
   "display_name": "SoS",
   "language": "sos",
   "name": "sos"
  },
  "language_info": {
   "codemirror_mode": "sos",
   "file_extension": ".sos",
   "mimetype": "text/x-sos",
   "name": "sos",
   "nbconvert_exporter": "sos_notebook.converter.SoS_Exporter",
   "pygments_lexer": "sos"
  },
  "sos": {
   "default_kernel": "SoS",
   "kernels": [
    [
     "SoS",
     "sos",
     "",
     ""
    ]
   ],
   "panel": {
    "displayed": true,
    "height": 0,
    "style": "side"
   },
   "version": "0.9.16.7"
  }
 },
 "nbformat": 4,
 "nbformat_minor": 2
}
