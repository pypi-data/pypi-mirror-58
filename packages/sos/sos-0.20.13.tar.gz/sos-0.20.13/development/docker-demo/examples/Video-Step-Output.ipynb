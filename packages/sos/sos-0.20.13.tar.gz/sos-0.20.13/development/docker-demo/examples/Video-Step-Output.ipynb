{
 "cells": [
  {
   "cell_type": "code",
   "execution_count": 1,
   "metadata": {
    "collapsed": true,
    "kernel": "SoS"
   },
   "outputs": [],
   "source": [
    "!echo a > a.txt\n",
    "!echo b > b.txt\n",
    "!echo c > c.txt\n",
    "!echo d > d.txt"
   ]
  },
  {
   "cell_type": "code",
   "execution_count": 2,
   "metadata": {
    "kernel": "SoS"
   },
   "outputs": [
    {
     "name": "stdout",
     "output_type": "stream",
     "text": [
      "output = result.txt, step output = result.txt\n",
      "output = result.txt, step output = result.txt\n",
      "output = result.txt, step output = result.txt\n",
      "output = result.txt, step output = result.txt\n"
     ]
    }
   ],
   "source": [
    "%preview result.txt\n",
    "\n",
    "input: 'a.txt', 'b.txt', 'c.txt', 'd.txt', group_by=1\n",
    "output: 'result.txt'\n",
    "sh: expand=True\n",
    "  cat {_input} > {_output}\n",
    "\n",
    "print(f'output = {_output}, step output = {step_output}')"
   ]
  },
  {
   "cell_type": "code",
   "execution_count": 3,
   "metadata": {
    "kernel": "SoS"
   },
   "outputs": [
    {
     "name": "stderr",
     "output_type": "stream",
     "text": [
      "INFO: \u001b[32mscratch_0\u001b[0m (index=0) is \u001b[32mignored\u001b[0m due to saved signature\n",
      "INFO: \u001b[32mscratch_0\u001b[0m (index=1) is \u001b[32mignored\u001b[0m due to saved signature\n",
      "INFO: \u001b[32mscratch_0\u001b[0m (index=2) is \u001b[32mignored\u001b[0m due to saved signature\n",
      "INFO: \u001b[32mscratch_0\u001b[0m (index=3) is \u001b[32mignored\u001b[0m due to saved signature\n"
     ]
    }
   ],
   "source": [
    "input: 'a.txt', 'b.txt', 'c.txt', 'd.txt', group_by=1\n",
    "output: f'{_input:n}.bak'\n",
    "\n",
    "sh: expand=True\n",
    "  cat {_input} > {_output}\n",
    "\n",
    "print(f'output = {_output}, step output = {step_output}')"
   ]
  },
  {
   "cell_type": "code",
   "execution_count": 4,
   "metadata": {
    "kernel": "SoS"
   },
   "outputs": [
    {
     "name": "stderr",
     "output_type": "stream",
     "text": [
      "INFO: \u001b[32mdefault_10\u001b[0m (index=0) is \u001b[32mignored\u001b[0m due to saved signature\n",
      "INFO: \u001b[32mdefault_10\u001b[0m (index=1) is \u001b[32mignored\u001b[0m due to saved signature\n",
      "INFO: Skip group 3\n",
      "INFO: \u001b[32mdefault_10\u001b[0m (index=3) is \u001b[32mignored\u001b[0m due to saved signature\n"
     ]
    },
    {
     "name": "stdout",
     "output_type": "stream",
     "text": [
      "Step input: (output of previous step)\n",
      "a.bak b.bak d.bak\n"
     ]
    }
   ],
   "source": [
    "%run\n",
    "[10]\n",
    "input: 'a.txt', 'b.txt', 'c.txt', 'd.txt', group_by=1\n",
    "output: f'{_input:n}.bak'\n",
    "\n",
    "stop_if(_index==2, 'Skip group 3')\n",
    "\n",
    "sh: expand=True\n",
    "  cat {_input} > {_output}\n",
    "\n",
    "print(f'output = {_output}, step output = {step_output}')\n",
    "\n",
    "[20]\n",
    "print('Step input: (output of previous step)')\n",
    "print(step_input)"
   ]
  },
  {
   "cell_type": "code",
   "execution_count": null,
   "metadata": {
    "collapsed": true
   },
   "outputs": [],
   "source": []
  }
 ],
 "metadata": {
  "kernelspec": {
   "display_name": "SoS",
   "language": "sos",
   "name": "sos"
  },
  "language_info": {
   "codemirror_mode": "sos",
   "file_extension": ".sos",
   "mimetype": "text/x-sos",
   "name": "sos",
   "nbconvert_exporter": "sos_notebook.converter.SoS_Exporter",
   "pygments_lexer": "sos"
  },
  "sos": {
   "default_kernel": "SoS",
   "kernels": [
    [
     "SoS",
     "sos",
     "",
     ""
    ],
    [
     "Bash",
     "bash",
     "Bash",
     "#E6EEFF"
    ],
    [
     "JavaScript",
     "javascript",
     "JavaScript",
     "#c8e1ae"
    ],
    [
     "Julia",
     "julia-0.6",
     "Julia",
     "#ebd8eb"
    ],
    [
     "Python2",
     "python2",
     "Python2",
     "#FFE771"
    ],
    [
     "Python3",
     "python3",
     "Python3",
     "#FFE771"
    ],
    [
     "R",
     "ir",
     "R",
     "#DCDCDA"
    ],
    [
     "TypeScript",
     "typescript",
     "TypeScript",
     "#c8e1ae"
    ],
    [
     "sas",
     "sas",
     "",
     ""
    ]
   ],
   "panel": {
    "displayed": true,
    "height": 0,
    "style": "side"
   }
  }
 },
 "nbformat": 4,
 "nbformat_minor": 2
}
