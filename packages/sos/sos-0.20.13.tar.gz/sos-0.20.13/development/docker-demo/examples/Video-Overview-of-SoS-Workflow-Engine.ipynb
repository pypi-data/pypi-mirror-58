{
 "cells": [
  {
   "cell_type": "markdown",
   "metadata": {},
   "source": [
    "## Overview of SoS Notebook"
   ]
  },
  {
   "cell_type": "markdown",
   "metadata": {},
   "source": [
    "### Step 0: Two separate scripts under command line"
   ]
  },
  {
   "cell_type": "code",
   "execution_count": 1,
   "metadata": {
    "collapsed": true,
    "kernel": "SoS"
   },
   "outputs": [],
   "source": [
    "import pandas as pd\n",
    "data = pd.read_excel('DEG_list.xlsx')\n",
    "data.to_csv('DEG_list.csv')"
   ]
  },
  {
   "cell_type": "code",
   "execution_count": 2,
   "metadata": {
    "kernel": "R"
   },
   "outputs": [
    {
     "data": {
      "text/html": [
       "<strong>pdf:</strong> 2"
      ],
      "text/latex": [
       "\\textbf{pdf:} 2"
      ],
      "text/markdown": [
       "**pdf:** 2"
      ],
      "text/plain": [
       "pdf \n",
       "  2 "
      ]
     },
     "metadata": {},
     "output_type": "display_data"
    }
   ],
   "source": [
    "data = read.csv('DEG_list.csv')\n",
    "pdf('result.pdf')\n",
    "plot(data$log2FoldChange, data$stat)\n",
    "dev.off()"
   ]
  },
  {
   "cell_type": "markdown",
   "metadata": {},
   "source": [
    "### Step 1: book keeping"
   ]
  },
  {
   "cell_type": "code",
   "execution_count": 3,
   "metadata": {
    "kernel": "SoS"
   },
   "outputs": [
    {
     "name": "stdout",
     "output_type": "stream",
     "text": [
      "null device \n",
      "          1 \n"
     ]
    }
   ],
   "source": [
    "%run\n",
    "\n",
    "python:\n",
    "import pandas as pd\n",
    "data = pd.read_excel('DEG_list.xlsx')\n",
    "data.to_csv('DEG_list.csv')\n",
    "\n",
    "R:\n",
    "data = read.csv('DEG_list.csv')\n",
    "pdf('result.pdf')\n",
    "plot(data$log2FoldChange, data$stat)\n",
    "dev.off()"
   ]
  },
  {
   "cell_type": "markdown",
   "metadata": {},
   "source": [
    "### Step 2: indentation"
   ]
  },
  {
   "cell_type": "code",
   "execution_count": 4,
   "metadata": {
    "kernel": "SoS"
   },
   "outputs": [
    {
     "name": "stdout",
     "output_type": "stream",
     "text": [
      "null device \n",
      "          1 \n"
     ]
    }
   ],
   "source": [
    "python:\n",
    "    import pandas as pd\n",
    "    data = pd.read_excel('DEG_list.xlsx')\n",
    "    data.to_csv('DEG_list.csv')\n",
    "\n",
    "R:\n",
    "    data = read.csv('DEG_list.csv')\n",
    "    pdf('result.pdf')\n",
    "    plot(data$log2FoldChange, data$stat)\n",
    "    dev.off()"
   ]
  },
  {
   "cell_type": "markdown",
   "metadata": {},
   "source": [
    "### Step 3: Separate into two steps"
   ]
  },
  {
   "cell_type": "code",
   "execution_count": 5,
   "metadata": {
    "kernel": "SoS"
   },
   "outputs": [
    {
     "name": "stdout",
     "output_type": "stream",
     "text": [
      "null device \n",
      "          1 \n"
     ]
    }
   ],
   "source": [
    "%run\n",
    "[1]\n",
    "python:\n",
    "    import pandas as pd\n",
    "    data = pd.read_excel('DEG_list.xlsx')\n",
    "    data.to_csv('DEG_list.csv')\n",
    "\n",
    "[2]\n",
    "R:\n",
    "    data = read.csv('DEG_list.csv')\n",
    "    pdf('result.pdf')\n",
    "    plot(data$log2FoldChange, data$stat)\n",
    "    dev.off()"
   ]
  },
  {
   "cell_type": "markdown",
   "metadata": {},
   "source": [
    "### Step 4: Add some comments"
   ]
  },
  {
   "cell_type": "code",
   "execution_count": 6,
   "metadata": {
    "kernel": "SoS"
   },
   "outputs": [
    {
     "name": "stdout",
     "output_type": "stream",
     "text": [
      "null device \n",
      "          1 \n"
     ]
    }
   ],
   "source": [
    "%run\n",
    "[1 (convert data)]\n",
    "# convert data\n",
    "python:\n",
    "    import pandas as pd\n",
    "    data = pd.read_excel('DEG_list.xlsx')\n",
    "    data.to_csv('DEG_list.csv')\n",
    "\n",
    "[2 (data analysis)]\n",
    "# data analysis\n",
    "R:\n",
    "    data = read.csv('DEG_list.csv')\n",
    "    pdf('result.pdf')\n",
    "    plot(data$log2FoldChange, data$stat)\n",
    "    dev.off()"
   ]
  },
  {
   "cell_type": "markdown",
   "metadata": {},
   "source": [
    "### Step 5: Add parameter (use another file)"
   ]
  },
  {
   "cell_type": "code",
   "execution_count": 7,
   "metadata": {
    "kernel": "SoS"
   },
   "outputs": [
    {
     "name": "stdout",
     "output_type": "stream",
     "text": [
      "null device \n",
      "          1 \n"
     ]
    }
   ],
   "source": [
    "%run --deg-list DEG_list.xlsx\n",
    "\n",
    "parameter: deg_list = 'DEG_list.xslx'\n",
    "\n",
    "[proj_1 (convert data)]\n",
    "# convert data\n",
    "python: expand=True\n",
    "    import pandas as pd\n",
    "    data = pd.read_excel('{deg_list}')\n",
    "    data.to_csv('DEG_list.csv')\n",
    "\n",
    "[proj_2 (data analysis)]\n",
    "# data analysis\n",
    "R: \n",
    "    data = read.csv('DEG_list.csv')\n",
    "    pdf('result.pdf')\n",
    "    plot(data$log2FoldChange, data$stat)\n",
    "    dev.off()"
   ]
  },
  {
   "cell_type": "markdown",
   "metadata": {},
   "source": [
    "### Step 6: add input and output (rerun to skip step)"
   ]
  },
  {
   "cell_type": "code",
   "execution_count": 8,
   "metadata": {
    "kernel": "SoS"
   },
   "outputs": [
    {
     "name": "stderr",
     "output_type": "stream",
     "text": [
      "INFO: \u001b[32mconvert data\u001b[0m (index=0) is \u001b[32mignored\u001b[0m due to saved signature\n"
     ]
    },
    {
     "name": "stdout",
     "output_type": "stream",
     "text": [
      "null device \n",
      "          1 \n"
     ]
    }
   ],
   "source": [
    "%run --deg-list DEG_list.xlsx\n",
    "\n",
    "parameter: deg_list = 'DEG_list.xslx'\n",
    "\n",
    "[proj_1 (convert data)]\n",
    "input: deg_list\n",
    "output: 'DEG_list.csv'\n",
    "# convert data\n",
    "python: expand=True\n",
    "    import pandas as pd\n",
    "    data = pd.read_excel('{_input}')\n",
    "    data.to_csv('{_output}')\n",
    "\n",
    "[proj_2 (data analysis)]\n",
    "output: 'result.pdf'\n",
    "# data analysis\n",
    "R: expand=True\n",
    "    data = read.csv('{_input}')\n",
    "    pdf('{_output}')\n",
    "    plot(data$log2FoldChange, data$stat)\n",
    "    dev.off()"
   ]
  },
  {
   "cell_type": "markdown",
   "metadata": {},
   "source": [
    "## More on SoS Notebook"
   ]
  },
  {
   "cell_type": "markdown",
   "metadata": {},
   "source": [
    "### Step 7: make file style"
   ]
  },
  {
   "cell_type": "code",
   "execution_count": 9,
   "metadata": {
    "kernel": "SoS"
   },
   "outputs": [
    {
     "name": "stderr",
     "output_type": "stream",
     "text": [
      "INFO: \u001b[32mdata analysis\u001b[0m (index=0) is \u001b[32mignored\u001b[0m due to saved signature\n"
     ]
    }
   ],
   "source": [
    "%run --deg-list DEG_list.csv\n",
    "\n",
    "parameter: deg_list = 'DEG_list.xslx'\n",
    "\n",
    "[convert: provides='{FILENAME}.csv']\n",
    "input: f\"{FILENAME}.xlsx\"\n",
    "# convert data\n",
    "python: expand=True\n",
    "    import pandas as pd\n",
    "    data = pd.read_excel('{_input}')\n",
    "    data.to_csv('{_output}')\n",
    "\n",
    "[analysis (data analysis)]\n",
    "input: deg_list\n",
    "output: 'result.pdf'\n",
    "# data analysis\n",
    "R: expand=True\n",
    "    data = read.csv('{_input}')\n",
    "    pdf('{_output}')\n",
    "    plot(data$log2FoldChange, data$stat)\n",
    "    dev.off()"
   ]
  },
  {
   "cell_type": "markdown",
   "metadata": {},
   "source": [
    "### Step 8:  task (sos status)"
   ]
  },
  {
   "cell_type": "code",
   "execution_count": 10,
   "metadata": {
    "kernel": "SoS"
   },
   "outputs": [
    {
     "name": "stderr",
     "output_type": "stream",
     "text": [
      "\u001b[94mDEBUG\u001b[0m: \u001b[94mWorkflow analysis created with 1 sections: analysis_0\u001b[0m\n",
      "\u001b[94mDEBUG\u001b[0m: \u001b[94mInput of step convert_None is set to Undertermined: name 'FILENAME' is not defined\u001b[0m\n",
      "\u001b[94mDEBUG\u001b[0m: \u001b[94mExecuting \u001b[0m\u001b[32manalysis_0\u001b[0m\u001b[94m: \u001b[0m\n",
      "\u001b[94mDEBUG\u001b[0m: \u001b[94minput:    \u001b[0m\u001b[32m[file_target('DEG_list.csv')]\u001b[0m\u001b[94m\u001b[0m\n"
     ]
    },
    {
     "data": {
      "text/html": [
       "<table id=\"table_mac_pro_3563e6ae46396f00\" class=\"task_table\"><tr style=\"border: 0px\">\n",
       "                        <td style=\"border: 0px\">\n",
       "                        <i id=\"status_mac_pro_3563e6ae46396f00\"\n",
       "                            class=\"fa fa-2x fa-fw fa-square-o\"\n",
       "                            onmouseover=\"$('#status_mac_pro_3563e6ae46396f00').addClass('fa-stop task_hover').removeClass('fa-square-o')\"\n",
       "                            onmouseleave=\"$('#status_mac_pro_3563e6ae46396f00').addClass('fa-square-o').removeClass('fa-stop task_hover')\"\n",
       "                            onclick=\"kill_task('3563e6ae46396f00', 'mac_pro')\"\n",
       "                        ></i> </td>\n",
       "                        <td style=\"border:0px\"><a onclick=\"task_info('3563e6ae46396f00', 'mac_pro')\"><pre>3563e6ae46396f00</pre></a></td>\n",
       "                        <td style=\"border:0px\">&nbsp;</td>\n",
       "                        <td style=\"border:0px;text-align=right;\">\n",
       "                        <pre><time id=\"duration_mac_pro_3563e6ae46396f00\" class=\"pending\" datetime=\"1520024080000.0\">52 sec</time></pre></td>\n",
       "                        </tr>\n",
       "                        </table>"
      ]
     },
     "metadata": {},
     "output_type": "display_data"
    }
   ],
   "source": [
    "%run -v3 --deg-list DEG_list.csv -s force\n",
    "\n",
    "parameter: deg_list = 'DEG_list.xslx'\n",
    "\n",
    "[convert: provides='{FILENAME}.csv']\n",
    "input: f\"{FILENAME}.xlsx\"\n",
    "# convert data\n",
    "python: expand=True\n",
    "    import pandas as pd\n",
    "    data = pd.read_excel('{_input}')\n",
    "    data.to_csv('{_output}')\n",
    "\n",
    "[analysis (data analysis)]\n",
    "input: deg_list\n",
    "output: 'result.pdf'\n",
    "# data analysis\n",
    "task:\n",
    "R: expand=True\n",
    "    data = read.csv('{_input}')\n",
    "    pdf('{_output}')\n",
    "    plot(data$log2FoldChange, data$stat)\n",
    "    dev.off()"
   ]
  },
  {
   "cell_type": "markdown",
   "metadata": {},
   "source": [
    "### Step 9: Remote task"
   ]
  },
  {
   "cell_type": "code",
   "execution_count": null,
   "metadata": {
    "kernel": "SoS",
    "scrolled": true
   },
   "outputs": [],
   "source": [
    "## This step cannot be executed without\n",
    "## proper host definition\n",
    "%run --deg-list DEG_list.csv -s force \n",
    "\n",
    "parameter: deg_list = 'DEG_list.xslx'\n",
    "\n",
    "[convert: provides='{FILENAME}.csv']\n",
    "input: f\"{FILENAME}.xlsx\"\n",
    "# convert data\n",
    "python: expand=True\n",
    "    import pandas as pd\n",
    "    data = pd.read_excel('{input}')\n",
    "    data.to_csv('{output}')\n",
    "\n",
    "[analysis (data analysis)]\n",
    "input: deg_list\n",
    "output: 'result.pdf'\n",
    "# data analysis\n",
    "task:\n",
    "R: expand=True\n",
    "    data = read.csv('{_input}')\n",
    "    pdf('{_output}')\n",
    "    plot(data$log2FoldChange, data$stat)\n",
    "    dev.off()"
   ]
  },
  {
   "cell_type": "code",
   "execution_count": null,
   "metadata": {
    "collapsed": true
   },
   "outputs": [],
   "source": []
  }
 ],
 "metadata": {
  "kernelspec": {
   "display_name": "SoS",
   "language": "sos",
   "name": "sos"
  },
  "language_info": {
   "codemirror_mode": "sos",
   "file_extension": ".sos",
   "mimetype": "text/x-sos",
   "name": "sos",
   "nbconvert_exporter": "sos_notebook.converter.SoS_Exporter",
   "pygments_lexer": "sos"
  },
  "sos": {
   "default_kernel": "SoS",
   "kernels": [
    [
     "R",
     "ir",
     "R",
     "#DCDCDA"
    ],
    [
     "SoS",
     "sos",
     "",
     ""
    ],
    [
     "Bash",
     "bash",
     "Bash",
     "#E6EEFF"
    ],
    [
     "JavaScript",
     "javascript",
     "JavaScript",
     "#c8e1ae"
    ],
    [
     "Julia",
     "julia-0.6",
     "Julia",
     "#ebd8eb"
    ],
    [
     "Python2",
     "python2",
     "Python2",
     "#FFE771"
    ],
    [
     "Python3",
     "python3",
     "Python3",
     "#FFE771"
    ],
    [
     "TypeScript",
     "typescript",
     "TypeScript",
     "#c8e1ae"
    ],
    [
     "sas",
     "sas",
     "",
     ""
    ]
   ],
   "panel": {
    "displayed": true,
    "height": 0,
    "style": "side"
   }
  }
 },
 "nbformat": 4,
 "nbformat_minor": 2
}
