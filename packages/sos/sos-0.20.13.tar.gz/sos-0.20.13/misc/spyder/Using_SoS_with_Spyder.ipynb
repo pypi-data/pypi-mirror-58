{
 "cells": [
  {
   "cell_type": "markdown",
   "metadata": {},
   "source": [
    "# Using SoS with spyder"
   ]
  },
  {
   "cell_type": "markdown",
   "metadata": {},
   "source": [
    "[spyder](https://pythonhosted.org/spyder/) is a Python GUI that works well with ipython, and therefore SoS if you configure it properly. Spyder should be readily available if you use Anaconda python, or you can install spyder using \n",
    "\n",
    "```\n",
    "$ conda install spyder\n",
    "```\n",
    "if you are using anaconda python distribution, \n",
    "\n",
    "```\n",
    "$ pip install spyder\n",
    "```\n",
    "\n",
    "for regular python, or according to instructions on the [spyder website](https://pythonhosted.org/spyder/) if you have a more complex Python environment.\n",
    "\n",
    "Because spyder does not support third-party kernels and does not yet support `.sos` files, sos provides a script to monkey-patch Spyder to let it accept files with `.sos` extension, and accept kernel `sos` as its default kernel. Before using Spyder with sos, you should execute command"
   ]
  },
  {
   "cell_type": "code",
   "execution_count": 1,
   "metadata": {
    "collapsed": false
   },
   "outputs": [
    {
     "name": "stdout",
     "output_type": "stream",
     "text": [
      "\n",
      "Spyder is successfully patched to accept .sos format and sos kernel.\n",
      "Use \n",
      "\n",
      "    $ spyder --kernel sos\n",
      "\n",
      "to start spyder with sos kernel\n"
     ]
    }
   ],
   "source": [
    "!sos patch-spyder"
   ]
  },
  {
   "cell_type": "markdown",
   "metadata": {},
   "source": [
    "to patch spyder. After spyder is successfully patched, you can start spyder with a SoS kernel using command\n",
    "\n",
    "```\n",
    "$ spyder --kernel sos\n",
    "```\n",
    "\n",
    "Alternatively, you can connect spyder to an existing qtconsole with sos kernel by\n",
    "\n",
    "* Start a qtconsole with sos kernel using command `jupyter qtconsole --kernel sos`\n",
    "* Record connection file id from command line, or by running `%connect_info` from the console if you cannot find it.\n",
    "* Start `spyder`, select `consoles` -> `Connect an existing kernel`. Put connection id and connect.\n",
    "\n",
    "It is certainly possible to set up a remote Jupyter server and connect to a remote SoS kernel but this usage is beyond the scope of this tutorial.\n",
    "\n",
    "<font color=\"red\">NOTE:</font> Monkey-patching a rapid-evolving project such as Spyder is difficult. Please [let us know](https://github.com/vatlab/SOS/issues) if the script fails to patch certain version of spyder or if Spyder does not work well after the patch."
   ]
  },
  {
   "cell_type": "markdown",
   "metadata": {},
   "source": [
    "### Open and edit files, the `%edit` magic\n",
    "\n",
    "You can open and edit files using Spyder's menu system. However, it can be more convenient to open files from within the SoS console. The SoS kernel provides a magic called `%edit` to do this. It supports string interpolation so you can run\n",
    "\n",
    "```\n",
    "%edit ${sdir}/myscript.sos\n",
    "```\n",
    "\n",
    "if `sdir` is a variable pointing to your script directory. This magic also provides an option `--cd` that changes the current working directory to the script directory so\n",
    "\n",
    "```\n",
    "%edit --cd ${sdir}/myscript.sos\n",
    "```\n",
    "would be equivalent to\n",
    "\n",
    "```\n",
    "%edit ${sdir}/myscript.sos\n",
    "%cd ${sdir}\n",
    "```"
   ]
  },
  {
   "cell_type": "markdown",
   "metadata": {},
   "source": [
    "### Executing by line or by cell\n",
    "\n",
    "Whereas in batch SoS scripts statements are divided into **steps** using section headers (`[section: options]`), it uses cell magic `%cell` to define cells corresponding to cells of Jupyter notebooks. Basically, whenever you would like to define a new cell or separate an existing cell into two cells, you simple insert\n",
    "\n",
    "    ```\n",
    "    %cell\n",
    "    ```\n",
    "\n",
    "as the beginning of the new cell. Removing a cell or merging two existing cells can be easily achieved by removing a `%cell` line. Although a cell usually does not contain any step, it can contain multiple steps even multiple workflows. When you submit a line, a section (of multiple lines), or a cell to SoS, it execute the input as a complete workflow and returns the result of the last expression.\n",
    "\n",
    "Spyder provides shortcuts for executing current line, selection, or cell. It is highly configurable so you can define your own shortcuts for\n",
    "\n",
    "* run current line or selection (default to `F9`, which is awkward on my mac so I redefined it to **Ctrl-Enter**)\n",
    "* run current cell (**Cmd-Enter**)\n",
    "* execute current cell and move to next (**Shift-Enter**, the same as Jupter)"
   ]
  },
  {
   "cell_type": "markdown",
   "metadata": {},
   "source": [
    "## Object inspector and Variable explorer\n",
    "\n",
    "Object inspector is useful for getting help message (e.g. definition of a function) of object. All you need to do is to navigate to the beginning of the work and press `Cmd-i` (Mac OSX).\n",
    "\n",
    "Variable explorer lists all variables in the SoS namespace. This saves your effort of using magic `%dict`, or `%preview vars` because all variables are right in the window and can be viewed easily. "
   ]
  },
  {
   "cell_type": "code",
   "execution_count": null,
   "metadata": {
    "collapsed": true
   },
   "outputs": [],
   "source": []
  }
 ],
 "metadata": {
  "anaconda-cloud": {},
  "kernelspec": {
   "display_name": "SoS",
   "language": "sos",
   "name": "sos"
  },
  "language_info": {
   "codemirror_mode": "sos",
   "file_extension": ".sos",
   "mimetype": "text/x-sos",
   "name": "sos",
   "nbconvert_exporter": "sos.jupyter.converter.SoS_Exporter",
   "pygments_lexer": "sos"
  },
  "toc": {
   "nav_menu": {
    "height": "121px",
    "width": "254px"
   },
   "navigate_menu": true,
   "number_sections": true,
   "sideBar": true,
   "threshold": 4,
   "toc_cell": false,
   "toc_section_display": "block",
   "toc_window_display": false
  }
 },
 "nbformat": 4,
 "nbformat_minor": 1
}
