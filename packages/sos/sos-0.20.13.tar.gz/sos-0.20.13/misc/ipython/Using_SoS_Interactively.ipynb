{
 "cells": [
  {
   "cell_type": "markdown",
   "metadata": {},
   "source": [
    "# Using SoS interactively"
   ]
  },
  {
   "cell_type": "markdown",
   "metadata": {},
   "source": [
    "There are a number of ways to use SoS interactively. Unless you are familiar with [iPython console](https://ipython.org/), [Jupyter](http://jupyter.org/), or [Spyder](https://pythonhosted.org/spyder/) and already have a preferred method of working, the differences between these working environments can be confusing. The following table tries to list the characteristics of these methods to make it easier for you to get started."
   ]
  },
  {
   "cell_type": "markdown",
   "metadata": {},
   "source": [
    "| | ipython kernel + sos magic | qtconsole | editor + qtconsole | jupyter notebook | Spyder|\n",
    "|:---|:--- |:----- |:----- |:---- |:---- |\n",
    "|**Description**| Native ipython environments with SoS magic | Console with sos kernel | External editor with help from a console window | Web interface with mixed scripts and results | IDE with integrated editor and console | \n",
    "|**Good for** | ipython with separate sos environment| Test small pieces of code | Writing of serious SoS workflows with occasional need for testing | Interactive data analysis with mixed scripts and results (notebook style) | Interactive data analysis resulting in a complete script |\n",
    "|**Command line**| `ipython`, `jupyter qtconsole`, `jupyter notebook` with Python kernel, or `spyder`| `jupyter qtconsole --kernel sos` | `jupyter qtconsole --kernel sos` | `jupyter notebook` with sos kernel| `spyder --kernel sos`| \n",
    "|**kernel**| ipython with sos magic | sos | sos | sos | sos |\n",
    "|**Script editor**| Depends |  None | Editor of your choice (e.g. vim) | jupyter (web) | Spyder (editor) |\n",
    "|**Enter commands via**| ipython command line | qtconsole (enter command)| qtconsole (copy/paste or `%paste` from editor) | jupyter (web) | Spyder (console)|\n",
    "|**Subkernel support**| No, but can use other iPython magic such as `%%R`| Yes | Yes | Yes | Yes |\n",
    "|**Preview support**| No | Yes | Yes | Yes | Yes |\n",
    "|**Variable Inspection**| No | No | No | Yes (`Alt-Tab`) | Yes (Variable Explorer) |\n",
    "|**Shell command**| Yes (through iPython) | Yes (through sos) | Yes | Yes | Yes |\n",
    "|**remote access**| If using Jupyter | No | No | Yes through remote Jupyter server | Yes if connects to remote Jupyter server |\n",
    "|**Magics**| Magics `%sos`, `%sosdict`, `%sospaste`, `%sosget`, `%sosput`, `%sosset` with ipython magics| `%with`, `%use`, `%paste`, `%set`, `%get`, `%preview`, `%run`, `%set`, `%restart`, `%dict`, `%cd`, `%sandbox`, ...| the same | the same | additional `%edit` magic|\n"
   ]
  },
  {
   "cell_type": "markdown",
   "metadata": {},
   "source": [
    "Basically, you can use\n",
    "\n",
    "* `ipython + sos magic` is not recommended unless you are a diehard iPython user and make extensive use of its other features. [learn more](Using_SoS_with_IPython.html) \n",
    "* An editor + `qtconsole` if you strongly prefer a certain editor (vim) [learn more](../documentation/Notebook_Interface.html).\n",
    "* `qtconsole` if you just want to play with sos for a bit [learn more](../documentation/Notebook_Interface.html).\n",
    "\n",
    "but most of you would prefer\n",
    "* Jupyter if you like its web interface and how it integrates input and results. [learn more](../documentation/Notebook_Interface.html)\n",
    "* Spyder if you like an IDE with separate editor and console windows [learn more](Using_SoS_with_Spyder.html)"
   ]
  },
  {
   "cell_type": "code",
   "execution_count": null,
   "metadata": {
    "collapsed": true
   },
   "outputs": [],
   "source": []
  }
 ],
 "metadata": {
  "anaconda-cloud": {},
  "kernelspec": {
   "display_name": "SoS",
   "language": "sos",
   "name": "sos"
  },
  "language_info": {
   "codemirror_mode": "sos",
   "file_extension": ".sos",
   "mimetype": "text/x-sos",
   "name": "sos",
   "nbconvert_exporter": "sos.jupyter.converter.SoS_Exporter",
   "pygments_lexer": "sos"
  },
  "sos": {
   "kernels": [
    [
     "Bash",
     "bash",
     "Bash",
     "#E6EEFF"
    ],
    [
     "JavaScript",
     "javascript",
     "JavaScript",
     "#00ff80"
    ],
    [
     "Python2",
     "python2",
     "Python2",
     "#F6FAEA"
    ],
    [
     "rik_local_remote",
     "rik_local_remote",
     "",
     ""
    ],
    [
     "R",
     "ir",
     "R",
     "#FDEDEC"
    ],
    [
     "Python3",
     "python3",
     "Python3",
     "#EAFAF1"
    ],
    [
     "SoS",
     "sos",
     "",
     ""
    ]
   ],
   "panel": {
    "displayed": true,
    "height": 0,
    "style": "side"
   }
  },
  "toc": {
   "colors": {
    "hover_highlight": "#DAA520",
    "running_highlight": "#FF0000",
    "selected_highlight": "#FFD700"
   },
   "moveMenuLeft": true,
   "nav_menu": {
    "height": "25px",
    "width": "254px"
   },
   "navigate_menu": true,
   "number_sections": true,
   "sideBar": true,
   "threshold": 4,
   "toc_cell": false,
   "toc_section_display": "block",
   "toc_window_display": false
  }
 },
 "nbformat": 4,
 "nbformat_minor": 2
}
