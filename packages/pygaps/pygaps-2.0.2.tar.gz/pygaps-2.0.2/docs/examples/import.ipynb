{
 "cells": [
  {
   "cell_type": "markdown",
   "metadata": {},
   "source": [
    "# Importing isotherms\n",
    "\n",
    "The first thing to do is to create some isotherms. Example data can be found in the */data* directory, in the pyGAPS JSON format. Let's import all the example data. First, we'll do the necessary top-level imports for the session."
   ]
  },
  {
   "cell_type": "code",
   "execution_count": 1,
   "metadata": {},
   "outputs": [],
   "source": [
    "import os\n",
    "import matplotlib.pyplot as plt\n",
    "import pygaps\n",
    "\n",
    "json_path = os.path.join(os.getcwd(), 'data')"
   ]
  },
  {
   "cell_type": "markdown",
   "metadata": {},
   "source": [
    "Then we'll import the json files. To do this, we need to find all the files with the *.json* extension and open them for reading. We can use the `pygaps.util_get_file_paths` function to get all the file paths in a folder.\n",
    "\n",
    "Then we'll open the files and create the isotherms with the `isotherm_from_json` method which converts a string, or simply by using the `isotherm_from_jsonf` method which reads a file directly. There are three folders:\n",
    "\n",
    "- One containing nitrogen adsorption data at 77 kelvin\n",
    "- Another with room-temperature adsorption of $CO_2$ combined with microcalorimetry\n",
    "- Some room-temperature isotherms which we will use for IAST calculations\n",
    "- Finally a set of isotherms with $C_4H_{10}$ at different temperature, for isosteric enthalpy calculations"
   ]
  },
  {
   "cell_type": "code",
   "execution_count": 2,
   "metadata": {},
   "outputs": [
    {
     "name": "stdout",
     "output_type": "stream",
     "text": [
      "Selected 5 isotherms with nitrogen at 77K\n"
     ]
    }
   ],
   "source": [
    "# Get the nitrogen data at 77 kelvin\n",
    "isotherms_n2_77k_paths = pygaps.util_get_file_paths(\n",
    "                            os.path.join(json_path, 'characterisation'), '.json')\n",
    "isotherms_n2_77k = []\n",
    "for filepath in isotherms_n2_77k_paths:\n",
    "    with open(filepath, 'r') as text_file:\n",
    "        isotherms_n2_77k.append(pygaps.isotherm_from_json(text_file.read()))\n",
    "        \n",
    "print('Selected', len(isotherms_n2_77k), 'isotherms with nitrogen at 77K')"
   ]
  },
  {
   "cell_type": "code",
   "execution_count": 3,
   "metadata": {},
   "outputs": [
    {
     "name": "stdout",
     "output_type": "stream",
     "text": [
      "Selected 2 room temperature calorimetry isotherms\n"
     ]
    }
   ],
   "source": [
    "# Get the combined isotherm-calorimetry data\n",
    "isotherms_calorimetry_paths = pygaps.util_get_file_paths(\n",
    "                            os.path.join(json_path, 'calorimetry'), '.json')\n",
    "isotherms_calorimetry = []\n",
    "for filepath in isotherms_calorimetry_paths:\n",
    "    isotherms_calorimetry.append(pygaps.isotherm_from_jsonf(filepath))\n",
    "        \n",
    "print('Selected', len(isotherms_calorimetry), 'room temperature calorimetry isotherms')"
   ]
  },
  {
   "cell_type": "code",
   "execution_count": 4,
   "metadata": {},
   "outputs": [
    {
     "name": "stdout",
     "output_type": "stream",
     "text": [
      "Selected 2 isotherms for IAST calculation\n"
     ]
    }
   ],
   "source": [
    "# Get the isotherms for IAST calculations\n",
    "isotherms_iast_paths = pygaps.util_get_file_paths(\n",
    "                            os.path.join(json_path, 'iast'), '.json')\n",
    "isotherms_iast = []\n",
    "for filepath in isotherms_iast_paths:\n",
    "    isotherms_iast.append(pygaps.isotherm_from_jsonf(filepath))\n",
    "        \n",
    "print('Selected', len(isotherms_iast), 'isotherms for IAST calculation')"
   ]
  },
  {
   "cell_type": "code",
   "execution_count": 5,
   "metadata": {},
   "outputs": [
    {
     "name": "stdout",
     "output_type": "stream",
     "text": [
      "Selected 3 isotherms for isosteric enthalpy calculation\n"
     ]
    }
   ],
   "source": [
    "# Get the isotherms for isosteric enthalpy calculations\n",
    "isotherms_isosteric_paths = pygaps.util_get_file_paths(\n",
    "                            os.path.join(json_path, 'isosteric'), '.json')\n",
    "isotherms_isosteric = []\n",
    "for filepath in isotherms_isosteric_paths:\n",
    "    isotherms_isosteric.append(pygaps.isotherm_from_jsonf(filepath))\n",
    "        \n",
    "print('Selected', len(isotherms_isosteric), 'isotherms for isosteric enthalpy calculation')"
   ]
  }
 ],
 "metadata": {
  "kernelspec": {
   "display_name": "Python 3",
   "language": "python",
   "name": "python3"
  },
  "language_info": {
   "codemirror_mode": {
    "name": "ipython",
    "version": 3
   },
   "file_extension": ".py",
   "mimetype": "text/x-python",
   "name": "python",
   "nbconvert_exporter": "python",
   "pygments_lexer": "ipython3",
   "version": "3.6.8"
  }
 },
 "nbformat": 4,
 "nbformat_minor": 2
}
